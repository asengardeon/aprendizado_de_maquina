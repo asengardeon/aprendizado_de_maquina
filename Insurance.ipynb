{
  "nbformat": 4,
  "nbformat_minor": 0,
  "metadata": {
    "colab": {
      "name": "Untitled1.ipynb",
      "provenance": [],
      "authorship_tag": "ABX9TyNM36Lct6Liaa+75fwhtOs9",
      "include_colab_link": true
    },
    "kernelspec": {
      "name": "python3",
      "display_name": "Python 3"
    }
  },
  "cells": [
    {
      "cell_type": "markdown",
      "metadata": {
        "id": "view-in-github",
        "colab_type": "text"
      },
      "source": [
        "<a href=\"https://colab.research.google.com/github/asengardeon/aprendizado_de_maquina/blob/master/Insurance.ipynb\" target=\"_parent\"><img src=\"https://colab.research.google.com/assets/colab-badge.svg\" alt=\"Open In Colab\"/></a>"
      ]
    },
    {
      "cell_type": "code",
      "metadata": {
        "id": "vJcbuFBOuKXq",
        "colab_type": "code",
        "colab": {
          "base_uri": "https://localhost:8080/",
          "height": 255
        },
        "outputId": "4a481983-de9a-4c6e-d43f-2d93354ce310"
      },
      "source": [
        "import pandas as pd\n",
        "import numpy as np\n",
        "import matplotlib.pyplot as plt\n",
        "\n",
        "df_insurance = pd.read_csv(\"insurance.csv\", sep=\",\", decimal=\".\" )\n",
        "df_insurance.head()\n",
        "df_insurance.info()\n"
      ],
      "execution_count": 4,
      "outputs": [
        {
          "output_type": "stream",
          "text": [
            "<class 'pandas.core.frame.DataFrame'>\n",
            "RangeIndex: 1344 entries, 0 to 1343\n",
            "Data columns (total 7 columns):\n",
            " #   Column    Non-Null Count  Dtype  \n",
            "---  ------    --------------  -----  \n",
            " 0   age       1344 non-null   int64  \n",
            " 1   sex       1344 non-null   object \n",
            " 2   bmi       1344 non-null   float64\n",
            " 3   children  1344 non-null   int64  \n",
            " 4   smoker    1344 non-null   object \n",
            " 5   region    1344 non-null   object \n",
            " 6   charges   1344 non-null   float64\n",
            "dtypes: float64(2), int64(2), object(3)\n",
            "memory usage: 73.6+ KB\n"
          ],
          "name": "stdout"
        }
      ]
    }
  ]
}