{
  "nbformat": 4,
  "nbformat_minor": 0,
  "metadata": {
    "colab": {
      "name": "Untitled3.ipynb",
      "provenance": [],
      "collapsed_sections": [],
      "mount_file_id": "https://github.com/asengardeon/aprendizado_de_maquina/blob/master/trabalho_final.ipynb",
      "authorship_tag": "ABX9TyNzcxPCzHxwgl+d7QxotvyR",
      "include_colab_link": true
    },
    "kernelspec": {
      "name": "python3",
      "display_name": "Python 3"
    }
  },
  "cells": [
    {
      "cell_type": "markdown",
      "metadata": {
        "id": "view-in-github",
        "colab_type": "text"
      },
      "source": [
        "<a href=\"https://colab.research.google.com/github/asengardeon/aprendizado_de_maquina/blob/master/trabalho_final.ipynb\" target=\"_parent\"><img src=\"https://colab.research.google.com/assets/colab-badge.svg\" alt=\"Open In Colab\"/></a>"
      ]
    },
    {
      "cell_type": "code",
      "metadata": {
        "id": "yKFJ90AvTN_o"
      },
      "source": [
        "import pandas as pd\n"
      ],
      "execution_count": 65,
      "outputs": []
    },
    {
      "cell_type": "code",
      "metadata": {
        "id": "O0V--n2HTPm3"
      },
      "source": [
        "df = pd.read_csv(\"/content/transformado.csv\", sep=\",\")\n",
        "\n"
      ],
      "execution_count": 66,
      "outputs": []
    },
    {
      "cell_type": "code",
      "metadata": {
        "id": "3OB2-jiG3bRu",
        "outputId": "bdc4d3d2-f9e8-40f1-deb3-71baf5b59ffd",
        "colab": {
          "base_uri": "https://localhost:8080/",
          "height": 394
        }
      },
      "source": [
        "df.head()"
      ],
      "execution_count": 83,
      "outputs": [
        {
          "output_type": "execute_result",
          "data": {
            "text/html": [
              "<div>\n",
              "<style scoped>\n",
              "    .dataframe tbody tr th:only-of-type {\n",
              "        vertical-align: middle;\n",
              "    }\n",
              "\n",
              "    .dataframe tbody tr th {\n",
              "        vertical-align: top;\n",
              "    }\n",
              "\n",
              "    .dataframe thead th {\n",
              "        text-align: right;\n",
              "    }\n",
              "</style>\n",
              "<table border=\"1\" class=\"dataframe\">\n",
              "  <thead>\n",
              "    <tr style=\"text-align: right;\">\n",
              "      <th></th>\n",
              "      <th>chave_unica</th>\n",
              "      <th>timestamp</th>\n",
              "      <th>codigo</th>\n",
              "      <th>data</th>\n",
              "      <th>cliente</th>\n",
              "      <th>saldo_credito</th>\n",
              "      <th>numero_dias_atraso</th>\n",
              "      <th>valor_titulo_atraso</th>\n",
              "      <th>numero_titulos_atraso</th>\n",
              "      <th>total_pedido</th>\n",
              "      <th>setor</th>\n",
              "      <th>status</th>\n",
              "      <th>critica_principal</th>\n",
              "      <th>critica_cdp</th>\n",
              "      <th>alcada1</th>\n",
              "      <th>alcada2</th>\n",
              "      <th>alcada3</th>\n",
              "      <th>codigo_critica</th>\n",
              "      <th>status_critica</th>\n",
              "      <th>alcada_critica</th>\n",
              "      <th>produto_critica</th>\n",
              "      <th>combo_critica</th>\n",
              "      <th>quantidade_critica</th>\n",
              "      <th>valor_critica</th>\n",
              "    </tr>\n",
              "  </thead>\n",
              "  <tbody>\n",
              "    <tr>\n",
              "      <th>0</th>\n",
              "      <td>05412909202029092020210000000003223001</td>\n",
              "      <td>05412909202029092020210000000003223001</td>\n",
              "      <td>1</td>\n",
              "      <td>2020-09-29 09:26:36</td>\n",
              "      <td>3223</td>\n",
              "      <td>0.0</td>\n",
              "      <td>0</td>\n",
              "      <td>0.0</td>\n",
              "      <td>0</td>\n",
              "      <td>0.0</td>\n",
              "      <td>210</td>\n",
              "      <td>4</td>\n",
              "      <td>78</td>\n",
              "      <td>0</td>\n",
              "      <td>2</td>\n",
              "      <td>8</td>\n",
              "      <td>0</td>\n",
              "      <td>78</td>\n",
              "      <td>4</td>\n",
              "      <td>2</td>\n",
              "      <td>18345.0</td>\n",
              "      <td>0.0</td>\n",
              "      <td>1.0</td>\n",
              "      <td>17.52</td>\n",
              "    </tr>\n",
              "    <tr>\n",
              "      <th>1</th>\n",
              "      <td>05412909202029092020210000000003223001</td>\n",
              "      <td>05412909202029092020210000000003223001</td>\n",
              "      <td>1</td>\n",
              "      <td>2020-09-29 09:26:36</td>\n",
              "      <td>3223</td>\n",
              "      <td>0.0</td>\n",
              "      <td>0</td>\n",
              "      <td>0.0</td>\n",
              "      <td>0</td>\n",
              "      <td>0.0</td>\n",
              "      <td>210</td>\n",
              "      <td>4</td>\n",
              "      <td>78</td>\n",
              "      <td>0</td>\n",
              "      <td>2</td>\n",
              "      <td>8</td>\n",
              "      <td>0</td>\n",
              "      <td>78</td>\n",
              "      <td>4</td>\n",
              "      <td>2</td>\n",
              "      <td>18345.0</td>\n",
              "      <td>0.0</td>\n",
              "      <td>1.0</td>\n",
              "      <td>17.52</td>\n",
              "    </tr>\n",
              "    <tr>\n",
              "      <th>2</th>\n",
              "      <td>05412909202029092020210000000003223001</td>\n",
              "      <td>05412909202029092020210000000003223001</td>\n",
              "      <td>1</td>\n",
              "      <td>2020-09-29 09:26:36</td>\n",
              "      <td>3223</td>\n",
              "      <td>0.0</td>\n",
              "      <td>0</td>\n",
              "      <td>0.0</td>\n",
              "      <td>0</td>\n",
              "      <td>0.0</td>\n",
              "      <td>210</td>\n",
              "      <td>4</td>\n",
              "      <td>78</td>\n",
              "      <td>0</td>\n",
              "      <td>2</td>\n",
              "      <td>8</td>\n",
              "      <td>0</td>\n",
              "      <td>78</td>\n",
              "      <td>4</td>\n",
              "      <td>2</td>\n",
              "      <td>18345.0</td>\n",
              "      <td>0.0</td>\n",
              "      <td>1.0</td>\n",
              "      <td>17.52</td>\n",
              "    </tr>\n",
              "    <tr>\n",
              "      <th>3</th>\n",
              "      <td>05412909202029092020210000000003223001</td>\n",
              "      <td>05412909202029092020210000000003223001</td>\n",
              "      <td>1</td>\n",
              "      <td>2020-09-29 09:26:36</td>\n",
              "      <td>3223</td>\n",
              "      <td>0.0</td>\n",
              "      <td>0</td>\n",
              "      <td>0.0</td>\n",
              "      <td>0</td>\n",
              "      <td>0.0</td>\n",
              "      <td>210</td>\n",
              "      <td>4</td>\n",
              "      <td>78</td>\n",
              "      <td>0</td>\n",
              "      <td>2</td>\n",
              "      <td>8</td>\n",
              "      <td>0</td>\n",
              "      <td>78</td>\n",
              "      <td>4</td>\n",
              "      <td>2</td>\n",
              "      <td>18345.0</td>\n",
              "      <td>0.0</td>\n",
              "      <td>1.0</td>\n",
              "      <td>17.52</td>\n",
              "    </tr>\n",
              "    <tr>\n",
              "      <th>4</th>\n",
              "      <td>05412909202029092020210000000020065001</td>\n",
              "      <td>05412909202029092020210000000020065001</td>\n",
              "      <td>1</td>\n",
              "      <td>2020-09-29 09:26:36</td>\n",
              "      <td>20065</td>\n",
              "      <td>2765.0</td>\n",
              "      <td>0</td>\n",
              "      <td>0.0</td>\n",
              "      <td>0</td>\n",
              "      <td>0.0</td>\n",
              "      <td>210</td>\n",
              "      <td>4</td>\n",
              "      <td>101</td>\n",
              "      <td>0</td>\n",
              "      <td>7</td>\n",
              "      <td>8</td>\n",
              "      <td>0</td>\n",
              "      <td>168</td>\n",
              "      <td>4</td>\n",
              "      <td>8</td>\n",
              "      <td>NaN</td>\n",
              "      <td>NaN</td>\n",
              "      <td>NaN</td>\n",
              "      <td>NaN</td>\n",
              "    </tr>\n",
              "  </tbody>\n",
              "</table>\n",
              "</div>"
            ],
            "text/plain": [
              "                              chave_unica  ... valor_critica\n",
              "0  05412909202029092020210000000003223001  ...         17.52\n",
              "1  05412909202029092020210000000003223001  ...         17.52\n",
              "2  05412909202029092020210000000003223001  ...         17.52\n",
              "3  05412909202029092020210000000003223001  ...         17.52\n",
              "4  05412909202029092020210000000020065001  ...           NaN\n",
              "\n",
              "[5 rows x 24 columns]"
            ]
          },
          "metadata": {
            "tags": []
          },
          "execution_count": 83
        }
      ]
    },
    {
      "cell_type": "code",
      "metadata": {
        "id": "AdLkALKWlb9T",
        "outputId": "772f5a89-c89b-42a5-9412-71deccaf089c",
        "colab": {
          "base_uri": "https://localhost:8080/",
          "height": 317
        }
      },
      "source": [
        "df.describe()"
      ],
      "execution_count": 68,
      "outputs": [
        {
          "output_type": "execute_result",
          "data": {
            "text/html": [
              "<div>\n",
              "<style scoped>\n",
              "    .dataframe tbody tr th:only-of-type {\n",
              "        vertical-align: middle;\n",
              "    }\n",
              "\n",
              "    .dataframe tbody tr th {\n",
              "        vertical-align: top;\n",
              "    }\n",
              "\n",
              "    .dataframe thead th {\n",
              "        text-align: right;\n",
              "    }\n",
              "</style>\n",
              "<table border=\"1\" class=\"dataframe\">\n",
              "  <thead>\n",
              "    <tr style=\"text-align: right;\">\n",
              "      <th></th>\n",
              "      <th>codigo</th>\n",
              "      <th>cliente</th>\n",
              "      <th>saldo_credito</th>\n",
              "      <th>numero_dias_atraso</th>\n",
              "      <th>valor_titulo_atraso</th>\n",
              "      <th>numero_titulos_atraso</th>\n",
              "      <th>total_pedido</th>\n",
              "      <th>setor</th>\n",
              "      <th>status</th>\n",
              "      <th>critica_principal</th>\n",
              "      <th>critica_cdp</th>\n",
              "      <th>alcada1</th>\n",
              "      <th>alcada2</th>\n",
              "      <th>alcada3</th>\n",
              "      <th>codigo_critica</th>\n",
              "      <th>status_critica</th>\n",
              "      <th>alcada_critica</th>\n",
              "      <th>produto_critica</th>\n",
              "      <th>combo_critica</th>\n",
              "      <th>quantidade_critica</th>\n",
              "      <th>valor_critica</th>\n",
              "    </tr>\n",
              "  </thead>\n",
              "  <tbody>\n",
              "    <tr>\n",
              "      <th>count</th>\n",
              "      <td>18123.000000</td>\n",
              "      <td>18123.000000</td>\n",
              "      <td>18123.000000</td>\n",
              "      <td>18123.000000</td>\n",
              "      <td>18123.000000</td>\n",
              "      <td>18123.000000</td>\n",
              "      <td>18123.000000</td>\n",
              "      <td>18123.000000</td>\n",
              "      <td>18123.000000</td>\n",
              "      <td>18123.000000</td>\n",
              "      <td>18123.000000</td>\n",
              "      <td>18123.000000</td>\n",
              "      <td>18123.000000</td>\n",
              "      <td>18123.0</td>\n",
              "      <td>18123.000000</td>\n",
              "      <td>18123.000000</td>\n",
              "      <td>18123.000000</td>\n",
              "      <td>9419.000000</td>\n",
              "      <td>9419.0</td>\n",
              "      <td>9419.000000</td>\n",
              "      <td>9419.000000</td>\n",
              "    </tr>\n",
              "    <tr>\n",
              "      <th>mean</th>\n",
              "      <td>8963.210892</td>\n",
              "      <td>52087.899465</td>\n",
              "      <td>6840.899029</td>\n",
              "      <td>4.730563</td>\n",
              "      <td>836.134382</td>\n",
              "      <td>0.311703</td>\n",
              "      <td>1878.486654</td>\n",
              "      <td>390.769685</td>\n",
              "      <td>3.563428</td>\n",
              "      <td>71.021023</td>\n",
              "      <td>2.366165</td>\n",
              "      <td>4.764333</td>\n",
              "      <td>7.510953</td>\n",
              "      <td>0.0</td>\n",
              "      <td>106.637091</td>\n",
              "      <td>2.828064</td>\n",
              "      <td>5.056006</td>\n",
              "      <td>5668.931946</td>\n",
              "      <td>0.0</td>\n",
              "      <td>17.868670</td>\n",
              "      <td>769.269625</td>\n",
              "    </tr>\n",
              "    <tr>\n",
              "      <th>std</th>\n",
              "      <td>87540.945702</td>\n",
              "      <td>26549.866886</td>\n",
              "      <td>26924.632165</td>\n",
              "      <td>42.951567</td>\n",
              "      <td>4581.234943</td>\n",
              "      <td>1.405882</td>\n",
              "      <td>6669.573770</td>\n",
              "      <td>207.220943</td>\n",
              "      <td>1.117178</td>\n",
              "      <td>49.206855</td>\n",
              "      <td>14.561186</td>\n",
              "      <td>2.728615</td>\n",
              "      <td>0.499894</td>\n",
              "      <td>0.0</td>\n",
              "      <td>44.156792</td>\n",
              "      <td>1.479101</td>\n",
              "      <td>2.671139</td>\n",
              "      <td>5877.739248</td>\n",
              "      <td>0.0</td>\n",
              "      <td>38.297647</td>\n",
              "      <td>1678.232990</td>\n",
              "    </tr>\n",
              "    <tr>\n",
              "      <th>min</th>\n",
              "      <td>0.000000</td>\n",
              "      <td>154.000000</td>\n",
              "      <td>-26102.540000</td>\n",
              "      <td>0.000000</td>\n",
              "      <td>0.000000</td>\n",
              "      <td>0.000000</td>\n",
              "      <td>0.000000</td>\n",
              "      <td>100.000000</td>\n",
              "      <td>1.000000</td>\n",
              "      <td>0.000000</td>\n",
              "      <td>0.000000</td>\n",
              "      <td>1.000000</td>\n",
              "      <td>7.000000</td>\n",
              "      <td>0.0</td>\n",
              "      <td>1.000000</td>\n",
              "      <td>1.000000</td>\n",
              "      <td>1.000000</td>\n",
              "      <td>253.000000</td>\n",
              "      <td>0.0</td>\n",
              "      <td>1.000000</td>\n",
              "      <td>0.000000</td>\n",
              "    </tr>\n",
              "    <tr>\n",
              "      <th>25%</th>\n",
              "      <td>1.000000</td>\n",
              "      <td>36731.000000</td>\n",
              "      <td>0.000000</td>\n",
              "      <td>0.000000</td>\n",
              "      <td>0.000000</td>\n",
              "      <td>0.000000</td>\n",
              "      <td>0.000000</td>\n",
              "      <td>204.000000</td>\n",
              "      <td>4.000000</td>\n",
              "      <td>4.000000</td>\n",
              "      <td>0.000000</td>\n",
              "      <td>2.000000</td>\n",
              "      <td>7.000000</td>\n",
              "      <td>0.0</td>\n",
              "      <td>78.000000</td>\n",
              "      <td>1.000000</td>\n",
              "      <td>2.000000</td>\n",
              "      <td>988.000000</td>\n",
              "      <td>0.0</td>\n",
              "      <td>2.000000</td>\n",
              "      <td>45.480000</td>\n",
              "    </tr>\n",
              "    <tr>\n",
              "      <th>50%</th>\n",
              "      <td>1.000000</td>\n",
              "      <td>48250.000000</td>\n",
              "      <td>2210.000000</td>\n",
              "      <td>0.000000</td>\n",
              "      <td>0.000000</td>\n",
              "      <td>0.000000</td>\n",
              "      <td>0.000000</td>\n",
              "      <td>309.000000</td>\n",
              "      <td>4.000000</td>\n",
              "      <td>78.000000</td>\n",
              "      <td>0.000000</td>\n",
              "      <td>5.000000</td>\n",
              "      <td>8.000000</td>\n",
              "      <td>0.0</td>\n",
              "      <td>120.000000</td>\n",
              "      <td>4.000000</td>\n",
              "      <td>7.000000</td>\n",
              "      <td>2350.000000</td>\n",
              "      <td>0.0</td>\n",
              "      <td>4.000000</td>\n",
              "      <td>144.320000</td>\n",
              "    </tr>\n",
              "    <tr>\n",
              "      <th>75%</th>\n",
              "      <td>1.000000</td>\n",
              "      <td>71722.000000</td>\n",
              "      <td>4268.000000</td>\n",
              "      <td>0.000000</td>\n",
              "      <td>0.000000</td>\n",
              "      <td>0.000000</td>\n",
              "      <td>0.000000</td>\n",
              "      <td>510.000000</td>\n",
              "      <td>4.000000</td>\n",
              "      <td>101.000000</td>\n",
              "      <td>0.000000</td>\n",
              "      <td>7.000000</td>\n",
              "      <td>8.000000</td>\n",
              "      <td>0.0</td>\n",
              "      <td>154.000000</td>\n",
              "      <td>4.000000</td>\n",
              "      <td>7.000000</td>\n",
              "      <td>9083.000000</td>\n",
              "      <td>0.0</td>\n",
              "      <td>13.000000</td>\n",
              "      <td>677.520000</td>\n",
              "    </tr>\n",
              "    <tr>\n",
              "      <th>max</th>\n",
              "      <td>873169.000000</td>\n",
              "      <td>99953.000000</td>\n",
              "      <td>520788.620000</td>\n",
              "      <td>588.000000</td>\n",
              "      <td>68362.960000</td>\n",
              "      <td>24.000000</td>\n",
              "      <td>71335.640000</td>\n",
              "      <td>899.000000</td>\n",
              "      <td>5.000000</td>\n",
              "      <td>168.000000</td>\n",
              "      <td>158.000000</td>\n",
              "      <td>10.000000</td>\n",
              "      <td>8.000000</td>\n",
              "      <td>0.0</td>\n",
              "      <td>168.000000</td>\n",
              "      <td>5.000000</td>\n",
              "      <td>10.000000</td>\n",
              "      <td>21666.000000</td>\n",
              "      <td>0.0</td>\n",
              "      <td>296.000000</td>\n",
              "      <td>14058.000000</td>\n",
              "    </tr>\n",
              "  </tbody>\n",
              "</table>\n",
              "</div>"
            ],
            "text/plain": [
              "              codigo       cliente  ...  quantidade_critica  valor_critica\n",
              "count   18123.000000  18123.000000  ...         9419.000000    9419.000000\n",
              "mean     8963.210892  52087.899465  ...           17.868670     769.269625\n",
              "std     87540.945702  26549.866886  ...           38.297647    1678.232990\n",
              "min         0.000000    154.000000  ...            1.000000       0.000000\n",
              "25%         1.000000  36731.000000  ...            2.000000      45.480000\n",
              "50%         1.000000  48250.000000  ...            4.000000     144.320000\n",
              "75%         1.000000  71722.000000  ...           13.000000     677.520000\n",
              "max    873169.000000  99953.000000  ...          296.000000   14058.000000\n",
              "\n",
              "[8 rows x 21 columns]"
            ]
          },
          "metadata": {
            "tags": []
          },
          "execution_count": 68
        }
      ]
    },
    {
      "cell_type": "code",
      "metadata": {
        "id": "_FvunUENlnIB",
        "outputId": "442ab672-caec-47c7-8fd8-709bb19591ab",
        "colab": {
          "base_uri": "https://localhost:8080/",
          "height": 544
        }
      },
      "source": [
        "df.info()"
      ],
      "execution_count": 69,
      "outputs": [
        {
          "output_type": "stream",
          "text": [
            "<class 'pandas.core.frame.DataFrame'>\n",
            "RangeIndex: 18123 entries, 0 to 18122\n",
            "Data columns (total 24 columns):\n",
            " #   Column                 Non-Null Count  Dtype  \n",
            "---  ------                 --------------  -----  \n",
            " 0   chave_unica            18123 non-null  object \n",
            " 1   timestamp              18123 non-null  object \n",
            " 2   codigo                 18123 non-null  int64  \n",
            " 3   data                   18123 non-null  object \n",
            " 4   cliente                18123 non-null  int64  \n",
            " 5   saldo_credito          18123 non-null  float64\n",
            " 6   numero_dias_atraso     18123 non-null  int64  \n",
            " 7   valor_titulo_atraso    18123 non-null  float64\n",
            " 8   numero_titulos_atraso  18123 non-null  int64  \n",
            " 9   total_pedido           18123 non-null  float64\n",
            " 10  setor                  18123 non-null  int64  \n",
            " 11  status                 18123 non-null  int64  \n",
            " 12  critica_principal      18123 non-null  int64  \n",
            " 13  critica_cdp            18123 non-null  int64  \n",
            " 14  alcada1                18123 non-null  int64  \n",
            " 15  alcada2                18123 non-null  int64  \n",
            " 16  alcada3                18123 non-null  int64  \n",
            " 17  codigo_critica         18123 non-null  int64  \n",
            " 18  status_critica         18123 non-null  int64  \n",
            " 19  alcada_critica         18123 non-null  int64  \n",
            " 20  produto_critica        9419 non-null   float64\n",
            " 21  combo_critica          9419 non-null   float64\n",
            " 22  quantidade_critica     9419 non-null   float64\n",
            " 23  valor_critica          9419 non-null   float64\n",
            "dtypes: float64(7), int64(14), object(3)\n",
            "memory usage: 3.3+ MB\n"
          ],
          "name": "stdout"
        }
      ]
    },
    {
      "cell_type": "code",
      "metadata": {
        "id": "aYA7cAvrmRvE",
        "outputId": "23d63482-3505-41d7-a317-89a3db1e3478",
        "colab": {
          "base_uri": "https://localhost:8080/",
          "height": 221
        }
      },
      "source": [
        "df.produto_critica.fillna(0)"
      ],
      "execution_count": 70,
      "outputs": [
        {
          "output_type": "execute_result",
          "data": {
            "text/plain": [
              "0        18345.0\n",
              "1        18345.0\n",
              "2        18345.0\n",
              "3        18345.0\n",
              "4            0.0\n",
              "          ...   \n",
              "18118        0.0\n",
              "18119        0.0\n",
              "18120        0.0\n",
              "18121        0.0\n",
              "18122        0.0\n",
              "Name: produto_critica, Length: 18123, dtype: float64"
            ]
          },
          "metadata": {
            "tags": []
          },
          "execution_count": 70
        }
      ]
    },
    {
      "cell_type": "code",
      "metadata": {
        "id": "txl8DLoQngGY",
        "outputId": "e8cdcfa1-53ea-4344-dc90-8a07898ed259",
        "colab": {
          "base_uri": "https://localhost:8080/",
          "height": 221
        }
      },
      "source": [
        "df.combo_critica.fillna(0.0)\n"
      ],
      "execution_count": 71,
      "outputs": [
        {
          "output_type": "execute_result",
          "data": {
            "text/plain": [
              "0        0.0\n",
              "1        0.0\n",
              "2        0.0\n",
              "3        0.0\n",
              "4        0.0\n",
              "        ... \n",
              "18118    0.0\n",
              "18119    0.0\n",
              "18120    0.0\n",
              "18121    0.0\n",
              "18122    0.0\n",
              "Name: combo_critica, Length: 18123, dtype: float64"
            ]
          },
          "metadata": {
            "tags": []
          },
          "execution_count": 71
        }
      ]
    },
    {
      "cell_type": "code",
      "metadata": {
        "id": "so4faW1fnhKY",
        "outputId": "59763deb-9c71-4d24-e684-ec391ea0a74a",
        "colab": {
          "base_uri": "https://localhost:8080/",
          "height": 221
        }
      },
      "source": [
        "df.quantidade_critica.fillna(0.0)\n"
      ],
      "execution_count": 72,
      "outputs": [
        {
          "output_type": "execute_result",
          "data": {
            "text/plain": [
              "0        1.0\n",
              "1        1.0\n",
              "2        1.0\n",
              "3        1.0\n",
              "4        0.0\n",
              "        ... \n",
              "18118    0.0\n",
              "18119    0.0\n",
              "18120    0.0\n",
              "18121    0.0\n",
              "18122    0.0\n",
              "Name: quantidade_critica, Length: 18123, dtype: float64"
            ]
          },
          "metadata": {
            "tags": []
          },
          "execution_count": 72
        }
      ]
    },
    {
      "cell_type": "code",
      "metadata": {
        "id": "L5xBssm7niWA",
        "outputId": "8d8207b4-b4f4-4ae9-8f3b-6ca7ea64dd4c",
        "colab": {
          "base_uri": "https://localhost:8080/",
          "height": 221
        }
      },
      "source": [
        "df.valor_critica.fillna(0.0)"
      ],
      "execution_count": 73,
      "outputs": [
        {
          "output_type": "execute_result",
          "data": {
            "text/plain": [
              "0        17.52\n",
              "1        17.52\n",
              "2        17.52\n",
              "3        17.52\n",
              "4         0.00\n",
              "         ...  \n",
              "18118     0.00\n",
              "18119     0.00\n",
              "18120     0.00\n",
              "18121     0.00\n",
              "18122     0.00\n",
              "Name: valor_critica, Length: 18123, dtype: float64"
            ]
          },
          "metadata": {
            "tags": []
          },
          "execution_count": 73
        }
      ]
    },
    {
      "cell_type": "code",
      "metadata": {
        "id": "3VO10kGeoA9q"
      },
      "source": [
        ""
      ],
      "execution_count": 73,
      "outputs": []
    },
    {
      "cell_type": "code",
      "metadata": {
        "id": "pit67yHwm4HI",
        "outputId": "a332bd08-b63f-4116-dc84-8e63fddc7ca4",
        "colab": {
          "base_uri": "https://localhost:8080/",
          "height": 544
        }
      },
      "source": [
        "df.info()"
      ],
      "execution_count": 76,
      "outputs": [
        {
          "output_type": "stream",
          "text": [
            "<class 'pandas.core.frame.DataFrame'>\n",
            "RangeIndex: 18123 entries, 0 to 18122\n",
            "Data columns (total 24 columns):\n",
            " #   Column                 Non-Null Count  Dtype  \n",
            "---  ------                 --------------  -----  \n",
            " 0   chave_unica            18123 non-null  object \n",
            " 1   timestamp              18123 non-null  object \n",
            " 2   codigo                 18123 non-null  int64  \n",
            " 3   data                   18123 non-null  object \n",
            " 4   cliente                18123 non-null  int64  \n",
            " 5   saldo_credito          18123 non-null  float64\n",
            " 6   numero_dias_atraso     18123 non-null  int64  \n",
            " 7   valor_titulo_atraso    18123 non-null  float64\n",
            " 8   numero_titulos_atraso  18123 non-null  int64  \n",
            " 9   total_pedido           18123 non-null  float64\n",
            " 10  setor                  18123 non-null  int64  \n",
            " 11  status                 18123 non-null  int64  \n",
            " 12  critica_principal      18123 non-null  int64  \n",
            " 13  critica_cdp            18123 non-null  int64  \n",
            " 14  alcada1                18123 non-null  int64  \n",
            " 15  alcada2                18123 non-null  int64  \n",
            " 16  alcada3                18123 non-null  int64  \n",
            " 17  codigo_critica         18123 non-null  int64  \n",
            " 18  status_critica         18123 non-null  int64  \n",
            " 19  alcada_critica         18123 non-null  int64  \n",
            " 20  produto_critica        9419 non-null   float64\n",
            " 21  combo_critica          9419 non-null   float64\n",
            " 22  quantidade_critica     9419 non-null   float64\n",
            " 23  valor_critica          9419 non-null   float64\n",
            "dtypes: float64(7), int64(14), object(3)\n",
            "memory usage: 3.3+ MB\n"
          ],
          "name": "stdout"
        }
      ]
    },
    {
      "cell_type": "code",
      "metadata": {
        "id": "FkRpJgaKoffX",
        "outputId": "7c73ee8a-586a-438b-8443-7ffe6f30f2eb",
        "colab": {
          "base_uri": "https://localhost:8080/",
          "height": 136
        }
      },
      "source": [
        "df.critica_cdp.value_counts()"
      ],
      "execution_count": 79,
      "outputs": [
        {
          "output_type": "execute_result",
          "data": {
            "text/plain": [
              "0      17539\n",
              "106      237\n",
              "66       208\n",
              "4         83\n",
              "41        44\n",
              "158       12\n",
              "Name: critica_cdp, dtype: int64"
            ]
          },
          "metadata": {
            "tags": []
          },
          "execution_count": 79
        }
      ]
    },
    {
      "cell_type": "code",
      "metadata": {
        "id": "NsI7UHYRomdI",
        "outputId": "f919940f-daa2-4288-c066-d697be5d48d5",
        "colab": {
          "base_uri": "https://localhost:8080/",
          "height": 442
        }
      },
      "source": [
        "df.critica_principal.value_counts()"
      ],
      "execution_count": 82,
      "outputs": [
        {
          "output_type": "execute_result",
          "data": {
            "text/plain": [
              "78     4619\n",
              "101    3544\n",
              "0      2832\n",
              "120    1817\n",
              "1       935\n",
              "62      882\n",
              "4       864\n",
              "156     628\n",
              "154     537\n",
              "2       273\n",
              "34      260\n",
              "168     244\n",
              "106     237\n",
              "66      208\n",
              "41       44\n",
              "118      41\n",
              "11       34\n",
              "68       32\n",
              "159      25\n",
              "167      23\n",
              "65       19\n",
              "158      12\n",
              "141      12\n",
              "48        1\n",
              "Name: critica_principal, dtype: int64"
            ]
          },
          "metadata": {
            "tags": []
          },
          "execution_count": 82
        }
      ]
    }
  ]
}