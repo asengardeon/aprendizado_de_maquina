{
  "nbformat": 4,
  "nbformat_minor": 0,
  "metadata": {
    "colab": {
      "name": "Turma 2 - Aula 1 - Regressão.ipynb",
      "provenance": [],
      "collapsed_sections": [],
      "include_colab_link": true
    },
    "kernelspec": {
      "name": "python3",
      "display_name": "Python 3"
    }
  },
  "cells": [
    {
      "cell_type": "markdown",
      "metadata": {
        "id": "view-in-github",
        "colab_type": "text"
      },
      "source": [
        "<a href=\"https://colab.research.google.com/github/asengardeon/aprendizado_de_maquina/blob/master/Turma_2_Aula_1_Regress%C3%A3o.ipynb\" target=\"_parent\"><img src=\"https://colab.research.google.com/assets/colab-badge.svg\" alt=\"Open In Colab\"/></a>"
      ]
    },
    {
      "cell_type": "code",
      "metadata": {
        "id": "_7SagrDuVTj1",
        "colab_type": "code",
        "colab": {}
      },
      "source": [
        "import pandas as pd\n",
        "import numpy as np\n",
        "import matplotlib.pyplot as plt "
      ],
      "execution_count": null,
      "outputs": []
    },
    {
      "cell_type": "code",
      "metadata": {
        "id": "UDsHDSPOtMgv",
        "colab_type": "code",
        "colab": {
          "base_uri": "https://localhost:8080/",
          "height": 204
        },
        "outputId": "70a19112-7de0-441a-840f-63e4dad16ad6"
      },
      "source": [
        "df_insurance = pd.read_csv('insurance.csv', sep=',', decimal='.')\n",
        "df_insurance.head()"
      ],
      "execution_count": null,
      "outputs": [
        {
          "output_type": "execute_result",
          "data": {
            "text/html": [
              "<div>\n",
              "<style scoped>\n",
              "    .dataframe tbody tr th:only-of-type {\n",
              "        vertical-align: middle;\n",
              "    }\n",
              "\n",
              "    .dataframe tbody tr th {\n",
              "        vertical-align: top;\n",
              "    }\n",
              "\n",
              "    .dataframe thead th {\n",
              "        text-align: right;\n",
              "    }\n",
              "</style>\n",
              "<table border=\"1\" class=\"dataframe\">\n",
              "  <thead>\n",
              "    <tr style=\"text-align: right;\">\n",
              "      <th></th>\n",
              "      <th>age</th>\n",
              "      <th>sex</th>\n",
              "      <th>bmi</th>\n",
              "      <th>children</th>\n",
              "      <th>smoker</th>\n",
              "      <th>region</th>\n",
              "      <th>charges</th>\n",
              "    </tr>\n",
              "  </thead>\n",
              "  <tbody>\n",
              "    <tr>\n",
              "      <th>0</th>\n",
              "      <td>19</td>\n",
              "      <td>female</td>\n",
              "      <td>27.900</td>\n",
              "      <td>0</td>\n",
              "      <td>yes</td>\n",
              "      <td>southwest</td>\n",
              "      <td>16884.92400</td>\n",
              "    </tr>\n",
              "    <tr>\n",
              "      <th>1</th>\n",
              "      <td>18</td>\n",
              "      <td>male</td>\n",
              "      <td>33.770</td>\n",
              "      <td>1</td>\n",
              "      <td>no</td>\n",
              "      <td>southeast</td>\n",
              "      <td>1725.55230</td>\n",
              "    </tr>\n",
              "    <tr>\n",
              "      <th>2</th>\n",
              "      <td>28</td>\n",
              "      <td>man</td>\n",
              "      <td>33.000</td>\n",
              "      <td>3</td>\n",
              "      <td>no</td>\n",
              "      <td>southeast</td>\n",
              "      <td>4449.46200</td>\n",
              "    </tr>\n",
              "    <tr>\n",
              "      <th>3</th>\n",
              "      <td>33</td>\n",
              "      <td>man</td>\n",
              "      <td>22.705</td>\n",
              "      <td>0</td>\n",
              "      <td>no</td>\n",
              "      <td>northwest</td>\n",
              "      <td>21984.47061</td>\n",
              "    </tr>\n",
              "    <tr>\n",
              "      <th>4</th>\n",
              "      <td>32</td>\n",
              "      <td>man</td>\n",
              "      <td>28.880</td>\n",
              "      <td>0</td>\n",
              "      <td>no</td>\n",
              "      <td>northwst</td>\n",
              "      <td>3866.85520</td>\n",
              "    </tr>\n",
              "  </tbody>\n",
              "</table>\n",
              "</div>"
            ],
            "text/plain": [
              "   age     sex     bmi  children smoker     region      charges\n",
              "0   19  female  27.900         0    yes  southwest  16884.92400\n",
              "1   18    male  33.770         1     no  southeast   1725.55230\n",
              "2   28     man  33.000         3     no  southeast   4449.46200\n",
              "3   33     man  22.705         0     no  northwest  21984.47061\n",
              "4   32     man  28.880         0     no   northwst   3866.85520"
            ]
          },
          "metadata": {
            "tags": []
          },
          "execution_count": 2
        }
      ]
    },
    {
      "cell_type": "code",
      "metadata": {
        "id": "EUKVMhhZtn_X",
        "colab_type": "code",
        "colab": {
          "base_uri": "https://localhost:8080/",
          "height": 255
        },
        "outputId": "707bf9b9-a238-4e59-fb49-efd5f7b8c585"
      },
      "source": [
        "df_insurance.info()"
      ],
      "execution_count": null,
      "outputs": [
        {
          "output_type": "stream",
          "text": [
            "<class 'pandas.core.frame.DataFrame'>\n",
            "RangeIndex: 1344 entries, 0 to 1343\n",
            "Data columns (total 7 columns):\n",
            " #   Column    Non-Null Count  Dtype  \n",
            "---  ------    --------------  -----  \n",
            " 0   age       1344 non-null   int64  \n",
            " 1   sex       1344 non-null   object \n",
            " 2   bmi       1344 non-null   float64\n",
            " 3   children  1344 non-null   int64  \n",
            " 4   smoker    1344 non-null   object \n",
            " 5   region    1344 non-null   object \n",
            " 6   charges   1344 non-null   float64\n",
            "dtypes: float64(2), int64(2), object(3)\n",
            "memory usage: 73.6+ KB\n"
          ],
          "name": "stdout"
        }
      ]
    },
    {
      "cell_type": "code",
      "metadata": {
        "id": "9R2sDFPVt8Gk",
        "colab_type": "code",
        "colab": {
          "base_uri": "https://localhost:8080/",
          "height": 297
        },
        "outputId": "1852ad0e-e964-466d-d1cb-953d714e91cc"
      },
      "source": [
        "df_insurance.describe()"
      ],
      "execution_count": null,
      "outputs": [
        {
          "output_type": "execute_result",
          "data": {
            "text/html": [
              "<div>\n",
              "<style scoped>\n",
              "    .dataframe tbody tr th:only-of-type {\n",
              "        vertical-align: middle;\n",
              "    }\n",
              "\n",
              "    .dataframe tbody tr th {\n",
              "        vertical-align: top;\n",
              "    }\n",
              "\n",
              "    .dataframe thead th {\n",
              "        text-align: right;\n",
              "    }\n",
              "</style>\n",
              "<table border=\"1\" class=\"dataframe\">\n",
              "  <thead>\n",
              "    <tr style=\"text-align: right;\">\n",
              "      <th></th>\n",
              "      <th>age</th>\n",
              "      <th>bmi</th>\n",
              "      <th>children</th>\n",
              "      <th>charges</th>\n",
              "    </tr>\n",
              "  </thead>\n",
              "  <tbody>\n",
              "    <tr>\n",
              "      <th>count</th>\n",
              "      <td>1344.000000</td>\n",
              "      <td>1344.000000</td>\n",
              "      <td>1344.000000</td>\n",
              "      <td>1344.000000</td>\n",
              "    </tr>\n",
              "    <tr>\n",
              "      <th>mean</th>\n",
              "      <td>38.972470</td>\n",
              "      <td>30.626417</td>\n",
              "      <td>1.090030</td>\n",
              "      <td>13211.179309</td>\n",
              "    </tr>\n",
              "    <tr>\n",
              "      <th>std</th>\n",
              "      <td>14.450676</td>\n",
              "      <td>6.131231</td>\n",
              "      <td>1.205011</td>\n",
              "      <td>12115.297713</td>\n",
              "    </tr>\n",
              "    <tr>\n",
              "      <th>min</th>\n",
              "      <td>-15.000000</td>\n",
              "      <td>15.070000</td>\n",
              "      <td>0.000000</td>\n",
              "      <td>0.000000</td>\n",
              "    </tr>\n",
              "    <tr>\n",
              "      <th>25%</th>\n",
              "      <td>26.000000</td>\n",
              "      <td>26.220000</td>\n",
              "      <td>0.000000</td>\n",
              "      <td>4687.444925</td>\n",
              "    </tr>\n",
              "    <tr>\n",
              "      <th>50%</th>\n",
              "      <td>39.000000</td>\n",
              "      <td>30.332500</td>\n",
              "      <td>1.000000</td>\n",
              "      <td>9303.297725</td>\n",
              "    </tr>\n",
              "    <tr>\n",
              "      <th>75%</th>\n",
              "      <td>51.000000</td>\n",
              "      <td>34.681250</td>\n",
              "      <td>2.000000</td>\n",
              "      <td>16579.959052</td>\n",
              "    </tr>\n",
              "    <tr>\n",
              "      <th>max</th>\n",
              "      <td>64.000000</td>\n",
              "      <td>53.130000</td>\n",
              "      <td>5.000000</td>\n",
              "      <td>63770.428010</td>\n",
              "    </tr>\n",
              "  </tbody>\n",
              "</table>\n",
              "</div>"
            ],
            "text/plain": [
              "               age          bmi     children       charges\n",
              "count  1344.000000  1344.000000  1344.000000   1344.000000\n",
              "mean     38.972470    30.626417     1.090030  13211.179309\n",
              "std      14.450676     6.131231     1.205011  12115.297713\n",
              "min     -15.000000    15.070000     0.000000      0.000000\n",
              "25%      26.000000    26.220000     0.000000   4687.444925\n",
              "50%      39.000000    30.332500     1.000000   9303.297725\n",
              "75%      51.000000    34.681250     2.000000  16579.959052\n",
              "max      64.000000    53.130000     5.000000  63770.428010"
            ]
          },
          "metadata": {
            "tags": []
          },
          "execution_count": 4
        }
      ]
    },
    {
      "cell_type": "code",
      "metadata": {
        "id": "4-yYYJkfuRhd",
        "colab_type": "code",
        "colab": {
          "base_uri": "https://localhost:8080/",
          "height": 282
        },
        "outputId": "4a07ce06-ce06-4d5b-fb80-9a6b0b513a12"
      },
      "source": [
        "df_insurance.age.plot.box()"
      ],
      "execution_count": null,
      "outputs": [
        {
          "output_type": "execute_result",
          "data": {
            "text/plain": [
              "<matplotlib.axes._subplots.AxesSubplot at 0x7feea0845240>"
            ]
          },
          "metadata": {
            "tags": []
          },
          "execution_count": 5
        },
        {
          "output_type": "display_data",
          "data": {
            "image/png": "[encoded data removed]",
            "text/plain": [
              "<Figure size 432x288 with 1 Axes>"
            ]
          },
          "metadata": {
            "tags": [],
            "needs_background": "light"
          }
        }
      ]
    },
    {
      "cell_type": "code",
      "metadata": {
        "id": "SsAit_exu0gM",
        "colab_type": "code",
        "colab": {
          "base_uri": "https://localhost:8080/",
          "height": 282
        },
        "outputId": "c40e41ba-6d03-453f-a2fa-96bb49da0139"
      },
      "source": [
        "df_insurance.age.plot.hist()"
      ],
      "execution_count": null,
      "outputs": [
        {
          "output_type": "execute_result",
          "data": {
            "text/plain": [
              "<matplotlib.axes._subplots.AxesSubplot at 0x7feea0789cf8>"
            ]
          },
          "metadata": {
            "tags": []
          },
          "execution_count": 6
        },
        {
          "output_type": "display_data",
          "data": {
            "image/png": "[encoded data removed]",
            "text/plain": [
              "<Figure size 432x288 with 1 Axes>"
            ]
          },
          "metadata": {
            "tags": [],
            "needs_background": "light"
          }
        }
      ]
    },
    {
      "cell_type": "code",
      "metadata": {
        "id": "0WGFX_KivQaV",
        "colab_type": "code",
        "colab": {
          "base_uri": "https://localhost:8080/",
          "height": 282
        },
        "outputId": "e1ddc94d-b337-4b67-f783-545bfac2702b"
      },
      "source": [
        "df_insurance = df_insurance[df_insurance.age > 0]\n",
        "df_insurance.age.plot.hist()"
      ],
      "execution_count": null,
      "outputs": [
        {
          "output_type": "execute_result",
          "data": {
            "text/plain": [
              "<matplotlib.axes._subplots.AxesSubplot at 0x7feea0256128>"
            ]
          },
          "metadata": {
            "tags": []
          },
          "execution_count": 7
        },
        {
          "output_type": "display_data",
          "data": {
            "image/png": "[encoded data removed]",
            "text/plain": [
              "<Figure size 432x288 with 1 Axes>"
            ]
          },
          "metadata": {
            "tags": [],
            "needs_background": "light"
          }
        }
      ]
    },
    {
      "cell_type": "code",
      "metadata": {
        "id": "PWlfG4fuvg4c",
        "colab_type": "code",
        "colab": {
          "base_uri": "https://localhost:8080/",
          "height": 204
        },
        "outputId": "096f248e-7ff9-463b-dd2b-e716ab96bc22"
      },
      "source": [
        "from sklearn.preprocessing import KBinsDiscretizer\n",
        "\n",
        "discretizer = KBinsDiscretizer(n_bins=9, encode='ordinal', strategy='quantile')\n",
        "df_insurance = df_insurance.assign(age_discretized = discretizer.fit_transform(df_insurance.age.values.reshape(-1, 1)))\n",
        "df_insurance.head()"
      ],
      "execution_count": null,
      "outputs": [
        {
          "output_type": "execute_result",
          "data": {
            "text/html": [
              "<div>\n",
              "<style scoped>\n",
              "    .dataframe tbody tr th:only-of-type {\n",
              "        vertical-align: middle;\n",
              "    }\n",
              "\n",
              "    .dataframe tbody tr th {\n",
              "        vertical-align: top;\n",
              "    }\n",
              "\n",
              "    .dataframe thead th {\n",
              "        text-align: right;\n",
              "    }\n",
              "</style>\n",
              "<table border=\"1\" class=\"dataframe\">\n",
              "  <thead>\n",
              "    <tr style=\"text-align: right;\">\n",
              "      <th></th>\n",
              "      <th>age</th>\n",
              "      <th>sex</th>\n",
              "      <th>bmi</th>\n",
              "      <th>children</th>\n",
              "      <th>smoker</th>\n",
              "      <th>region</th>\n",
              "      <th>charges</th>\n",
              "      <th>age_discretized</th>\n",
              "    </tr>\n",
              "  </thead>\n",
              "  <tbody>\n",
              "    <tr>\n",
              "      <th>0</th>\n",
              "      <td>19</td>\n",
              "      <td>female</td>\n",
              "      <td>27.900</td>\n",
              "      <td>0</td>\n",
              "      <td>yes</td>\n",
              "      <td>southwest</td>\n",
              "      <td>16884.92400</td>\n",
              "      <td>0.0</td>\n",
              "    </tr>\n",
              "    <tr>\n",
              "      <th>1</th>\n",
              "      <td>18</td>\n",
              "      <td>male</td>\n",
              "      <td>33.770</td>\n",
              "      <td>1</td>\n",
              "      <td>no</td>\n",
              "      <td>southeast</td>\n",
              "      <td>1725.55230</td>\n",
              "      <td>0.0</td>\n",
              "    </tr>\n",
              "    <tr>\n",
              "      <th>2</th>\n",
              "      <td>28</td>\n",
              "      <td>man</td>\n",
              "      <td>33.000</td>\n",
              "      <td>3</td>\n",
              "      <td>no</td>\n",
              "      <td>southeast</td>\n",
              "      <td>4449.46200</td>\n",
              "      <td>2.0</td>\n",
              "    </tr>\n",
              "    <tr>\n",
              "      <th>3</th>\n",
              "      <td>33</td>\n",
              "      <td>man</td>\n",
              "      <td>22.705</td>\n",
              "      <td>0</td>\n",
              "      <td>no</td>\n",
              "      <td>northwest</td>\n",
              "      <td>21984.47061</td>\n",
              "      <td>3.0</td>\n",
              "    </tr>\n",
              "    <tr>\n",
              "      <th>4</th>\n",
              "      <td>32</td>\n",
              "      <td>man</td>\n",
              "      <td>28.880</td>\n",
              "      <td>0</td>\n",
              "      <td>no</td>\n",
              "      <td>northwst</td>\n",
              "      <td>3866.85520</td>\n",
              "      <td>3.0</td>\n",
              "    </tr>\n",
              "  </tbody>\n",
              "</table>\n",
              "</div>"
            ],
            "text/plain": [
              "   age     sex     bmi  ...     region      charges age_discretized\n",
              "0   19  female  27.900  ...  southwest  16884.92400             0.0\n",
              "1   18    male  33.770  ...  southeast   1725.55230             0.0\n",
              "2   28     man  33.000  ...  southeast   4449.46200             2.0\n",
              "3   33     man  22.705  ...  northwest  21984.47061             3.0\n",
              "4   32     man  28.880  ...   northwst   3866.85520             3.0\n",
              "\n",
              "[5 rows x 8 columns]"
            ]
          },
          "metadata": {
            "tags": []
          },
          "execution_count": 8
        }
      ]
    },
    {
      "cell_type": "code",
      "metadata": {
        "id": "0TYDd7YHv_-9",
        "colab_type": "code",
        "colab": {
          "base_uri": "https://localhost:8080/",
          "height": 418
        },
        "outputId": "5d88e32d-d899-4a50-9a94-15a7991eabce"
      },
      "source": [
        "[ df_insurance[df_insurance.age_discretized == i].age.plot.density() for i in range(9) ]"
      ],
      "execution_count": null,
      "outputs": [
        {
          "output_type": "execute_result",
          "data": {
            "text/plain": [
              "[<matplotlib.axes._subplots.AxesSubplot at 0x7fee95722cc0>,\n",
              " <matplotlib.axes._subplots.AxesSubplot at 0x7fee95722cc0>,\n",
              " <matplotlib.axes._subplots.AxesSubplot at 0x7fee95722cc0>,\n",
              " <matplotlib.axes._subplots.AxesSubplot at 0x7fee95722cc0>,\n",
              " <matplotlib.axes._subplots.AxesSubplot at 0x7fee95722cc0>,\n",
              " <matplotlib.axes._subplots.AxesSubplot at 0x7fee95722cc0>,\n",
              " <matplotlib.axes._subplots.AxesSubplot at 0x7fee95722cc0>,\n",
              " <matplotlib.axes._subplots.AxesSubplot at 0x7fee95722cc0>,\n",
              " <matplotlib.axes._subplots.AxesSubplot at 0x7fee95722cc0>]"
            ]
          },
          "metadata": {
            "tags": []
          },
          "execution_count": 9
        },
        {
          "output_type": "display_data",
          "data": {
            "image/png": "[encoded data removed]",
            "text/plain": [
              "<Figure size 432x288 with 1 Axes>"
            ]
          },
          "metadata": {
            "tags": [],
            "needs_background": "light"
          }
        }
      ]
    },
    {
      "cell_type": "code",
      "metadata": {
        "id": "7cWH9L5E0CY9",
        "colab_type": "code",
        "colab": {
          "base_uri": "https://localhost:8080/",
          "height": 309
        },
        "outputId": "b170b61f-3b8a-4f14-bcd2-f0442f30ef3d"
      },
      "source": [
        "df_insurance.sex.value_counts().plot.bar()"
      ],
      "execution_count": null,
      "outputs": [
        {
          "output_type": "execute_result",
          "data": {
            "text/plain": [
              "<matplotlib.axes._subplots.AxesSubplot at 0x7feea02379e8>"
            ]
          },
          "metadata": {
            "tags": []
          },
          "execution_count": 10
        },
        {
          "output_type": "display_data",
          "data": {
            "image/png": "[encoded data removed]",
            "text/plain": [
              "<Figure size 432x288 with 1 Axes>"
            ]
          },
          "metadata": {
            "tags": [],
            "needs_background": "light"
          }
        }
      ]
    },
    {
      "cell_type": "code",
      "metadata": {
        "id": "6ctD9QvH3A8X",
        "colab_type": "code",
        "colab": {
          "base_uri": "https://localhost:8080/",
          "height": 308
        },
        "outputId": "e152dfed-d546-4660-c84f-ba595a64adaf"
      },
      "source": [
        "def clean_variable_sex(x: str) -> str:\n",
        "    if x == 'man':\n",
        "        return 'male'\n",
        "    elif x == 'woman':\n",
        "        return 'female'\n",
        "    else:\n",
        "        return x\n",
        "\n",
        "df_insurance.sex = df_insurance.sex.apply(clean_variable_sex)\n",
        "df_insurance.sex.value_counts().plot.bar()"
      ],
      "execution_count": null,
      "outputs": [
        {
          "output_type": "execute_result",
          "data": {
            "text/plain": [
              "<matplotlib.axes._subplots.AxesSubplot at 0x7fee953e39e8>"
            ]
          },
          "metadata": {
            "tags": []
          },
          "execution_count": 11
        },
        {
          "output_type": "display_data",
          "data": {
            "image/png": "[encoded data removed]",
            "text/plain": [
              "<Figure size 432x288 with 1 Axes>"
            ]
          },
          "metadata": {
            "tags": [],
            "needs_background": "light"
          }
        }
      ]
    },
    {
      "cell_type": "code",
      "metadata": {
        "id": "-grNGntK3kAd",
        "colab_type": "code",
        "colab": {
          "base_uri": "https://localhost:8080/",
          "height": 282
        },
        "outputId": "faabae24-ecca-4887-d7d1-cfe00b7655cf"
      },
      "source": [
        "df_insurance.bmi.plot.hist()"
      ],
      "execution_count": null,
      "outputs": [
        {
          "output_type": "execute_result",
          "data": {
            "text/plain": [
              "<matplotlib.axes._subplots.AxesSubplot at 0x7feea023bf98>"
            ]
          },
          "metadata": {
            "tags": []
          },
          "execution_count": 12
        },
        {
          "output_type": "display_data",
          "data": {
            "image/png": "[encoded data removed]",
            "text/plain": [
              "<Figure size 432x288 with 1 Axes>"
            ]
          },
          "metadata": {
            "tags": [],
            "needs_background": "light"
          }
        }
      ]
    },
    {
      "cell_type": "code",
      "metadata": {
        "id": "N90x3ftN3z2u",
        "colab_type": "code",
        "colab": {
          "base_uri": "https://localhost:8080/",
          "height": 282
        },
        "outputId": "fca8340c-3b12-46be-cb4c-87e965477388"
      },
      "source": [
        "df_insurance.bmi.plot.box()"
      ],
      "execution_count": null,
      "outputs": [
        {
          "output_type": "execute_result",
          "data": {
            "text/plain": [
              "<matplotlib.axes._subplots.AxesSubplot at 0x7fee952ca940>"
            ]
          },
          "metadata": {
            "tags": []
          },
          "execution_count": 13
        },
        {
          "output_type": "display_data",
          "data": {
            "image/png": "[encoded data removed]",
            "text/plain": [
              "<Figure size 432x288 with 1 Axes>"
            ]
          },
          "metadata": {
            "tags": [],
            "needs_background": "light"
          }
        }
      ]
    },
    {
      "cell_type": "code",
      "metadata": {
        "id": "yQB7nvDe34OQ",
        "colab_type": "code",
        "colab": {
          "base_uri": "https://localhost:8080/",
          "height": 282
        },
        "outputId": "ee1a0f48-dfb4-40bc-c380-a2a6877cafab"
      },
      "source": [
        "from matplotlib.cbook import boxplot_stats\n",
        "\n",
        "stats = boxplot_stats(df_insurance.bmi)[0]\n",
        "\n",
        "df_insurance = df_insurance[df_insurance.bmi <= stats['whishi']]\n",
        "df_insurance.bmi.plot.box()"
      ],
      "execution_count": null,
      "outputs": [
        {
          "output_type": "execute_result",
          "data": {
            "text/plain": [
              "<matplotlib.axes._subplots.AxesSubplot at 0x7fee952ae358>"
            ]
          },
          "metadata": {
            "tags": []
          },
          "execution_count": 14
        },
        {
          "output_type": "display_data",
          "data": {
            "image/png": "[encoded data removed]",
            "text/plain": [
              "<Figure size 432x288 with 1 Axes>"
            ]
          },
          "metadata": {
            "tags": [],
            "needs_background": "light"
          }
        }
      ]
    },
    {
      "cell_type": "code",
      "metadata": {
        "id": "PIp8M0063972",
        "colab_type": "code",
        "colab": {
          "base_uri": "https://localhost:8080/",
          "height": 282
        },
        "outputId": "38915379-4b27-45ad-d6eb-f28eee9a471d"
      },
      "source": [
        "df_insurance.bmi.plot.hist()"
      ],
      "execution_count": null,
      "outputs": [
        {
          "output_type": "execute_result",
          "data": {
            "text/plain": [
              "<matplotlib.axes._subplots.AxesSubplot at 0x7fee95219a90>"
            ]
          },
          "metadata": {
            "tags": []
          },
          "execution_count": 15
        },
        {
          "output_type": "display_data",
          "data": {
            "image/png": "[encoded data removed]",
            "text/plain": [
              "<Figure size 432x288 with 1 Axes>"
            ]
          },
          "metadata": {
            "tags": [],
            "needs_background": "light"
          }
        }
      ]
    },
    {
      "cell_type": "code",
      "metadata": {
        "id": "a8XltbHq5C4H",
        "colab_type": "code",
        "colab": {
          "base_uri": "https://localhost:8080/",
          "height": 204
        },
        "outputId": "5343bbff-fcd4-4d90-c146-0840e81869df"
      },
      "source": [
        "def bmi_description(bmi: float) -> str:\n",
        "    if bmi < 18.5:\n",
        "        return 'underweight'\n",
        "    elif bmi < 25:\n",
        "        return 'normal'\n",
        "    elif bmi < 30:\n",
        "        return 'overweight'\n",
        "    else:\n",
        "        return 'obese'\n",
        "\n",
        "df_insurance = df_insurance.assign(bmi_description = df_insurance.bmi.apply(bmi_description))\n",
        "df_insurance.head()"
      ],
      "execution_count": null,
      "outputs": [
        {
          "output_type": "execute_result",
          "data": {
            "text/html": [
              "<div>\n",
              "<style scoped>\n",
              "    .dataframe tbody tr th:only-of-type {\n",
              "        vertical-align: middle;\n",
              "    }\n",
              "\n",
              "    .dataframe tbody tr th {\n",
              "        vertical-align: top;\n",
              "    }\n",
              "\n",
              "    .dataframe thead th {\n",
              "        text-align: right;\n",
              "    }\n",
              "</style>\n",
              "<table border=\"1\" class=\"dataframe\">\n",
              "  <thead>\n",
              "    <tr style=\"text-align: right;\">\n",
              "      <th></th>\n",
              "      <th>age</th>\n",
              "      <th>sex</th>\n",
              "      <th>bmi</th>\n",
              "      <th>children</th>\n",
              "      <th>smoker</th>\n",
              "      <th>region</th>\n",
              "      <th>charges</th>\n",
              "      <th>age_discretized</th>\n",
              "      <th>bmi_description</th>\n",
              "    </tr>\n",
              "  </thead>\n",
              "  <tbody>\n",
              "    <tr>\n",
              "      <th>0</th>\n",
              "      <td>19</td>\n",
              "      <td>female</td>\n",
              "      <td>27.900</td>\n",
              "      <td>0</td>\n",
              "      <td>yes</td>\n",
              "      <td>southwest</td>\n",
              "      <td>16884.92400</td>\n",
              "      <td>0.0</td>\n",
              "      <td>overweight</td>\n",
              "    </tr>\n",
              "    <tr>\n",
              "      <th>1</th>\n",
              "      <td>18</td>\n",
              "      <td>male</td>\n",
              "      <td>33.770</td>\n",
              "      <td>1</td>\n",
              "      <td>no</td>\n",
              "      <td>southeast</td>\n",
              "      <td>1725.55230</td>\n",
              "      <td>0.0</td>\n",
              "      <td>obese</td>\n",
              "    </tr>\n",
              "    <tr>\n",
              "      <th>2</th>\n",
              "      <td>28</td>\n",
              "      <td>male</td>\n",
              "      <td>33.000</td>\n",
              "      <td>3</td>\n",
              "      <td>no</td>\n",
              "      <td>southeast</td>\n",
              "      <td>4449.46200</td>\n",
              "      <td>2.0</td>\n",
              "      <td>obese</td>\n",
              "    </tr>\n",
              "    <tr>\n",
              "      <th>3</th>\n",
              "      <td>33</td>\n",
              "      <td>male</td>\n",
              "      <td>22.705</td>\n",
              "      <td>0</td>\n",
              "      <td>no</td>\n",
              "      <td>northwest</td>\n",
              "      <td>21984.47061</td>\n",
              "      <td>3.0</td>\n",
              "      <td>normal</td>\n",
              "    </tr>\n",
              "    <tr>\n",
              "      <th>4</th>\n",
              "      <td>32</td>\n",
              "      <td>male</td>\n",
              "      <td>28.880</td>\n",
              "      <td>0</td>\n",
              "      <td>no</td>\n",
              "      <td>northwst</td>\n",
              "      <td>3866.85520</td>\n",
              "      <td>3.0</td>\n",
              "      <td>overweight</td>\n",
              "    </tr>\n",
              "  </tbody>\n",
              "</table>\n",
              "</div>"
            ],
            "text/plain": [
              "   age     sex     bmi  ...      charges age_discretized bmi_description\n",
              "0   19  female  27.900  ...  16884.92400             0.0      overweight\n",
              "1   18    male  33.770  ...   1725.55230             0.0           obese\n",
              "2   28    male  33.000  ...   4449.46200             2.0           obese\n",
              "3   33    male  22.705  ...  21984.47061             3.0          normal\n",
              "4   32    male  28.880  ...   3866.85520             3.0      overweight\n",
              "\n",
              "[5 rows x 9 columns]"
            ]
          },
          "metadata": {
            "tags": []
          },
          "execution_count": 16
        }
      ]
    },
    {
      "cell_type": "code",
      "metadata": {
        "id": "unwWA4du5qiD",
        "colab_type": "code",
        "colab": {
          "base_uri": "https://localhost:8080/",
          "height": 335
        },
        "outputId": "e5f8e2c7-9689-4466-e125-ec0d3bda8bbd"
      },
      "source": [
        "df_insurance.bmi_description.value_counts().plot.bar()"
      ],
      "execution_count": null,
      "outputs": [
        {
          "output_type": "execute_result",
          "data": {
            "text/plain": [
              "<matplotlib.axes._subplots.AxesSubplot at 0x7fee95181fd0>"
            ]
          },
          "metadata": {
            "tags": []
          },
          "execution_count": 17
        },
        {
          "output_type": "display_data",
          "data": {
            "image/png": "[encoded data removed]",
            "text/plain": [
              "<Figure size 432x288 with 1 Axes>"
            ]
          },
          "metadata": {
            "tags": [],
            "needs_background": "light"
          }
        }
      ]
    },
    {
      "cell_type": "code",
      "metadata": {
        "id": "2e4g0EWO52Im",
        "colab_type": "code",
        "colab": {
          "base_uri": "https://localhost:8080/",
          "height": 102
        },
        "outputId": "224fd2e6-5130-439c-c159-5576cd57caf9"
      },
      "source": [
        "df_insurance.bmi_description.value_counts() / df_insurance.bmi_description.value_counts().sum()"
      ],
      "execution_count": null,
      "outputs": [
        {
          "output_type": "execute_result",
          "data": {
            "text/plain": [
              "obese          0.525207\n",
              "overweight     0.290444\n",
              "normal         0.169300\n",
              "underweight    0.015049\n",
              "Name: bmi_description, dtype: float64"
            ]
          },
          "metadata": {
            "tags": []
          },
          "execution_count": 18
        }
      ]
    },
    {
      "cell_type": "code",
      "metadata": {
        "id": "4iORKuQx6IMo",
        "colab_type": "code",
        "colab": {
          "base_uri": "https://localhost:8080/",
          "height": 136
        },
        "outputId": "56b48121-a0c3-4ab0-e482-b72f2b4cdcfe"
      },
      "source": [
        "df_insurance.children.value_counts() / df_insurance.children.value_counts().sum()"
      ],
      "execution_count": null,
      "outputs": [
        {
          "output_type": "execute_result",
          "data": {
            "text/plain": [
              "0    0.429646\n",
              "1    0.240783\n",
              "2    0.179082\n",
              "3    0.118134\n",
              "4    0.018811\n",
              "5    0.013544\n",
              "Name: children, dtype: float64"
            ]
          },
          "metadata": {
            "tags": []
          },
          "execution_count": 19
        }
      ]
    },
    {
      "cell_type": "code",
      "metadata": {
        "id": "VqsLQfTd6RMv",
        "colab_type": "code",
        "colab": {
          "base_uri": "https://localhost:8080/",
          "height": 68
        },
        "outputId": "7b9ccb3d-c2b4-4566-df91-ef21dbc05f0f"
      },
      "source": [
        "df_insurance.smoker.value_counts() / df_insurance.smoker.value_counts().sum()"
      ],
      "execution_count": null,
      "outputs": [
        {
          "output_type": "execute_result",
          "data": {
            "text/plain": [
              "no     0.796087\n",
              "yes    0.203913\n",
              "Name: smoker, dtype: float64"
            ]
          },
          "metadata": {
            "tags": []
          },
          "execution_count": 20
        }
      ]
    },
    {
      "cell_type": "code",
      "metadata": {
        "id": "ppp1Jmh66km2",
        "colab_type": "code",
        "colab": {
          "base_uri": "https://localhost:8080/",
          "height": 204
        },
        "outputId": "5619c8ac-2b28-4b2a-8145-72d3083a55ea"
      },
      "source": [
        "df_insurance.region.value_counts()"
      ],
      "execution_count": null,
      "outputs": [
        {
          "output_type": "execute_result",
          "data": {
            "text/plain": [
              "southeast     357\n",
              "southwest     315\n",
              "northeast     310\n",
              "northwest     309\n",
              "northeastt     10\n",
              "northwst        9\n",
              "southwes        9\n",
              "northwes        5\n",
              "northeas        3\n",
              "nortwest        2\n",
              "Name: region, dtype: int64"
            ]
          },
          "metadata": {
            "tags": []
          },
          "execution_count": 21
        }
      ]
    },
    {
      "cell_type": "code",
      "metadata": {
        "id": "P2X5CjIF7UDJ",
        "colab_type": "code",
        "colab": {
          "base_uri": "https://localhost:8080/",
          "height": 102
        },
        "outputId": "07dd5ea1-68ad-4e01-9f18-5de136431e44"
      },
      "source": [
        "def clean_variable_region(x: str) -> str:\n",
        "    if x in ['northeastt', 'northeas']:\n",
        "        return 'northeast'\n",
        "    elif x == 'southwes':\n",
        "        return 'southwest'\n",
        "    elif x in ['northwst', 'northwes', 'nortwest']:\n",
        "        return 'northwest'\n",
        "    else:\n",
        "        return x\n",
        "\n",
        "df_insurance.region = df_insurance.region.apply(clean_variable_region)\n",
        "df_insurance.region.value_counts()"
      ],
      "execution_count": null,
      "outputs": [
        {
          "output_type": "execute_result",
          "data": {
            "text/plain": [
              "southeast    357\n",
              "northwest    325\n",
              "southwest    324\n",
              "northeast    323\n",
              "Name: region, dtype: int64"
            ]
          },
          "metadata": {
            "tags": []
          },
          "execution_count": 22
        }
      ]
    },
    {
      "cell_type": "code",
      "metadata": {
        "id": "Ia9oTwCD78dJ",
        "colab_type": "code",
        "colab": {
          "base_uri": "https://localhost:8080/",
          "height": 282
        },
        "outputId": "55e412b1-6e83-4037-a2f3-17a3a1908b22"
      },
      "source": [
        "df_insurance.charges.plot.hist()"
      ],
      "execution_count": null,
      "outputs": [
        {
          "output_type": "execute_result",
          "data": {
            "text/plain": [
              "<matplotlib.axes._subplots.AxesSubplot at 0x7fee95102a20>"
            ]
          },
          "metadata": {
            "tags": []
          },
          "execution_count": 23
        },
        {
          "output_type": "display_data",
          "data": {
            "image/png": "[encoded data removed]",
            "text/plain": [
              "<Figure size 432x288 with 1 Axes>"
            ]
          },
          "metadata": {
            "tags": [],
            "needs_background": "light"
          }
        }
      ]
    },
    {
      "cell_type": "code",
      "metadata": {
        "id": "chTIMZcR8FQn",
        "colab_type": "code",
        "colab": {
          "base_uri": "https://localhost:8080/",
          "height": 204
        },
        "outputId": "1fd6284d-445d-406b-a3af-bb938d947098"
      },
      "source": [
        "df_insurance = df_insurance.assign(charges_log = df_insurance.charges.apply(lambda x: np.log(x)))\n",
        "df_insurance.head()"
      ],
      "execution_count": null,
      "outputs": [
        {
          "output_type": "execute_result",
          "data": {
            "text/html": [
              "<div>\n",
              "<style scoped>\n",
              "    .dataframe tbody tr th:only-of-type {\n",
              "        vertical-align: middle;\n",
              "    }\n",
              "\n",
              "    .dataframe tbody tr th {\n",
              "        vertical-align: top;\n",
              "    }\n",
              "\n",
              "    .dataframe thead th {\n",
              "        text-align: right;\n",
              "    }\n",
              "</style>\n",
              "<table border=\"1\" class=\"dataframe\">\n",
              "  <thead>\n",
              "    <tr style=\"text-align: right;\">\n",
              "      <th></th>\n",
              "      <th>age</th>\n",
              "      <th>sex</th>\n",
              "      <th>bmi</th>\n",
              "      <th>children</th>\n",
              "      <th>smoker</th>\n",
              "      <th>region</th>\n",
              "      <th>charges</th>\n",
              "      <th>age_discretized</th>\n",
              "      <th>bmi_description</th>\n",
              "      <th>charges_log</th>\n",
              "    </tr>\n",
              "  </thead>\n",
              "  <tbody>\n",
              "    <tr>\n",
              "      <th>0</th>\n",
              "      <td>19</td>\n",
              "      <td>female</td>\n",
              "      <td>27.900</td>\n",
              "      <td>0</td>\n",
              "      <td>yes</td>\n",
              "      <td>southwest</td>\n",
              "      <td>16884.92400</td>\n",
              "      <td>0.0</td>\n",
              "      <td>overweight</td>\n",
              "      <td>9.734176</td>\n",
              "    </tr>\n",
              "    <tr>\n",
              "      <th>1</th>\n",
              "      <td>18</td>\n",
              "      <td>male</td>\n",
              "      <td>33.770</td>\n",
              "      <td>1</td>\n",
              "      <td>no</td>\n",
              "      <td>southeast</td>\n",
              "      <td>1725.55230</td>\n",
              "      <td>0.0</td>\n",
              "      <td>obese</td>\n",
              "      <td>7.453302</td>\n",
              "    </tr>\n",
              "    <tr>\n",
              "      <th>2</th>\n",
              "      <td>28</td>\n",
              "      <td>male</td>\n",
              "      <td>33.000</td>\n",
              "      <td>3</td>\n",
              "      <td>no</td>\n",
              "      <td>southeast</td>\n",
              "      <td>4449.46200</td>\n",
              "      <td>2.0</td>\n",
              "      <td>obese</td>\n",
              "      <td>8.400538</td>\n",
              "    </tr>\n",
              "    <tr>\n",
              "      <th>3</th>\n",
              "      <td>33</td>\n",
              "      <td>male</td>\n",
              "      <td>22.705</td>\n",
              "      <td>0</td>\n",
              "      <td>no</td>\n",
              "      <td>northwest</td>\n",
              "      <td>21984.47061</td>\n",
              "      <td>3.0</td>\n",
              "      <td>normal</td>\n",
              "      <td>9.998092</td>\n",
              "    </tr>\n",
              "    <tr>\n",
              "      <th>4</th>\n",
              "      <td>32</td>\n",
              "      <td>male</td>\n",
              "      <td>28.880</td>\n",
              "      <td>0</td>\n",
              "      <td>no</td>\n",
              "      <td>northwest</td>\n",
              "      <td>3866.85520</td>\n",
              "      <td>3.0</td>\n",
              "      <td>overweight</td>\n",
              "      <td>8.260197</td>\n",
              "    </tr>\n",
              "  </tbody>\n",
              "</table>\n",
              "</div>"
            ],
            "text/plain": [
              "   age     sex     bmi  ...  age_discretized bmi_description charges_log\n",
              "0   19  female  27.900  ...              0.0      overweight    9.734176\n",
              "1   18    male  33.770  ...              0.0           obese    7.453302\n",
              "2   28    male  33.000  ...              2.0           obese    8.400538\n",
              "3   33    male  22.705  ...              3.0          normal    9.998092\n",
              "4   32    male  28.880  ...              3.0      overweight    8.260197\n",
              "\n",
              "[5 rows x 10 columns]"
            ]
          },
          "metadata": {
            "tags": []
          },
          "execution_count": 24
        }
      ]
    },
    {
      "cell_type": "code",
      "metadata": {
        "id": "oTt3rqi0883P",
        "colab_type": "code",
        "colab": {
          "base_uri": "https://localhost:8080/",
          "height": 204
        },
        "outputId": "12aacfc0-6652-42f4-e854-8381dda8e688"
      },
      "source": [
        "df_insurance = df_insurance.assign(charges_exp = df_insurance.charges_log.apply(lambda x: np.exp(x)))\n",
        "df_insurance.head()"
      ],
      "execution_count": null,
      "outputs": [
        {
          "output_type": "execute_result",
          "data": {
            "text/html": [
              "<div>\n",
              "<style scoped>\n",
              "    .dataframe tbody tr th:only-of-type {\n",
              "        vertical-align: middle;\n",
              "    }\n",
              "\n",
              "    .dataframe tbody tr th {\n",
              "        vertical-align: top;\n",
              "    }\n",
              "\n",
              "    .dataframe thead th {\n",
              "        text-align: right;\n",
              "    }\n",
              "</style>\n",
              "<table border=\"1\" class=\"dataframe\">\n",
              "  <thead>\n",
              "    <tr style=\"text-align: right;\">\n",
              "      <th></th>\n",
              "      <th>age</th>\n",
              "      <th>sex</th>\n",
              "      <th>bmi</th>\n",
              "      <th>children</th>\n",
              "      <th>smoker</th>\n",
              "      <th>region</th>\n",
              "      <th>charges</th>\n",
              "      <th>age_discretized</th>\n",
              "      <th>bmi_description</th>\n",
              "      <th>charges_log</th>\n",
              "      <th>charges_exp</th>\n",
              "    </tr>\n",
              "  </thead>\n",
              "  <tbody>\n",
              "    <tr>\n",
              "      <th>0</th>\n",
              "      <td>19</td>\n",
              "      <td>female</td>\n",
              "      <td>27.900</td>\n",
              "      <td>0</td>\n",
              "      <td>yes</td>\n",
              "      <td>southwest</td>\n",
              "      <td>16884.92400</td>\n",
              "      <td>0.0</td>\n",
              "      <td>overweight</td>\n",
              "      <td>9.734176</td>\n",
              "      <td>16884.92400</td>\n",
              "    </tr>\n",
              "    <tr>\n",
              "      <th>1</th>\n",
              "      <td>18</td>\n",
              "      <td>male</td>\n",
              "      <td>33.770</td>\n",
              "      <td>1</td>\n",
              "      <td>no</td>\n",
              "      <td>southeast</td>\n",
              "      <td>1725.55230</td>\n",
              "      <td>0.0</td>\n",
              "      <td>obese</td>\n",
              "      <td>7.453302</td>\n",
              "      <td>1725.55230</td>\n",
              "    </tr>\n",
              "    <tr>\n",
              "      <th>2</th>\n",
              "      <td>28</td>\n",
              "      <td>male</td>\n",
              "      <td>33.000</td>\n",
              "      <td>3</td>\n",
              "      <td>no</td>\n",
              "      <td>southeast</td>\n",
              "      <td>4449.46200</td>\n",
              "      <td>2.0</td>\n",
              "      <td>obese</td>\n",
              "      <td>8.400538</td>\n",
              "      <td>4449.46200</td>\n",
              "    </tr>\n",
              "    <tr>\n",
              "      <th>3</th>\n",
              "      <td>33</td>\n",
              "      <td>male</td>\n",
              "      <td>22.705</td>\n",
              "      <td>0</td>\n",
              "      <td>no</td>\n",
              "      <td>northwest</td>\n",
              "      <td>21984.47061</td>\n",
              "      <td>3.0</td>\n",
              "      <td>normal</td>\n",
              "      <td>9.998092</td>\n",
              "      <td>21984.47061</td>\n",
              "    </tr>\n",
              "    <tr>\n",
              "      <th>4</th>\n",
              "      <td>32</td>\n",
              "      <td>male</td>\n",
              "      <td>28.880</td>\n",
              "      <td>0</td>\n",
              "      <td>no</td>\n",
              "      <td>northwest</td>\n",
              "      <td>3866.85520</td>\n",
              "      <td>3.0</td>\n",
              "      <td>overweight</td>\n",
              "      <td>8.260197</td>\n",
              "      <td>3866.85520</td>\n",
              "    </tr>\n",
              "  </tbody>\n",
              "</table>\n",
              "</div>"
            ],
            "text/plain": [
              "   age     sex     bmi  ...  bmi_description charges_log  charges_exp\n",
              "0   19  female  27.900  ...       overweight    9.734176  16884.92400\n",
              "1   18    male  33.770  ...            obese    7.453302   1725.55230\n",
              "2   28    male  33.000  ...            obese    8.400538   4449.46200\n",
              "3   33    male  22.705  ...           normal    9.998092  21984.47061\n",
              "4   32    male  28.880  ...       overweight    8.260197   3866.85520\n",
              "\n",
              "[5 rows x 11 columns]"
            ]
          },
          "metadata": {
            "tags": []
          },
          "execution_count": 25
        }
      ]
    },
    {
      "cell_type": "code",
      "metadata": {
        "id": "a7g3TVOE-DOs",
        "colab_type": "code",
        "colab": {
          "base_uri": "https://localhost:8080/",
          "height": 293
        },
        "outputId": "0893fd85-23b9-44df-fcb2-fb135ba0f5b3"
      },
      "source": [
        "df_insurance.charges.plot.density()"
      ],
      "execution_count": null,
      "outputs": [
        {
          "output_type": "execute_result",
          "data": {
            "text/plain": [
              "<matplotlib.axes._subplots.AxesSubplot at 0x7fee93e69b38>"
            ]
          },
          "metadata": {
            "tags": []
          },
          "execution_count": 26
        },
        {
          "output_type": "display_data",
          "data": {
            "image/png": "[encoded data removed]",
            "text/plain": [
              "<Figure size 432x288 with 1 Axes>"
            ]
          },
          "metadata": {
            "tags": [],
            "needs_background": "light"
          }
        }
      ]
    },
    {
      "cell_type": "code",
      "metadata": {
        "id": "ClWlWdm39A_P",
        "colab_type": "code",
        "colab": {
          "base_uri": "https://localhost:8080/",
          "height": 293
        },
        "outputId": "79e54953-b5ec-48e2-cd71-dca7435f8695"
      },
      "source": [
        "df_insurance[df_insurance.smoker == 'yes'].charges.plot.density()\n",
        "df_insurance[df_insurance.smoker == 'no'].charges.plot.density()"
      ],
      "execution_count": null,
      "outputs": [
        {
          "output_type": "execute_result",
          "data": {
            "text/plain": [
              "<matplotlib.axes._subplots.AxesSubplot at 0x7fee93ddf710>"
            ]
          },
          "metadata": {
            "tags": []
          },
          "execution_count": 27
        },
        {
          "output_type": "display_data",
          "data": {
            "image/png": "[encoded data removed]",
            "text/plain": [
              "<Figure size 432x288 with 1 Axes>"
            ]
          },
          "metadata": {
            "tags": [],
            "needs_background": "light"
          }
        }
      ]
    },
    {
      "cell_type": "code",
      "metadata": {
        "id": "mhIGCeGP9Wsw",
        "colab_type": "code",
        "colab": {
          "base_uri": "https://localhost:8080/",
          "height": 34
        },
        "outputId": "ccaa7efd-4e5f-4072-c62b-bac837755bb4"
      },
      "source": [
        "df_subspace = df_insurance[df_insurance.smoker == 'yes']\n",
        "df_insurance.shape, df_subspace.shape"
      ],
      "execution_count": null,
      "outputs": [
        {
          "output_type": "execute_result",
          "data": {
            "text/plain": [
              "((1329, 11), (271, 11))"
            ]
          },
          "metadata": {
            "tags": []
          },
          "execution_count": 28
        }
      ]
    },
    {
      "cell_type": "code",
      "metadata": {
        "id": "Dmp-f5Ox_Gz0",
        "colab_type": "code",
        "colab": {
          "base_uri": "https://localhost:8080/",
          "height": 34
        },
        "outputId": "d0eca65e-ea8a-4dd7-f292-32f62d702f7b"
      },
      "source": [
        "df_subspace.bmi_description.unique()"
      ],
      "execution_count": null,
      "outputs": [
        {
          "output_type": "execute_result",
          "data": {
            "text/plain": [
              "array(['overweight', 'obese', 'normal', 'underweight'], dtype=object)"
            ]
          },
          "metadata": {
            "tags": []
          },
          "execution_count": 29
        }
      ]
    },
    {
      "cell_type": "code",
      "metadata": {
        "id": "cqQ3QSzF-4zI",
        "colab_type": "code",
        "colab": {
          "base_uri": "https://localhost:8080/",
          "height": 293
        },
        "outputId": "16c62b54-d2a6-4c2e-ebda-a63bd4c55b58"
      },
      "source": [
        "df_subspace[df_subspace.bmi_description != 'obese'].charges.plot.density()\n",
        "df_subspace[df_subspace.bmi_description == 'obese'].charges.plot.density()"
      ],
      "execution_count": null,
      "outputs": [
        {
          "output_type": "execute_result",
          "data": {
            "text/plain": [
              "<matplotlib.axes._subplots.AxesSubplot at 0x7fee93ddf8d0>"
            ]
          },
          "metadata": {
            "tags": []
          },
          "execution_count": 30
        },
        {
          "output_type": "display_data",
          "data": {
            "image/png": "[encoded data removed]",
            "text/plain": [
              "<Figure size 432x288 with 1 Axes>"
            ]
          },
          "metadata": {
            "tags": [],
            "needs_background": "light"
          }
        }
      ]
    },
    {
      "cell_type": "code",
      "metadata": {
        "id": "vPOpqLq4_N6n",
        "colab_type": "code",
        "colab": {
          "base_uri": "https://localhost:8080/",
          "height": 204
        },
        "outputId": "1fca8c1e-95c4-4e47-891c-8b2d8f5b58bd"
      },
      "source": [
        "df_insurance = df_insurance.assign(smoker_bmi = df_insurance.apply(lambda x: '{}_{}'.format(x.smoker, x.bmi_description), axis=1))\n",
        "df_insurance.head()"
      ],
      "execution_count": null,
      "outputs": [
        {
          "output_type": "execute_result",
          "data": {
            "text/html": [
              "<div>\n",
              "<style scoped>\n",
              "    .dataframe tbody tr th:only-of-type {\n",
              "        vertical-align: middle;\n",
              "    }\n",
              "\n",
              "    .dataframe tbody tr th {\n",
              "        vertical-align: top;\n",
              "    }\n",
              "\n",
              "    .dataframe thead th {\n",
              "        text-align: right;\n",
              "    }\n",
              "</style>\n",
              "<table border=\"1\" class=\"dataframe\">\n",
              "  <thead>\n",
              "    <tr style=\"text-align: right;\">\n",
              "      <th></th>\n",
              "      <th>age</th>\n",
              "      <th>sex</th>\n",
              "      <th>bmi</th>\n",
              "      <th>children</th>\n",
              "      <th>smoker</th>\n",
              "      <th>region</th>\n",
              "      <th>charges</th>\n",
              "      <th>age_discretized</th>\n",
              "      <th>bmi_description</th>\n",
              "      <th>charges_log</th>\n",
              "      <th>charges_exp</th>\n",
              "      <th>smoker_bmi</th>\n",
              "    </tr>\n",
              "  </thead>\n",
              "  <tbody>\n",
              "    <tr>\n",
              "      <th>0</th>\n",
              "      <td>19</td>\n",
              "      <td>female</td>\n",
              "      <td>27.900</td>\n",
              "      <td>0</td>\n",
              "      <td>yes</td>\n",
              "      <td>southwest</td>\n",
              "      <td>16884.92400</td>\n",
              "      <td>0.0</td>\n",
              "      <td>overweight</td>\n",
              "      <td>9.734176</td>\n",
              "      <td>16884.92400</td>\n",
              "      <td>yes_overweight</td>\n",
              "    </tr>\n",
              "    <tr>\n",
              "      <th>1</th>\n",
              "      <td>18</td>\n",
              "      <td>male</td>\n",
              "      <td>33.770</td>\n",
              "      <td>1</td>\n",
              "      <td>no</td>\n",
              "      <td>southeast</td>\n",
              "      <td>1725.55230</td>\n",
              "      <td>0.0</td>\n",
              "      <td>obese</td>\n",
              "      <td>7.453302</td>\n",
              "      <td>1725.55230</td>\n",
              "      <td>no_obese</td>\n",
              "    </tr>\n",
              "    <tr>\n",
              "      <th>2</th>\n",
              "      <td>28</td>\n",
              "      <td>male</td>\n",
              "      <td>33.000</td>\n",
              "      <td>3</td>\n",
              "      <td>no</td>\n",
              "      <td>southeast</td>\n",
              "      <td>4449.46200</td>\n",
              "      <td>2.0</td>\n",
              "      <td>obese</td>\n",
              "      <td>8.400538</td>\n",
              "      <td>4449.46200</td>\n",
              "      <td>no_obese</td>\n",
              "    </tr>\n",
              "    <tr>\n",
              "      <th>3</th>\n",
              "      <td>33</td>\n",
              "      <td>male</td>\n",
              "      <td>22.705</td>\n",
              "      <td>0</td>\n",
              "      <td>no</td>\n",
              "      <td>northwest</td>\n",
              "      <td>21984.47061</td>\n",
              "      <td>3.0</td>\n",
              "      <td>normal</td>\n",
              "      <td>9.998092</td>\n",
              "      <td>21984.47061</td>\n",
              "      <td>no_normal</td>\n",
              "    </tr>\n",
              "    <tr>\n",
              "      <th>4</th>\n",
              "      <td>32</td>\n",
              "      <td>male</td>\n",
              "      <td>28.880</td>\n",
              "      <td>0</td>\n",
              "      <td>no</td>\n",
              "      <td>northwest</td>\n",
              "      <td>3866.85520</td>\n",
              "      <td>3.0</td>\n",
              "      <td>overweight</td>\n",
              "      <td>8.260197</td>\n",
              "      <td>3866.85520</td>\n",
              "      <td>no_overweight</td>\n",
              "    </tr>\n",
              "  </tbody>\n",
              "</table>\n",
              "</div>"
            ],
            "text/plain": [
              "   age     sex     bmi  ...  charges_log  charges_exp      smoker_bmi\n",
              "0   19  female  27.900  ...     9.734176  16884.92400  yes_overweight\n",
              "1   18    male  33.770  ...     7.453302   1725.55230        no_obese\n",
              "2   28    male  33.000  ...     8.400538   4449.46200        no_obese\n",
              "3   33    male  22.705  ...     9.998092  21984.47061       no_normal\n",
              "4   32    male  28.880  ...     8.260197   3866.85520   no_overweight\n",
              "\n",
              "[5 rows x 12 columns]"
            ]
          },
          "metadata": {
            "tags": []
          },
          "execution_count": 31
        }
      ]
    },
    {
      "cell_type": "code",
      "metadata": {
        "id": "aelDzDJyALkZ",
        "colab_type": "code",
        "colab": {
          "base_uri": "https://localhost:8080/",
          "height": 34
        },
        "outputId": "eddfc1d2-d4c6-41dd-e9dc-8e96a50ff882"
      },
      "source": [
        "df_insurance.smoker_bmi = df_insurance.smoker_bmi.apply(lambda x: 'no' if x.startswith('no') else x)\n",
        "df_insurance.smoker_bmi = df_insurance.smoker_bmi.apply(lambda x: 'yes_not_obese' if x.startswith('yes') and 'obese' not in x else x)\n",
        "df_insurance.smoker_bmi.unique()"
      ],
      "execution_count": null,
      "outputs": [
        {
          "output_type": "execute_result",
          "data": {
            "text/plain": [
              "array(['yes_not_obese', 'no', 'yes_obese'], dtype=object)"
            ]
          },
          "metadata": {
            "tags": []
          },
          "execution_count": 32
        }
      ]
    },
    {
      "cell_type": "code",
      "metadata": {
        "id": "5FpqoNt5BEla",
        "colab_type": "code",
        "colab": {
          "base_uri": "https://localhost:8080/",
          "height": 293
        },
        "outputId": "ba12a29f-cf9f-44f6-d8a3-44c0d7173dd9"
      },
      "source": [
        "df_insurance[df_insurance.smoker_bmi == 'no'].charges.plot.density()\n",
        "df_insurance[df_insurance.smoker_bmi == 'yes_not_obese'].charges.plot.density()\n",
        "df_insurance[df_insurance.smoker_bmi == 'yes_obese'].charges.plot.density()"
      ],
      "execution_count": null,
      "outputs": [
        {
          "output_type": "execute_result",
          "data": {
            "text/plain": [
              "<matplotlib.axes._subplots.AxesSubplot at 0x7fee93d357b8>"
            ]
          },
          "metadata": {
            "tags": []
          },
          "execution_count": 33
        },
        {
          "output_type": "display_data",
          "data": {
            "image/png": "[encoded data removed]",
            "text/plain": [
              "<Figure size 432x288 with 1 Axes>"
            ]
          },
          "metadata": {
            "tags": [],
            "needs_background": "light"
          }
        }
      ]
    },
    {
      "cell_type": "code",
      "metadata": {
        "id": "CSXx-OqyG5cn",
        "colab_type": "code",
        "colab": {
          "base_uri": "https://localhost:8080/",
          "height": 266
        },
        "outputId": "06f026ec-fad5-4ed4-bb3e-6cf2263f8c6a"
      },
      "source": [
        "df_insurance.corr()"
      ],
      "execution_count": null,
      "outputs": [
        {
          "output_type": "execute_result",
          "data": {
            "text/html": [
              "<div>\n",
              "<style scoped>\n",
              "    .dataframe tbody tr th:only-of-type {\n",
              "        vertical-align: middle;\n",
              "    }\n",
              "\n",
              "    .dataframe tbody tr th {\n",
              "        vertical-align: top;\n",
              "    }\n",
              "\n",
              "    .dataframe thead th {\n",
              "        text-align: right;\n",
              "    }\n",
              "</style>\n",
              "<table border=\"1\" class=\"dataframe\">\n",
              "  <thead>\n",
              "    <tr style=\"text-align: right;\">\n",
              "      <th></th>\n",
              "      <th>age</th>\n",
              "      <th>bmi</th>\n",
              "      <th>children</th>\n",
              "      <th>charges</th>\n",
              "      <th>age_discretized</th>\n",
              "      <th>charges_log</th>\n",
              "      <th>charges_exp</th>\n",
              "    </tr>\n",
              "  </thead>\n",
              "  <tbody>\n",
              "    <tr>\n",
              "      <th>age</th>\n",
              "      <td>1.000000</td>\n",
              "      <td>0.114686</td>\n",
              "      <td>0.043041</td>\n",
              "      <td>0.302022</td>\n",
              "      <td>0.993082</td>\n",
              "      <td>0.529323</td>\n",
              "      <td>0.302022</td>\n",
              "    </tr>\n",
              "    <tr>\n",
              "      <th>bmi</th>\n",
              "      <td>0.114686</td>\n",
              "      <td>1.000000</td>\n",
              "      <td>0.017355</td>\n",
              "      <td>0.193196</td>\n",
              "      <td>0.109636</td>\n",
              "      <td>0.133912</td>\n",
              "      <td>0.193196</td>\n",
              "    </tr>\n",
              "    <tr>\n",
              "      <th>children</th>\n",
              "      <td>0.043041</td>\n",
              "      <td>0.017355</td>\n",
              "      <td>1.000000</td>\n",
              "      <td>0.069739</td>\n",
              "      <td>0.050404</td>\n",
              "      <td>0.161744</td>\n",
              "      <td>0.069739</td>\n",
              "    </tr>\n",
              "    <tr>\n",
              "      <th>charges</th>\n",
              "      <td>0.302022</td>\n",
              "      <td>0.193196</td>\n",
              "      <td>0.069739</td>\n",
              "      <td>1.000000</td>\n",
              "      <td>0.297417</td>\n",
              "      <td>0.893941</td>\n",
              "      <td>1.000000</td>\n",
              "    </tr>\n",
              "    <tr>\n",
              "      <th>age_discretized</th>\n",
              "      <td>0.993082</td>\n",
              "      <td>0.109636</td>\n",
              "      <td>0.050404</td>\n",
              "      <td>0.297417</td>\n",
              "      <td>1.000000</td>\n",
              "      <td>0.527037</td>\n",
              "      <td>0.297417</td>\n",
              "    </tr>\n",
              "    <tr>\n",
              "      <th>charges_log</th>\n",
              "      <td>0.529323</td>\n",
              "      <td>0.133912</td>\n",
              "      <td>0.161744</td>\n",
              "      <td>0.893941</td>\n",
              "      <td>0.527037</td>\n",
              "      <td>1.000000</td>\n",
              "      <td>0.893941</td>\n",
              "    </tr>\n",
              "    <tr>\n",
              "      <th>charges_exp</th>\n",
              "      <td>0.302022</td>\n",
              "      <td>0.193196</td>\n",
              "      <td>0.069739</td>\n",
              "      <td>1.000000</td>\n",
              "      <td>0.297417</td>\n",
              "      <td>0.893941</td>\n",
              "      <td>1.000000</td>\n",
              "    </tr>\n",
              "  </tbody>\n",
              "</table>\n",
              "</div>"
            ],
            "text/plain": [
              "                      age       bmi  ...  charges_log  charges_exp\n",
              "age              1.000000  0.114686  ...     0.529323     0.302022\n",
              "bmi              0.114686  1.000000  ...     0.133912     0.193196\n",
              "children         0.043041  0.017355  ...     0.161744     0.069739\n",
              "charges          0.302022  0.193196  ...     0.893941     1.000000\n",
              "age_discretized  0.993082  0.109636  ...     0.527037     0.297417\n",
              "charges_log      0.529323  0.133912  ...     1.000000     0.893941\n",
              "charges_exp      0.302022  0.193196  ...     0.893941     1.000000\n",
              "\n",
              "[7 rows x 7 columns]"
            ]
          },
          "metadata": {
            "tags": []
          },
          "execution_count": 34
        }
      ]
    },
    {
      "cell_type": "code",
      "metadata": {
        "id": "IghL2K2yeXon",
        "colab_type": "code",
        "colab": {
          "base_uri": "https://localhost:8080/",
          "height": 204
        },
        "outputId": "19a529cf-902c-4e8e-86c6-6060d50c062d"
      },
      "source": [
        "df_insurance.head()"
      ],
      "execution_count": null,
      "outputs": [
        {
          "output_type": "execute_result",
          "data": {
            "text/html": [
              "<div>\n",
              "<style scoped>\n",
              "    .dataframe tbody tr th:only-of-type {\n",
              "        vertical-align: middle;\n",
              "    }\n",
              "\n",
              "    .dataframe tbody tr th {\n",
              "        vertical-align: top;\n",
              "    }\n",
              "\n",
              "    .dataframe thead th {\n",
              "        text-align: right;\n",
              "    }\n",
              "</style>\n",
              "<table border=\"1\" class=\"dataframe\">\n",
              "  <thead>\n",
              "    <tr style=\"text-align: right;\">\n",
              "      <th></th>\n",
              "      <th>age</th>\n",
              "      <th>sex</th>\n",
              "      <th>bmi</th>\n",
              "      <th>children</th>\n",
              "      <th>smoker</th>\n",
              "      <th>region</th>\n",
              "      <th>charges</th>\n",
              "      <th>age_discretized</th>\n",
              "      <th>bmi_description</th>\n",
              "      <th>charges_log</th>\n",
              "      <th>charges_exp</th>\n",
              "      <th>smoker_bmi</th>\n",
              "    </tr>\n",
              "  </thead>\n",
              "  <tbody>\n",
              "    <tr>\n",
              "      <th>0</th>\n",
              "      <td>19</td>\n",
              "      <td>female</td>\n",
              "      <td>27.900</td>\n",
              "      <td>0</td>\n",
              "      <td>yes</td>\n",
              "      <td>southwest</td>\n",
              "      <td>16884.92400</td>\n",
              "      <td>0.0</td>\n",
              "      <td>overweight</td>\n",
              "      <td>9.734176</td>\n",
              "      <td>16884.92400</td>\n",
              "      <td>yes_not_obese</td>\n",
              "    </tr>\n",
              "    <tr>\n",
              "      <th>1</th>\n",
              "      <td>18</td>\n",
              "      <td>male</td>\n",
              "      <td>33.770</td>\n",
              "      <td>1</td>\n",
              "      <td>no</td>\n",
              "      <td>southeast</td>\n",
              "      <td>1725.55230</td>\n",
              "      <td>0.0</td>\n",
              "      <td>obese</td>\n",
              "      <td>7.453302</td>\n",
              "      <td>1725.55230</td>\n",
              "      <td>no</td>\n",
              "    </tr>\n",
              "    <tr>\n",
              "      <th>2</th>\n",
              "      <td>28</td>\n",
              "      <td>male</td>\n",
              "      <td>33.000</td>\n",
              "      <td>3</td>\n",
              "      <td>no</td>\n",
              "      <td>southeast</td>\n",
              "      <td>4449.46200</td>\n",
              "      <td>2.0</td>\n",
              "      <td>obese</td>\n",
              "      <td>8.400538</td>\n",
              "      <td>4449.46200</td>\n",
              "      <td>no</td>\n",
              "    </tr>\n",
              "    <tr>\n",
              "      <th>3</th>\n",
              "      <td>33</td>\n",
              "      <td>male</td>\n",
              "      <td>22.705</td>\n",
              "      <td>0</td>\n",
              "      <td>no</td>\n",
              "      <td>northwest</td>\n",
              "      <td>21984.47061</td>\n",
              "      <td>3.0</td>\n",
              "      <td>normal</td>\n",
              "      <td>9.998092</td>\n",
              "      <td>21984.47061</td>\n",
              "      <td>no</td>\n",
              "    </tr>\n",
              "    <tr>\n",
              "      <th>4</th>\n",
              "      <td>32</td>\n",
              "      <td>male</td>\n",
              "      <td>28.880</td>\n",
              "      <td>0</td>\n",
              "      <td>no</td>\n",
              "      <td>northwest</td>\n",
              "      <td>3866.85520</td>\n",
              "      <td>3.0</td>\n",
              "      <td>overweight</td>\n",
              "      <td>8.260197</td>\n",
              "      <td>3866.85520</td>\n",
              "      <td>no</td>\n",
              "    </tr>\n",
              "  </tbody>\n",
              "</table>\n",
              "</div>"
            ],
            "text/plain": [
              "   age     sex     bmi  ...  charges_log  charges_exp     smoker_bmi\n",
              "0   19  female  27.900  ...     9.734176  16884.92400  yes_not_obese\n",
              "1   18    male  33.770  ...     7.453302   1725.55230             no\n",
              "2   28    male  33.000  ...     8.400538   4449.46200             no\n",
              "3   33    male  22.705  ...     9.998092  21984.47061             no\n",
              "4   32    male  28.880  ...     8.260197   3866.85520             no\n",
              "\n",
              "[5 rows x 12 columns]"
            ]
          },
          "metadata": {
            "tags": []
          },
          "execution_count": 61
        }
      ]
    },
    {
      "cell_type": "code",
      "metadata": {
        "id": "aTSBN_GxdVuX",
        "colab_type": "code",
        "colab": {}
      },
      "source": [
        "from sklearn.linear_model import LinearRegression\n",
        "from sklearn.linear_model import Lasso\n",
        "from sklearn.linear_model import Ridge\n",
        "\n",
        "from sklearn.model_selection import GridSearchCV\n",
        "from sklearn.metrics import r2_score"
      ],
      "execution_count": null,
      "outputs": []
    },
    {
      "cell_type": "code",
      "metadata": {
        "id": "1Q8MqbM6BQBH",
        "colab_type": "code",
        "colab": {}
      },
      "source": [
        "from sklearn.preprocessing import OneHotEncoder\n",
        "from sklearn.preprocessing import MinMaxScaler\n",
        "from sklearn.model_selection import KFold\n",
        "from sklearn.metrics import mean_absolute_error\n",
        "\n",
        "def build_models(alg):\n",
        "    if alg == 'linear_regression':\n",
        "        model = LinearRegression()\n",
        "        return model\n",
        "    elif alg == 'lasso_regression':\n",
        "        model = GridSearchCV(\n",
        "            Lasso(normalize=True),\n",
        "            param_grid={\n",
        "                'alpha': np.linspace(0, 5, num=50)\n",
        "            },\n",
        "            scoring='neg_mean_absolute_error',\n",
        "            n_jobs=-1,\n",
        "            cv=KFold(n_splits=10, shuffle=True)\n",
        "        )\n",
        "        return model\n",
        "    elif alg == 'ridge_regression':\n",
        "        model = GridSearchCV(\n",
        "            Ridge(normalize=True),\n",
        "            param_grid={\n",
        "                'alpha': np.linspace(0, 5, num=50)\n",
        "            },\n",
        "            scoring='neg_mean_absolute_error',\n",
        "            n_jobs=-1,\n",
        "            cv=KFold(n_splits=10, shuffle=True)\n",
        "        )\n",
        "        return model\n",
        "    else:\n",
        "        raise Exception('Modelo não implementado.')\n",
        "    \n",
        "def build_features(df_train, df_test):\n",
        "    ohe_smoker_bmi = OneHotEncoder(sparse=False)\n",
        "    x_train_ohe = ohe_smoker_bmi.fit_transform(df_train[['smoker_bmi', 'sex']])\n",
        "    x_test_ohe = ohe_smoker_bmi.transform(df_test[['smoker_bmi', 'sex']])\n",
        "\n",
        "    mms = MinMaxScaler()\n",
        "    x_train_quant = mms.fit_transform(df_train[['children', 'age']])\n",
        "    x_test_quant = mms.transform(df_test[['children', 'age']])\n",
        "   \n",
        "    x_train = np.hstack([x_train_ohe, x_train_quant])\n",
        "    x_test = np.hstack([x_test_ohe, x_test_quant])\n",
        "\n",
        "    y_train = df_train.charges.values.reshape(-1, 1)\n",
        "    y_test = df_test.charges.values.reshape(-1, 1)\n",
        "\n",
        "    return x_train, y_train, x_test, y_test\n",
        "\n",
        "\n",
        "algs = ['linear_regression', 'lasso_regression', 'ridge_regression']\n",
        "mean_r2 = np.zeros(shape=(len(algs), k, 2))\n",
        "mean_mae = np.zeros(shape=(len(algs), k, 2))\n",
        "for alg_index, alg in enumerate(algs):\n",
        "    k = 10\n",
        "    cv = KFold(n_splits=k, shuffle=True)\n",
        "    for fold, (train, test) in enumerate(cv.split(df_insurance)):\n",
        "        df_train = df_insurance.iloc[train]\n",
        "        df_test = df_insurance.iloc[test]\n",
        "\n",
        "        # computar as features\n",
        "        x_train, y_train, x_test, y_test = build_features(df_train, df_test)\n",
        "        \n",
        "        # treinar o modelo\n",
        "        model = build_models(alg)\n",
        "        model.fit(x_train, y_train)\n",
        "        \n",
        "        # coletar os resultados\n",
        "        y_pred_train = model.predict(x_train)\n",
        "        mean_mae[alg_index, fold, 0] = mean_absolute_error(y_train, y_pred_train)\n",
        "        mean_r2[alg_index, fold, 0] = r2_score(y_train, y_pred_train)\n",
        "\n",
        "        y_pred_test = model.predict(x_test)\n",
        "        mean_mae[alg_index, fold, 1] = mean_absolute_error(y_test, y_pred_test)\n",
        "        mean_r2[alg_index, fold, 1] = r2_score(y_test, y_pred_test)\n",
        "\n",
        "    # apresentar os resultados\n",
        "    print('-' * 50)\n",
        "    print('Algoritmo:', alg)\n",
        "    print('-' * 50)\n",
        "    print('Treino - Média MAE: ', mean_mae[alg_index, :,0].mean())\n",
        "    print('Teste - Média MAE: ', mean_mae[alg_index, :,1].mean())\n",
        "    print('-' * 50)\n",
        "    print('Treino - Média R2: ', mean_r2[alg_index, :,0].mean())\n",
        "    print('Teste - Média R2: ', mean_r2[alg_index, :,1].mean())"
      ],
      "execution_count": null,
      "outputs": []
    },
    {
      "cell_type": "code",
      "metadata": {
        "id": "nsUriOTSIAiw",
        "colab_type": "code",
        "colab": {
          "base_uri": "https://localhost:8080/",
          "height": 34
        },
        "outputId": "f812cb1a-ce75-45c9-a991-99b53ab9d0e2"
      },
      "source": [
        "from scipy.stats import ttest_ind\n",
        "\n",
        "t_test = ttest_ind(mean_mae[0,:,1], mean_mae[2,:,1])\n",
        "alpha = 0.05\n",
        "\n",
        "if t_test.pvalue < alpha:\n",
        "    print('Rejeita a hipótese nula. As duas médias são diferentes!')\n",
        "else:\n",
        "    print('Aceita a hipótese nula. As duas médias são iguais!')"
      ],
      "execution_count": null,
      "outputs": [
        {
          "output_type": "stream",
          "text": [
            "Aceita a hipótese nula. As duas médias são iguais!\n"
          ],
          "name": "stdout"
        }
      ]
    },
    {
      "cell_type": "code",
      "metadata": {
        "id": "HGo3E1sIOICd",
        "colab_type": "code",
        "colab": {
          "base_uri": "https://localhost:8080/",
          "height": 68
        },
        "outputId": "cb952ac0-f400-4f3b-c0a3-68aa1823e16e"
      },
      "source": [
        "# após encontrar o melhor algoritmo, vamos fazer a seleção de modelos para \n",
        "# encontrar os melhores parâmetros do modelo \n",
        "# para isso, vamos adotar uma estratégia de validação cruzada utilizando\n",
        "# grid search\n",
        "# estamos SUPONDO que o algoritmo 'ridge regression' apresentou o melhor resultado\n",
        "# isso não é verdade, as médias foram iguais, mas é um cenário de exemplo para \n",
        "# ilustrar o que nós faríamos para levar um modelo para produção\n",
        "\n",
        "# aqui, estamos estrapolando, porque a validação cruzada só será realizada\n",
        "# na chamada do método 'build_models' pelo grid search\n",
        "# o correto seria dentro do grid search fazer o fit do build features também\n",
        "x_train, y_train, x_test, y_test = build_features(df_insurance, df_insurance)\n",
        "\n",
        "# treinar o modelo\n",
        "model = build_models('ridge_regression')\n",
        "model.fit(x_train, y_train)\n",
        "\n",
        "# executamos para obter a melhor parametrização para o modelo\n",
        "model.best_params_"
      ],
      "execution_count": null,
      "outputs": [
        {
          "output_type": "stream",
          "text": [
            "/usr/local/lib/python3.6/dist-packages/sklearn/linear_model/_ridge.py:148: LinAlgWarning: Ill-conditioned matrix (rcond=4.33091e-17): result may not be accurate.\n",
            "  overwrite_a=True).T\n"
          ],
          "name": "stderr"
        },
        {
          "output_type": "execute_result",
          "data": {
            "text/plain": [
              "{'alpha': 0.0}"
            ]
          },
          "metadata": {
            "tags": []
          },
          "execution_count": 64
        }
      ]
    },
    {
      "cell_type": "code",
      "metadata": {
        "id": "8wpc3EdnXHaz",
        "colab_type": "code",
        "colab": {
          "base_uri": "https://localhost:8080/",
          "height": 51
        },
        "outputId": "b73baecf-71e0-412c-ca76-ac44283c2fbe"
      },
      "source": [
        "# depois de obter os melhores parâmetros para o modelo\n",
        "# treinamos um novo modelo com essa parametrização, com todos os dados disponíveis\n",
        "\n",
        "# aqui sim, repetimos, porque o dataset será completo\n",
        "x_complete, y_complete, _, _ = build_features(df_insurance, df_insurance)\n",
        "\n",
        "# treinar o modelo com a melhor parametrização encontrada\n",
        "model = Ridge(alpha=0.0)\n",
        "model.fit(x_complete, y_complete)\n",
        "\n",
        "# esse seria o modelo enviado para produção, junto com todos os encoders necessários\n",
        "# para fazer as transformações nos dados \n",
        "model"
      ],
      "execution_count": null,
      "outputs": [
        {
          "output_type": "execute_result",
          "data": {
            "text/plain": [
              "Ridge(alpha=0.0, copy_X=True, fit_intercept=True, max_iter=None,\n",
              "      normalize=False, random_state=None, solver='auto', tol=0.001)"
            ]
          },
          "metadata": {
            "tags": []
          },
          "execution_count": 65
        }
      ]
    },
    {
      "cell_type": "markdown",
      "metadata": {
        "id": "fHlF3YSFYMEN",
        "colab_type": "text"
      },
      "source": [
        "# Como utilizar out-of-folds da validação cruzada, para obter resultados do modelo"
      ]
    },
    {
      "cell_type": "code",
      "metadata": {
        "id": "hCbHMMcIXkZK",
        "colab_type": "code",
        "colab": {}
      },
      "source": [
        "cv = KFold(n_splits=10, shuffle=True)\n",
        "\n",
        "predicted = list()\n",
        "ground_truth = list()\n",
        "# na estratégia do out-of-folds, nós não calculamos as métricas para cada um dos folds\n",
        "# apenas armazenamos os resultados e dessa forma conseguimos fazer uma avaliação \n",
        "# de todo o nosso conjunto de dados\n",
        "for fold, (train, test) in enumerate(cv.split(df_insurance)):\n",
        "    df_train = df_insurance.iloc[train]\n",
        "    df_test = df_insurance.iloc[test]\n",
        "\n",
        "    x_train, y_train, x_test, y_test = build_features(df_train, df_test)\n",
        "\n",
        "    model = build_models('ridge_regression')\n",
        "    model.fit(x_train, y_train)\n",
        "\n",
        "    predicted.extend(model.predict(x_test))\n",
        "    ground_truth.extend(y_test)"
      ],
      "execution_count": null,
      "outputs": []
    },
    {
      "cell_type": "code",
      "metadata": {
        "id": "9hIiwKXzawSK",
        "colab_type": "code",
        "colab": {
          "base_uri": "https://localhost:8080/",
          "height": 283
        },
        "outputId": "b903af14-d27f-4544-b9b2-589eb8c74b1d"
      },
      "source": [
        "fig, ax = plt.subplots()\n",
        "ax.plot([0, 70000], [0,70000], 'k--')\n",
        "ax.scatter(x=predicted, y=ground_truth)\n",
        "ax.set_xlim([0, 70000])\n",
        "ax.set_ylim([0, 70000])\n",
        "ax.set_xlabel('Predicted')\n",
        "ax.set_ylabel('Ground Truth')\n",
        "plt.show()"
      ],
      "execution_count": null,
      "outputs": [
        {
          "output_type": "display_data",
          "data": {
            "image/png": "[encoded data removed]",
            "text/plain": [
              "<Figure size 432x288 with 1 Axes>"
            ]
          },
          "metadata": {
            "tags": [],
            "needs_background": "light"
          }
        }
      ]
    },
    {
      "cell_type": "code",
      "metadata": {
        "id": "t86IaTTFcXWV",
        "colab_type": "code",
        "colab": {
          "base_uri": "https://localhost:8080/",
          "height": 279
        },
        "outputId": "a4fb820a-9b1c-4944-a7c9-7311e566a633"
      },
      "source": [
        "fig, ax = plt.subplots()\n",
        "\n",
        "residuals = [ ground_truth[i] - predicted[i] for i in range(len(predicted)) ]\n",
        "ax.scatter(x=predicted, y=residuals)\n",
        "ax.plot([0, 50000], [0,0], 'k--')\n",
        "ax.set_xlabel('Predicted')\n",
        "ax.set_ylabel('Residuals')\n",
        "plt.show()"
      ],
      "execution_count": null,
      "outputs": [
        {
          "output_type": "display_data",
          "data": {
            "image/png": "[encoded data removed]",
            "text/plain": [
              "<Figure size 432x288 with 1 Axes>"
            ]
          },
          "metadata": {
            "tags": [],
            "needs_background": "light"
          }
        }
      ]
    },
    {
      "cell_type": "code",
      "metadata": {
        "id": "gG8KY_IHfqoa",
        "colab_type": "code",
        "colab": {}
      },
      "source": [
        ""
      ],
      "execution_count": null,
      "outputs": []
    }
  ]
}