{
  "nbformat": 4,
  "nbformat_minor": 0,
  "metadata": {
    "colab": {
      "name": "Exercicio_2.ipynb",
      "provenance": [],
      "collapsed_sections": [],
      "toc_visible": true,
      "authorship_tag": "ABX9TyMTdmm/6a9TEopzK+3YUC1A",
      "include_colab_link": true
    },
    "kernelspec": {
      "name": "python3",
      "display_name": "Python 3"
    }
  },
  "cells": [
    {
      "cell_type": "markdown",
      "metadata": {
        "id": "view-in-github",
        "colab_type": "text"
      },
      "source": [
        "<a href=\"https://colab.research.google.com/github/asengardeon/aprendizado_de_maquina/blob/master/Exercicio_2.ipynb\" target=\"_parent\"><img src=\"https://colab.research.google.com/assets/colab-badge.svg\" alt=\"Open In Colab\"/></a>"
      ]
    },
    {
      "cell_type": "markdown",
      "metadata": {
        "id": "wExPtzjO26h2",
        "colab_type": "text"
      },
      "source": [
        "Utilizando o conjunto de dados telco_customer_churn.csv, crie um modelo de classificação para fazer a previsão de churn dos clientes, dado o conjunto de atributos disponíveis. A solução deverá incluir uma análise exploratória dos dados, com a descrição das variáveis, visualização das distribuições e proporções, detecção de outliers e correlação entre as variáveis. Também deverá incluir o pré-processamento das variáveis, com a limpeza da base, discretização de variáveis contínuas, mapeamento one-hot das variáveis nominais, normalização dos valores, construção e comparação de modelos utilizando o estimador holdout ou cross-validation. Por fim, deverão ser apresentados os resultados do modelo, em termos de acurácia, precisão, cobertura e medida F. Também deverá ser apresentada a matriz de confusão.\n",
        "Descrição das colunas:\n",
        "1.\tcustomerID: Identificador único do consumidor;\n",
        "2.\tgender: Se o gênero do consumidor é masculino ou feminino;\n",
        "3.\tSeniorCitizen: Se o consumidor é idoso;\n",
        "4.\tPartner: Se o consumidor possui um parceiro;\n",
        "5.\tDependents: Se o consumidor possui dependentes;\n",
        "6.\ttenure: Número de meses que o consumidor ficou com a empresa;\n",
        "7.\tPhoneService: Se o consumidor possui um serviço de telefone;\n",
        "8.\tMultipleLines: Se o consumidor possui mais de uma linha de telefone;\n",
        "9.\tInternetService: Tipo de serviço de internet do consumidor;\n",
        "10.\tOnlineSecurity: Se o consumidor possui o serviço de segurança online;\n",
        "11.\tOnlineBackup: Se o consumidor possui o serviço de backup online;\n",
        "12.\tDeviceProtection: Se o consumidor possui o serviço de proteção de dispositivos;\n",
        "13.\tTechSupport: Se o consumidor possui suporte técnico;\n",
        "14.\tStreamingTV: Se o consumidor possui o serviço de tv por streaming;\n",
        "15.\tStreamingMovies: Se o consumidor possui o serviço de filmes por streaming;\n",
        "16.\tContract: Tipo de contrato entre o consumidor e a empresa;\n",
        "17.\tParperlessBilling: Se o consumidor possui fatura digital;\n",
        "18.\tPaymentMethod: Forma de pagamento;\n",
        "19.\tMonthlyCharges: Valor mensal da fatura;\n",
        "20.\tTotalCharges: Valor total cobrado do consumidor;\n",
        "21.\tChurn: Se o consumidor encerrou o contrato com a empresa\n"
      ]
    },
    {
      "cell_type": "code",
      "metadata": {
        "id": "9QzdcFrz2_SK",
        "colab_type": "code",
        "colab": {}
      },
      "source": [
        "import pandas as pd\n",
        "import numpy as np\n",
        "import matplotlib.pyplot as plt\n",
        "import os\n",
        "from sklearn.preprocessing import KBinsDiscretizer, MinMaxScaler, OneHotEncoder\n",
        "from sklearn.model_selection import KFold, GridSearchCV, StratifiedKFold\n",
        "from matplotlib.cbook import boxplot_stats\n",
        "from sklearn.linear_model import Lasso, LinearRegression, Ridge, LogisticRegression\n",
        "from sklearn.metrics import mean_absolute_error, r2_score, accuracy_score, precision_recall_fscore_support, confusion_matrix, classification_report\n",
        "from sklearn.tree import DecisionTreeRegressor, DecisionTreeClassifier\n",
        "from sklearn.ensemble import RandomForestRegressor, RandomForestClassifier\n",
        "from sklearn.neighbors import KNeighborsRegressor, KNeighborsClassifier\n",
        "import seaborn as sns\n",
        "from sklearn.svm import LinearSVC,SVC\n",
        "\n",
        "\n",
        "\n"
      ],
      "execution_count": null,
      "outputs": []
    },
    {
      "cell_type": "code",
      "metadata": {
        "id": "Eih4gm2O3Q1Z",
        "colab_type": "code",
        "colab": {
          "base_uri": "https://localhost:8080/",
          "height": 309
        },
        "outputId": "87ef4d7f-93f9-4466-c531-df0d6f963529"
      },
      "source": [
        "df_churn = pd.read_csv('churn.csv', sep=',', decimal='.')\n",
        "df_churn.head()"
      ],
      "execution_count": null,
      "outputs": [
        {
          "output_type": "execute_result",
          "data": {
            "text/html": [
              "<div>\n",
              "<style scoped>\n",
              "    .dataframe tbody tr th:only-of-type {\n",
              "        vertical-align: middle;\n",
              "    }\n",
              "\n",
              "    .dataframe tbody tr th {\n",
              "        vertical-align: top;\n",
              "    }\n",
              "\n",
              "    .dataframe thead th {\n",
              "        text-align: right;\n",
              "    }\n",
              "</style>\n",
              "<table border=\"1\" class=\"dataframe\">\n",
              "  <thead>\n",
              "    <tr style=\"text-align: right;\">\n",
              "      <th></th>\n",
              "      <th>customerID</th>\n",
              "      <th>gender</th>\n",
              "      <th>SeniorCitizen</th>\n",
              "      <th>Partner</th>\n",
              "      <th>Dependents</th>\n",
              "      <th>tenure</th>\n",
              "      <th>PhoneService</th>\n",
              "      <th>MultipleLines</th>\n",
              "      <th>InternetService</th>\n",
              "      <th>OnlineSecurity</th>\n",
              "      <th>OnlineBackup</th>\n",
              "      <th>DeviceProtection</th>\n",
              "      <th>TechSupport</th>\n",
              "      <th>StreamingTV</th>\n",
              "      <th>StreamingMovies</th>\n",
              "      <th>Contract</th>\n",
              "      <th>PaperlessBilling</th>\n",
              "      <th>PaymentMethod</th>\n",
              "      <th>MonthlyCharges</th>\n",
              "      <th>TotalCharges</th>\n",
              "      <th>Churn</th>\n",
              "    </tr>\n",
              "  </thead>\n",
              "  <tbody>\n",
              "    <tr>\n",
              "      <th>0</th>\n",
              "      <td>7590-VHVEG</td>\n",
              "      <td>Female</td>\n",
              "      <td>0</td>\n",
              "      <td>Yes</td>\n",
              "      <td>No</td>\n",
              "      <td>1</td>\n",
              "      <td>No</td>\n",
              "      <td>No phone service</td>\n",
              "      <td>DSL</td>\n",
              "      <td>No</td>\n",
              "      <td>Yes</td>\n",
              "      <td>No</td>\n",
              "      <td>No</td>\n",
              "      <td>No</td>\n",
              "      <td>No</td>\n",
              "      <td>Month-to-month</td>\n",
              "      <td>Yes</td>\n",
              "      <td>Electronic check</td>\n",
              "      <td>29.85</td>\n",
              "      <td>29.85</td>\n",
              "      <td>No</td>\n",
              "    </tr>\n",
              "    <tr>\n",
              "      <th>1</th>\n",
              "      <td>5575-GNVDE</td>\n",
              "      <td>Male</td>\n",
              "      <td>0</td>\n",
              "      <td>No</td>\n",
              "      <td>No</td>\n",
              "      <td>34</td>\n",
              "      <td>Yes</td>\n",
              "      <td>No</td>\n",
              "      <td>DSL</td>\n",
              "      <td>Yes</td>\n",
              "      <td>No</td>\n",
              "      <td>Yes</td>\n",
              "      <td>No</td>\n",
              "      <td>No</td>\n",
              "      <td>No</td>\n",
              "      <td>One year</td>\n",
              "      <td>No</td>\n",
              "      <td>Mailed check</td>\n",
              "      <td>56.95</td>\n",
              "      <td>1889.5</td>\n",
              "      <td>No</td>\n",
              "    </tr>\n",
              "    <tr>\n",
              "      <th>2</th>\n",
              "      <td>3668-QPYBK</td>\n",
              "      <td>Male</td>\n",
              "      <td>0</td>\n",
              "      <td>No</td>\n",
              "      <td>No</td>\n",
              "      <td>2</td>\n",
              "      <td>Yes</td>\n",
              "      <td>No</td>\n",
              "      <td>DSL</td>\n",
              "      <td>Yes</td>\n",
              "      <td>Yes</td>\n",
              "      <td>No</td>\n",
              "      <td>No</td>\n",
              "      <td>No</td>\n",
              "      <td>No</td>\n",
              "      <td>Month-to-month</td>\n",
              "      <td>Yes</td>\n",
              "      <td>Mailed check</td>\n",
              "      <td>53.85</td>\n",
              "      <td>108.15</td>\n",
              "      <td>Yes</td>\n",
              "    </tr>\n",
              "    <tr>\n",
              "      <th>3</th>\n",
              "      <td>7795-CFOCW</td>\n",
              "      <td>Male</td>\n",
              "      <td>0</td>\n",
              "      <td>No</td>\n",
              "      <td>No</td>\n",
              "      <td>45</td>\n",
              "      <td>No</td>\n",
              "      <td>No phone service</td>\n",
              "      <td>DSL</td>\n",
              "      <td>Yes</td>\n",
              "      <td>No</td>\n",
              "      <td>Yes</td>\n",
              "      <td>Yes</td>\n",
              "      <td>No</td>\n",
              "      <td>No</td>\n",
              "      <td>One year</td>\n",
              "      <td>No</td>\n",
              "      <td>Bank transfer (automatic)</td>\n",
              "      <td>42.30</td>\n",
              "      <td>1840.75</td>\n",
              "      <td>No</td>\n",
              "    </tr>\n",
              "    <tr>\n",
              "      <th>4</th>\n",
              "      <td>9237-HQITU</td>\n",
              "      <td>Female</td>\n",
              "      <td>0</td>\n",
              "      <td>No</td>\n",
              "      <td>No</td>\n",
              "      <td>2</td>\n",
              "      <td>Yes</td>\n",
              "      <td>No</td>\n",
              "      <td>Fiber optic</td>\n",
              "      <td>No</td>\n",
              "      <td>No</td>\n",
              "      <td>No</td>\n",
              "      <td>No</td>\n",
              "      <td>No</td>\n",
              "      <td>No</td>\n",
              "      <td>Month-to-month</td>\n",
              "      <td>Yes</td>\n",
              "      <td>Electronic check</td>\n",
              "      <td>70.70</td>\n",
              "      <td>151.65</td>\n",
              "      <td>Yes</td>\n",
              "    </tr>\n",
              "  </tbody>\n",
              "</table>\n",
              "</div>"
            ],
            "text/plain": [
              "   customerID  gender  SeniorCitizen  ... MonthlyCharges TotalCharges  Churn\n",
              "0  7590-VHVEG  Female              0  ...          29.85        29.85     No\n",
              "1  5575-GNVDE    Male              0  ...          56.95       1889.5     No\n",
              "2  3668-QPYBK    Male              0  ...          53.85       108.15    Yes\n",
              "3  7795-CFOCW    Male              0  ...          42.30      1840.75     No\n",
              "4  9237-HQITU  Female              0  ...          70.70       151.65    Yes\n",
              "\n",
              "[5 rows x 21 columns]"
            ]
          },
          "metadata": {
            "tags": []
          },
          "execution_count": 74
        }
      ]
    },
    {
      "cell_type": "code",
      "metadata": {
        "id": "1yvfGWjpC6cw",
        "colab_type": "code",
        "colab": {}
      },
      "source": [
        ""
      ],
      "execution_count": null,
      "outputs": []
    },
    {
      "cell_type": "code",
      "metadata": {
        "id": "CDk5i0cY3amy",
        "colab_type": "code",
        "colab": {
          "base_uri": "https://localhost:8080/",
          "height": 282
        },
        "outputId": "f6ba0de2-93f3-4c91-ee05-c7d98caea775"
      },
      "source": [
        "df_churn.MonthlyCharges.plot.box()"
      ],
      "execution_count": null,
      "outputs": [
        {
          "output_type": "execute_result",
          "data": {
            "text/plain": [
              "<matplotlib.axes._subplots.AxesSubplot at 0x7ff7b5fde748>"
            ]
          },
          "metadata": {
            "tags": []
          },
          "execution_count": 75
        },
        {
          "output_type": "display_data",
          "data": {
            "image/png": "[encoded data removed]",
            "text/plain": [
              "<Figure size 432x288 with 1 Axes>"
            ]
          },
          "metadata": {
            "tags": [],
            "needs_background": "light"
          }
        }
      ]
    },
    {
      "cell_type": "code",
      "metadata": {
        "id": "LJomZgFi9Kts",
        "colab_type": "code",
        "colab": {
          "base_uri": "https://localhost:8080/",
          "height": 282
        },
        "outputId": "c965d378-3ce6-4510-8a1d-6ac1888cd25e"
      },
      "source": [
        "df_churn.MonthlyCharges.plot.density()"
      ],
      "execution_count": null,
      "outputs": [
        {
          "output_type": "execute_result",
          "data": {
            "text/plain": [
              "<matplotlib.axes._subplots.AxesSubplot at 0x7ff7b5fab6d8>"
            ]
          },
          "metadata": {
            "tags": []
          },
          "execution_count": 76
        },
        {
          "output_type": "display_data",
          "data": {
            "image/png": "[encoded data removed]",
            "text/plain": [
              "<Figure size 432x288 with 1 Axes>"
            ]
          },
          "metadata": {
            "tags": [],
            "needs_background": "light"
          }
        }
      ]
    },
    {
      "cell_type": "code",
      "metadata": {
        "id": "zAsgWX_k5wvc",
        "colab_type": "code",
        "colab": {
          "base_uri": "https://localhost:8080/",
          "height": 221
        },
        "outputId": "a41ddcaa-77f2-46ac-b597-c645f7bd6ff2"
      },
      "source": [
        "df_churn.TotalCharges.fillna(0)\n",
        "  "
      ],
      "execution_count": null,
      "outputs": [
        {
          "output_type": "execute_result",
          "data": {
            "text/plain": [
              "0         29.85\n",
              "1        1889.5\n",
              "2        108.15\n",
              "3       1840.75\n",
              "4        151.65\n",
              "         ...   \n",
              "7038     1990.5\n",
              "7039     7362.9\n",
              "7040     346.45\n",
              "7041      306.6\n",
              "7042     6844.5\n",
              "Name: TotalCharges, Length: 7043, dtype: object"
            ]
          },
          "metadata": {
            "tags": []
          },
          "execution_count": 77
        }
      ]
    },
    {
      "cell_type": "code",
      "metadata": {
        "id": "HfS66IZI7p3b",
        "colab_type": "code",
        "colab": {}
      },
      "source": [
        "df_churn['TotalCharges'] = pd.to_numeric(df_churn['TotalCharges'], errors='coerce')"
      ],
      "execution_count": null,
      "outputs": []
    },
    {
      "cell_type": "code",
      "metadata": {
        "id": "n3bKAoe9MMe6",
        "colab_type": "code",
        "colab": {
          "base_uri": "https://localhost:8080/",
          "height": 282
        },
        "outputId": "1767979b-a711-461c-8f19-16aab10e50b4"
      },
      "source": [
        "df_churn.TotalCharges.plot.box()"
      ],
      "execution_count": null,
      "outputs": [
        {
          "output_type": "execute_result",
          "data": {
            "text/plain": [
              "<matplotlib.axes._subplots.AxesSubplot at 0x7ff7b5f14630>"
            ]
          },
          "metadata": {
            "tags": []
          },
          "execution_count": 79
        },
        {
          "output_type": "display_data",
          "data": {
            "image/png": "[encoded data removed]",
            "text/plain": [
              "<Figure size 432x288 with 1 Axes>"
            ]
          },
          "metadata": {
            "tags": [],
            "needs_background": "light"
          }
        }
      ]
    },
    {
      "cell_type": "markdown",
      "metadata": {
        "id": "AqY7GTZw-vg_",
        "colab_type": "text"
      },
      "source": [
        "### Com, a analise de valores mensais e totais abaixo podemos notar que o chrun esta mais  relacionado ao salario mensal e não ao total\n",
        "\n",
        "\n"
      ]
    },
    {
      "cell_type": "code",
      "metadata": {
        "id": "WzzEkeDL8zvW",
        "colab_type": "code",
        "colab": {
          "base_uri": "https://localhost:8080/",
          "height": 282
        },
        "outputId": "2800e10b-ae66-4406-a71a-93e0933be3e8"
      },
      "source": [
        "df_churn.TotalCharges.plot.density()"
      ],
      "execution_count": null,
      "outputs": [
        {
          "output_type": "execute_result",
          "data": {
            "text/plain": [
              "<matplotlib.axes._subplots.AxesSubplot at 0x7ff7b5ee3d30>"
            ]
          },
          "metadata": {
            "tags": []
          },
          "execution_count": 80
        },
        {
          "output_type": "display_data",
          "data": {
            "image/png": "[encoded data removed]",
            "text/plain": [
              "<Figure size 432x288 with 1 Axes>"
            ]
          },
          "metadata": {
            "tags": [],
            "needs_background": "light"
          }
        }
      ]
    },
    {
      "cell_type": "code",
      "metadata": {
        "id": "P0EKXnZm-jKz",
        "colab_type": "code",
        "colab": {
          "base_uri": "https://localhost:8080/",
          "height": 282
        },
        "outputId": "589b82ec-c926-4715-891d-906583e2fc93"
      },
      "source": [
        "df_churn.MonthlyCharges[df_churn.Churn == 'No'].plot.density() #Laranja\n",
        "df_churn.MonthlyCharges[df_churn.Churn == 'Yes'].plot.density() #Azul"
      ],
      "execution_count": null,
      "outputs": [
        {
          "output_type": "execute_result",
          "data": {
            "text/plain": [
              "<matplotlib.axes._subplots.AxesSubplot at 0x7ff7b5e53470>"
            ]
          },
          "metadata": {
            "tags": []
          },
          "execution_count": 81
        },
        {
          "output_type": "display_data",
          "data": {
            "image/png": "[encoded data removed]",
            "text/plain": [
              "<Figure size 432x288 with 1 Axes>"
            ]
          },
          "metadata": {
            "tags": [],
            "needs_background": "light"
          }
        }
      ]
    },
    {
      "cell_type": "code",
      "metadata": {
        "id": "9qnMpYeK9RCF",
        "colab_type": "code",
        "colab": {
          "base_uri": "https://localhost:8080/",
          "height": 282
        },
        "outputId": "bb50308e-af18-4f04-f7d6-6f49c994b740"
      },
      "source": [
        "df_churn.TotalCharges[df_churn.Churn == 'No'].plot.density() #Laranja\n",
        "df_churn.TotalCharges[df_churn.Churn == 'Yes'].plot.density() #Azul"
      ],
      "execution_count": null,
      "outputs": [
        {
          "output_type": "execute_result",
          "data": {
            "text/plain": [
              "<matplotlib.axes._subplots.AxesSubplot at 0x7ff7b5e15940>"
            ]
          },
          "metadata": {
            "tags": []
          },
          "execution_count": 82
        },
        {
          "output_type": "display_data",
          "data": {
            "image/png": "[encoded data removed]",
            "text/plain": [
              "<Figure size 432x288 with 1 Axes>"
            ]
          },
          "metadata": {
            "tags": [],
            "needs_background": "light"
          }
        }
      ]
    },
    {
      "cell_type": "code",
      "metadata": {
        "id": "quF0QKe2-Q1E",
        "colab_type": "code",
        "colab": {
          "base_uri": "https://localhost:8080/",
          "height": 85
        },
        "outputId": "a7026c1f-5f3b-4150-da72-ae02c5049b09"
      },
      "source": [
        "df_churn.Contract.value_counts()"
      ],
      "execution_count": null,
      "outputs": [
        {
          "output_type": "execute_result",
          "data": {
            "text/plain": [
              "Month-to-month    3875\n",
              "Two year          1695\n",
              "One year          1473\n",
              "Name: Contract, dtype: int64"
            ]
          },
          "metadata": {
            "tags": []
          },
          "execution_count": 83
        }
      ]
    },
    {
      "cell_type": "markdown",
      "metadata": {
        "id": "lsU28bn4Bbkt",
        "colab_type": "text"
      },
      "source": [
        "### Com relação ao modelos de contrato observamos  um comportamento semelhantes para os mdelos iguais"
      ]
    },
    {
      "cell_type": "code",
      "metadata": {
        "id": "i7h38qrv_9jB",
        "colab_type": "code",
        "colab": {
          "base_uri": "https://localhost:8080/",
          "height": 282
        },
        "outputId": "3a9e4bdc-fd5f-4bd2-8b42-696f2a5aba55"
      },
      "source": [
        "df_churn.MonthlyCharges[df_churn.Churn == 'Yes'][df_churn.Contract == 'Month-to-month'].plot.density() #Laranja\n",
        "df_churn.MonthlyCharges[df_churn.Churn == 'Yes'][df_churn.Contract == 'Two year'].plot.density() #Azul\n",
        "df_churn.MonthlyCharges[df_churn.Churn == 'Yes'][df_churn.Contract == 'One year'].plot.density() #Verde"
      ],
      "execution_count": null,
      "outputs": [
        {
          "output_type": "execute_result",
          "data": {
            "text/plain": [
              "<matplotlib.axes._subplots.AxesSubplot at 0x7ff7b5da4c50>"
            ]
          },
          "metadata": {
            "tags": []
          },
          "execution_count": 84
        },
        {
          "output_type": "display_data",
          "data": {
            "image/png": "[encoded data removed]",
            "text/plain": [
              "<Figure size 432x288 with 1 Axes>"
            ]
          },
          "metadata": {
            "tags": [],
            "needs_background": "light"
          }
        }
      ]
    },
    {
      "cell_type": "code",
      "metadata": {
        "id": "AhelTUfIAWHw",
        "colab_type": "code",
        "colab": {
          "base_uri": "https://localhost:8080/",
          "height": 282
        },
        "outputId": "ff31a6f9-9544-4827-894e-809889a01146"
      },
      "source": [
        "df_churn.MonthlyCharges[df_churn.Churn == 'No'][df_churn.Contract == 'Month-to-month'].plot.density() #Laranja\n",
        "df_churn.MonthlyCharges[df_churn.Churn == 'No'][df_churn.Contract == 'Two year'].plot.density() #Azul\n",
        "df_churn.MonthlyCharges[df_churn.Churn == 'No'][df_churn.Contract == 'One year'].plot.density() #Verde"
      ],
      "execution_count": null,
      "outputs": [
        {
          "output_type": "execute_result",
          "data": {
            "text/plain": [
              "<matplotlib.axes._subplots.AxesSubplot at 0x7ff7b5d5c940>"
            ]
          },
          "metadata": {
            "tags": []
          },
          "execution_count": 85
        },
        {
          "output_type": "display_data",
          "data": {
            "image/png": "[encoded data removed]",
            "text/plain": [
              "<Figure size 432x288 with 1 Axes>"
            ]
          },
          "metadata": {
            "tags": [],
            "needs_background": "light"
          }
        }
      ]
    },
    {
      "cell_type": "markdown",
      "metadata": {
        "id": "g_HhcwmmBvBI",
        "colab_type": "text"
      },
      "source": [
        " Com relação ao tipo deinternet observamos  um comportamento semelhantes para os mdelos iguais"
      ]
    },
    {
      "cell_type": "code",
      "metadata": {
        "id": "52JEYFYTArYB",
        "colab_type": "code",
        "colab": {
          "base_uri": "https://localhost:8080/",
          "height": 282
        },
        "outputId": "e4327f53-72f7-4008-d4e3-8301a2cf81e3"
      },
      "source": [
        "df_churn.MonthlyCharges[df_churn.Churn == 'Yes'][df_churn.InternetService == 'DSL'].plot.density() #Laranja\n",
        "df_churn.MonthlyCharges[df_churn.Churn == 'Yes'][df_churn.InternetService == 'Fiber optic'].plot.density() #Azul\n",
        "df_churn.MonthlyCharges[df_churn.Churn == 'Yes'][df_churn.InternetService == 'No'].plot.density() #Verde"
      ],
      "execution_count": null,
      "outputs": [
        {
          "output_type": "execute_result",
          "data": {
            "text/plain": [
              "<matplotlib.axes._subplots.AxesSubplot at 0x7ff7b5cc9b00>"
            ]
          },
          "metadata": {
            "tags": []
          },
          "execution_count": 86
        },
        {
          "output_type": "display_data",
          "data": {
            "image/png": "[encoded data removed]",
            "text/plain": [
              "<Figure size 432x288 with 1 Axes>"
            ]
          },
          "metadata": {
            "tags": [],
            "needs_background": "light"
          }
        }
      ]
    },
    {
      "cell_type": "code",
      "metadata": {
        "id": "tneOBMmEA_Lq",
        "colab_type": "code",
        "colab": {
          "base_uri": "https://localhost:8080/",
          "height": 282
        },
        "outputId": "9e1b3234-45f2-4b2d-ccb7-bb5fcfe90f4e"
      },
      "source": [
        "df_churn.MonthlyCharges[df_churn.Churn == 'No'][df_churn.InternetService == 'DSL'].plot.density() #Laranja\n",
        "df_churn.MonthlyCharges[df_churn.Churn == 'No'][df_churn.InternetService == 'Fiber optic'].plot.density() #Azul\n",
        "df_churn.MonthlyCharges[df_churn.Churn == 'No'][df_churn.InternetService == 'No'].plot.density() #Verde"
      ],
      "execution_count": null,
      "outputs": [
        {
          "output_type": "execute_result",
          "data": {
            "text/plain": [
              "<matplotlib.axes._subplots.AxesSubplot at 0x7ff7b5cade10>"
            ]
          },
          "metadata": {
            "tags": []
          },
          "execution_count": 87
        },
        {
          "output_type": "display_data",
          "data": {
            "image/png": "[encoded data removed]",
            "text/plain": [
              "<Figure size 432x288 with 1 Axes>"
            ]
          },
          "metadata": {
            "tags": [],
            "needs_background": "light"
          }
        }
      ]
    },
    {
      "cell_type": "code",
      "metadata": {
        "id": "n_28ZCfAB3ZH",
        "colab_type": "code",
        "colab": {
          "base_uri": "https://localhost:8080/",
          "height": 102
        },
        "outputId": "d7efc032-85f3-4498-cdf6-a433fc1b3599"
      },
      "source": [
        "df_churn.PaymentMethod.value_counts()"
      ],
      "execution_count": null,
      "outputs": [
        {
          "output_type": "execute_result",
          "data": {
            "text/plain": [
              "Electronic check             2365\n",
              "Mailed check                 1612\n",
              "Bank transfer (automatic)    1544\n",
              "Credit card (automatic)      1522\n",
              "Name: PaymentMethod, dtype: int64"
            ]
          },
          "metadata": {
            "tags": []
          },
          "execution_count": 88
        }
      ]
    },
    {
      "cell_type": "code",
      "metadata": {
        "id": "k59BSGvxCBt3",
        "colab_type": "code",
        "colab": {
          "base_uri": "https://localhost:8080/",
          "height": 282
        },
        "outputId": "f6cb8e4d-ed28-4c2c-b400-06e32168b43c"
      },
      "source": [
        "df_churn.MonthlyCharges[df_churn.Churn == 'Yes'][df_churn.PaymentMethod == 'Electronic check'].plot.density() #Laranja\n",
        "df_churn.MonthlyCharges[df_churn.Churn == 'Yes'][df_churn.PaymentMethod == 'Mailed check'].plot.density() #Azul\n",
        "df_churn.MonthlyCharges[df_churn.Churn == 'Yes'][df_churn.PaymentMethod == 'Bank transfer (automatic)'].plot.density() #Verde\n",
        "df_churn.MonthlyCharges[df_churn.Churn == 'Yes'][df_churn.PaymentMethod == 'Credit card (automatic)'].plot.density() #vermelho"
      ],
      "execution_count": null,
      "outputs": [
        {
          "output_type": "execute_result",
          "data": {
            "text/plain": [
              "<matplotlib.axes._subplots.AxesSubplot at 0x7ff7b5c2fc88>"
            ]
          },
          "metadata": {
            "tags": []
          },
          "execution_count": 89
        },
        {
          "output_type": "display_data",
          "data": {
            "image/png": "[encoded data removed]",
            "text/plain": [
              "<Figure size 432x288 with 1 Axes>"
            ]
          },
          "metadata": {
            "tags": [],
            "needs_background": "light"
          }
        }
      ]
    },
    {
      "cell_type": "markdown",
      "metadata": {
        "id": "3taWgY6hCqLq",
        "colab_type": "text"
      },
      "source": [
        "Com relação a forma de pagamento  não tem elação com relação a taxa de churn"
      ]
    },
    {
      "cell_type": "code",
      "metadata": {
        "id": "tC_nVppaCbIX",
        "colab_type": "code",
        "colab": {
          "base_uri": "https://localhost:8080/",
          "height": 282
        },
        "outputId": "4df1dc7c-6033-4daf-d276-9790fc7d27ee"
      },
      "source": [
        "df_churn.MonthlyCharges[df_churn.Churn == 'No'][df_churn.PaymentMethod == 'Electronic check'].plot.density() #Laranja\n",
        "df_churn.MonthlyCharges[df_churn.Churn == 'No'][df_churn.PaymentMethod == 'Mailed check'].plot.density() #Azul\n",
        "df_churn.MonthlyCharges[df_churn.Churn == 'No'][df_churn.PaymentMethod == 'Bank transfer (automatic)'].plot.density() #Verde\n",
        "df_churn.MonthlyCharges[df_churn.Churn == 'No'][df_churn.PaymentMethod == 'Credit card (automatic)'].plot.density() #vermelho"
      ],
      "execution_count": null,
      "outputs": [
        {
          "output_type": "execute_result",
          "data": {
            "text/plain": [
              "<matplotlib.axes._subplots.AxesSubplot at 0x7ff7b5b445c0>"
            ]
          },
          "metadata": {
            "tags": []
          },
          "execution_count": 90
        },
        {
          "output_type": "display_data",
          "data": {
            "image/png": "[encoded data removed]",
            "text/plain": [
              "<Figure size 432x288 with 1 Axes>"
            ]
          },
          "metadata": {
            "tags": [],
            "needs_background": "light"
          }
        }
      ]
    },
    {
      "cell_type": "code",
      "metadata": {
        "id": "8u-O1fVXC89p",
        "colab_type": "code",
        "colab": {
          "base_uri": "https://localhost:8080/",
          "height": 68
        },
        "outputId": "9c11c01a-1678-4ffb-ee36-b4590da6cc64"
      },
      "source": [
        "df_churn.PaperlessBilling.value_counts()"
      ],
      "execution_count": null,
      "outputs": [
        {
          "output_type": "execute_result",
          "data": {
            "text/plain": [
              "Yes    4171\n",
              "No     2872\n",
              "Name: PaperlessBilling, dtype: int64"
            ]
          },
          "metadata": {
            "tags": []
          },
          "execution_count": 91
        }
      ]
    },
    {
      "cell_type": "code",
      "metadata": {
        "id": "CwUcgPEiDClb",
        "colab_type": "code",
        "colab": {
          "base_uri": "https://localhost:8080/",
          "height": 282
        },
        "outputId": "b4f257d9-e01b-4742-f6ac-36f148c19fa1"
      },
      "source": [
        "df_churn.MonthlyCharges[df_churn.Churn == 'No'][df_churn.PaperlessBilling == 'Yes'].plot.density() #Laranja\n",
        "df_churn.MonthlyCharges[df_churn.Churn == 'No'][df_churn.PaperlessBilling == 'No'].plot.density() #Azul"
      ],
      "execution_count": null,
      "outputs": [
        {
          "output_type": "execute_result",
          "data": {
            "text/plain": [
              "<matplotlib.axes._subplots.AxesSubplot at 0x7ff7b5bdd7b8>"
            ]
          },
          "metadata": {
            "tags": []
          },
          "execution_count": 92
        },
        {
          "output_type": "display_data",
          "data": {
            "image/png": "[encoded data removed]",
            "text/plain": [
              "<Figure size 432x288 with 1 Axes>"
            ]
          },
          "metadata": {
            "tags": [],
            "needs_background": "light"
          }
        }
      ]
    },
    {
      "cell_type": "code",
      "metadata": {
        "id": "Zu8lckovDYpo",
        "colab_type": "code",
        "colab": {
          "base_uri": "https://localhost:8080/",
          "height": 282
        },
        "outputId": "7f18bf20-251f-4960-c604-21bcea0ac023"
      },
      "source": [
        "df_churn.MonthlyCharges[df_churn.Churn == 'Yes'][df_churn.PaperlessBilling == 'Yes'].plot.density() #Verde\n",
        "df_churn.MonthlyCharges[df_churn.Churn == 'Yes'][df_churn.PaperlessBilling == 'No'].plot.density() #vermelho"
      ],
      "execution_count": null,
      "outputs": [
        {
          "output_type": "execute_result",
          "data": {
            "text/plain": [
              "<matplotlib.axes._subplots.AxesSubplot at 0x7ff7b5aaa320>"
            ]
          },
          "metadata": {
            "tags": []
          },
          "execution_count": 93
        },
        {
          "output_type": "display_data",
          "data": {
            "image/png": "[encoded data removed]",
            "text/plain": [
              "<Figure size 432x288 with 1 Axes>"
            ]
          },
          "metadata": {
            "tags": [],
            "needs_background": "light"
          }
        }
      ]
    },
    {
      "cell_type": "code",
      "metadata": {
        "id": "6tpeWg-uGHZD",
        "colab_type": "code",
        "colab": {
          "base_uri": "https://localhost:8080/",
          "height": 282
        },
        "outputId": "f93072f8-981a-43c1-81ab-775bb83150c0"
      },
      "source": [
        "df_churn.tenure[df_churn.Churn == 'Yes'].plot.density()\n",
        "df_churn.tenure[df_churn.Churn == 'No'].plot.density()"
      ],
      "execution_count": null,
      "outputs": [
        {
          "output_type": "execute_result",
          "data": {
            "text/plain": [
              "<matplotlib.axes._subplots.AxesSubplot at 0x7ff7b5a17160>"
            ]
          },
          "metadata": {
            "tags": []
          },
          "execution_count": 94
        },
        {
          "output_type": "display_data",
          "data": {
            "image/png": "[encoded data removed]",
            "text/plain": [
              "<Figure size 432x288 with 1 Axes>"
            ]
          },
          "metadata": {
            "tags": [],
            "needs_background": "light"
          }
        }
      ]
    },
    {
      "cell_type": "code",
      "metadata": {
        "id": "dY3mwvD7GTKz",
        "colab_type": "code",
        "colab": {
          "base_uri": "https://localhost:8080/",
          "height": 68
        },
        "outputId": "03587148-abfd-4ea1-b78d-e2085f8ffdad"
      },
      "source": [
        "df_churn.PhoneService.value_counts()"
      ],
      "execution_count": null,
      "outputs": [
        {
          "output_type": "execute_result",
          "data": {
            "text/plain": [
              "Yes    6361\n",
              "No      682\n",
              "Name: PhoneService, dtype: int64"
            ]
          },
          "metadata": {
            "tags": []
          },
          "execution_count": 95
        }
      ]
    },
    {
      "cell_type": "code",
      "metadata": {
        "id": "jcv0ohLbGsPE",
        "colab_type": "code",
        "colab": {
          "base_uri": "https://localhost:8080/",
          "height": 286
        },
        "outputId": "c4f8a1ac-20e3-4a12-82db-ef37215fd9fc"
      },
      "source": [
        "df_churn.MonthlyCharges[df_churn.Churn == 'No'][df_churn.PhoneService == 'No'].plot.density() #Laranja\n",
        "df_churn.MonthlyCharges[df_churn.Churn == 'No'][df_churn.PhoneService == 'Yes'].plot.density() #Azul"
      ],
      "execution_count": null,
      "outputs": [
        {
          "output_type": "execute_result",
          "data": {
            "text/plain": [
              "<matplotlib.axes._subplots.AxesSubplot at 0x7ff7b598ccf8>"
            ]
          },
          "metadata": {
            "tags": []
          },
          "execution_count": 96
        },
        {
          "output_type": "display_data",
          "data": {
            "image/png": "[encoded data removed]",
            "text/plain": [
              "<Figure size 432x288 with 1 Axes>"
            ]
          },
          "metadata": {
            "tags": [],
            "needs_background": "light"
          }
        }
      ]
    },
    {
      "cell_type": "code",
      "metadata": {
        "id": "_JuLagpcJgb9",
        "colab_type": "code",
        "colab": {
          "base_uri": "https://localhost:8080/",
          "height": 283
        },
        "outputId": "07c95094-66f0-45bb-b9d0-b34958adddc3"
      },
      "source": [
        "df_churn.MonthlyCharges[df_churn.Churn == 'Yes'][df_churn.PhoneService == 'No'].plot.density() #Laranja\n",
        "df_churn.MonthlyCharges[df_churn.Churn == 'Yes'][df_churn.PhoneService == 'Yes'].plot.density() #Azul"
      ],
      "execution_count": null,
      "outputs": [
        {
          "output_type": "execute_result",
          "data": {
            "text/plain": [
              "<matplotlib.axes._subplots.AxesSubplot at 0x7ff7b5981358>"
            ]
          },
          "metadata": {
            "tags": []
          },
          "execution_count": 97
        },
        {
          "output_type": "display_data",
          "data": {
            "image/png": "[encoded data removed]",
            "text/plain": [
              "<Figure size 432x288 with 1 Axes>"
            ]
          },
          "metadata": {
            "tags": [],
            "needs_background": "light"
          }
        }
      ]
    },
    {
      "cell_type": "code",
      "metadata": {
        "id": "BJN5O1rtK8F5",
        "colab_type": "code",
        "colab": {
          "base_uri": "https://localhost:8080/",
          "height": 493
        },
        "outputId": "7bb57cdd-ab0e-4714-bb25-147b243e8131"
      },
      "source": [
        "df_churn.info()"
      ],
      "execution_count": null,
      "outputs": [
        {
          "output_type": "stream",
          "text": [
            "<class 'pandas.core.frame.DataFrame'>\n",
            "RangeIndex: 7043 entries, 0 to 7042\n",
            "Data columns (total 21 columns):\n",
            " #   Column            Non-Null Count  Dtype  \n",
            "---  ------            --------------  -----  \n",
            " 0   customerID        7043 non-null   object \n",
            " 1   gender            7043 non-null   object \n",
            " 2   SeniorCitizen     7043 non-null   int64  \n",
            " 3   Partner           7043 non-null   object \n",
            " 4   Dependents        7043 non-null   object \n",
            " 5   tenure            7043 non-null   int64  \n",
            " 6   PhoneService      7043 non-null   object \n",
            " 7   MultipleLines     7043 non-null   object \n",
            " 8   InternetService   7043 non-null   object \n",
            " 9   OnlineSecurity    7043 non-null   object \n",
            " 10  OnlineBackup      7043 non-null   object \n",
            " 11  DeviceProtection  7043 non-null   object \n",
            " 12  TechSupport       7043 non-null   object \n",
            " 13  StreamingTV       7043 non-null   object \n",
            " 14  StreamingMovies   7043 non-null   object \n",
            " 15  Contract          7043 non-null   object \n",
            " 16  PaperlessBilling  7043 non-null   object \n",
            " 17  PaymentMethod     7043 non-null   object \n",
            " 18  MonthlyCharges    7043 non-null   float64\n",
            " 19  TotalCharges      7032 non-null   float64\n",
            " 20  Churn             7043 non-null   object \n",
            "dtypes: float64(2), int64(2), object(17)\n",
            "memory usage: 1.1+ MB\n"
          ],
          "name": "stdout"
        }
      ]
    },
    {
      "cell_type": "code",
      "metadata": {
        "id": "BvqYCrw1LZB9",
        "colab_type": "code",
        "colab": {
          "base_uri": "https://localhost:8080/",
          "height": 68
        },
        "outputId": "9ca2e342-458e-45f2-a685-1b86634adb62"
      },
      "source": [
        "df_churn.gender.value_counts()"
      ],
      "execution_count": null,
      "outputs": [
        {
          "output_type": "execute_result",
          "data": {
            "text/plain": [
              "Male      3555\n",
              "Female    3488\n",
              "Name: gender, dtype: int64"
            ]
          },
          "metadata": {
            "tags": []
          },
          "execution_count": 99
        }
      ]
    },
    {
      "cell_type": "code",
      "metadata": {
        "id": "ntXws7hDLhTz",
        "colab_type": "code",
        "colab": {
          "base_uri": "https://localhost:8080/",
          "height": 282
        },
        "outputId": "cbc4d186-f50b-4de8-cb65-34ad5f7f8ec5"
      },
      "source": [
        "df_churn.MonthlyCharges[df_churn.gender == 'Male'].plot.density()\n",
        "df_churn.MonthlyCharges[df_churn.gender == 'Female'].plot.density()"
      ],
      "execution_count": null,
      "outputs": [
        {
          "output_type": "execute_result",
          "data": {
            "text/plain": [
              "<matplotlib.axes._subplots.AxesSubplot at 0x7ff7b5965f98>"
            ]
          },
          "metadata": {
            "tags": []
          },
          "execution_count": 100
        },
        {
          "output_type": "display_data",
          "data": {
            "image/png": "[encoded data removed]",
            "text/plain": [
              "<Figure size 432x288 with 1 Axes>"
            ]
          },
          "metadata": {
            "tags": [],
            "needs_background": "light"
          }
        }
      ]
    },
    {
      "cell_type": "code",
      "metadata": {
        "id": "4yvV-eVBLquD",
        "colab_type": "code",
        "colab": {
          "base_uri": "https://localhost:8080/",
          "height": 284
        },
        "outputId": "0ddb2526-92d9-4162-ac85-d9d96abd5c8a"
      },
      "source": [
        "df_churn.MonthlyCharges[df_churn.gender == 'Male'][df_churn.Churn == 'Yes'].plot.density()\n",
        "df_churn.MonthlyCharges[df_churn.gender == 'Female'][df_churn.Churn == 'Yes'].plot.density()"
      ],
      "execution_count": null,
      "outputs": [
        {
          "output_type": "execute_result",
          "data": {
            "text/plain": [
              "<matplotlib.axes._subplots.AxesSubplot at 0x7ff7b2400c50>"
            ]
          },
          "metadata": {
            "tags": []
          },
          "execution_count": 101
        },
        {
          "output_type": "display_data",
          "data": {
            "image/png": "[encoded data removed]",
            "text/plain": [
              "<Figure size 432x288 with 1 Axes>"
            ]
          },
          "metadata": {
            "tags": [],
            "needs_background": "light"
          }
        }
      ]
    },
    {
      "cell_type": "code",
      "metadata": {
        "id": "55me2FiNMqdW",
        "colab_type": "code",
        "colab": {
          "base_uri": "https://localhost:8080/",
          "height": 282
        },
        "outputId": "70021a0f-452f-421e-ef30-b5e28e9720ff"
      },
      "source": [
        "df_churn.MonthlyCharges[df_churn.gender == 'Male'][df_churn.Churn == 'No'].plot.density()\n",
        "df_churn.MonthlyCharges[df_churn.gender == 'Female'][df_churn.Churn == 'No'].plot.density()"
      ],
      "execution_count": null,
      "outputs": [
        {
          "output_type": "execute_result",
          "data": {
            "text/plain": [
              "<matplotlib.axes._subplots.AxesSubplot at 0x7ff7b2388198>"
            ]
          },
          "metadata": {
            "tags": []
          },
          "execution_count": 102
        },
        {
          "output_type": "display_data",
          "data": {
            "image/png": "[encoded data removed]",
            "text/plain": [
              "<Figure size 432x288 with 1 Axes>"
            ]
          },
          "metadata": {
            "tags": [],
            "needs_background": "light"
          }
        }
      ]
    },
    {
      "cell_type": "code",
      "metadata": {
        "id": "owoHgPgTT8iI",
        "colab_type": "code",
        "colab": {
          "base_uri": "https://localhost:8080/",
          "height": 309
        },
        "outputId": "06da7a25-5be4-4e90-ab3d-58278fb4c94b"
      },
      "source": [
        "#Criar uma coluna nova omo boolean e em seguida converte para numerica\n",
        "df_churn['churn_number'] = df_churn['Churn'] == 'Yes'\n",
        "df_churn['churn_number'] = df_churn['churn_number'] * 1\n",
        "df_churn.head()"
      ],
      "execution_count": null,
      "outputs": [
        {
          "output_type": "execute_result",
          "data": {
            "text/html": [
              "<div>\n",
              "<style scoped>\n",
              "    .dataframe tbody tr th:only-of-type {\n",
              "        vertical-align: middle;\n",
              "    }\n",
              "\n",
              "    .dataframe tbody tr th {\n",
              "        vertical-align: top;\n",
              "    }\n",
              "\n",
              "    .dataframe thead th {\n",
              "        text-align: right;\n",
              "    }\n",
              "</style>\n",
              "<table border=\"1\" class=\"dataframe\">\n",
              "  <thead>\n",
              "    <tr style=\"text-align: right;\">\n",
              "      <th></th>\n",
              "      <th>customerID</th>\n",
              "      <th>gender</th>\n",
              "      <th>SeniorCitizen</th>\n",
              "      <th>Partner</th>\n",
              "      <th>Dependents</th>\n",
              "      <th>tenure</th>\n",
              "      <th>PhoneService</th>\n",
              "      <th>MultipleLines</th>\n",
              "      <th>InternetService</th>\n",
              "      <th>OnlineSecurity</th>\n",
              "      <th>OnlineBackup</th>\n",
              "      <th>DeviceProtection</th>\n",
              "      <th>TechSupport</th>\n",
              "      <th>StreamingTV</th>\n",
              "      <th>StreamingMovies</th>\n",
              "      <th>Contract</th>\n",
              "      <th>PaperlessBilling</th>\n",
              "      <th>PaymentMethod</th>\n",
              "      <th>MonthlyCharges</th>\n",
              "      <th>TotalCharges</th>\n",
              "      <th>Churn</th>\n",
              "      <th>churn_number</th>\n",
              "    </tr>\n",
              "  </thead>\n",
              "  <tbody>\n",
              "    <tr>\n",
              "      <th>0</th>\n",
              "      <td>7590-VHVEG</td>\n",
              "      <td>Female</td>\n",
              "      <td>0</td>\n",
              "      <td>Yes</td>\n",
              "      <td>No</td>\n",
              "      <td>1</td>\n",
              "      <td>No</td>\n",
              "      <td>No phone service</td>\n",
              "      <td>DSL</td>\n",
              "      <td>No</td>\n",
              "      <td>Yes</td>\n",
              "      <td>No</td>\n",
              "      <td>No</td>\n",
              "      <td>No</td>\n",
              "      <td>No</td>\n",
              "      <td>Month-to-month</td>\n",
              "      <td>Yes</td>\n",
              "      <td>Electronic check</td>\n",
              "      <td>29.85</td>\n",
              "      <td>29.85</td>\n",
              "      <td>No</td>\n",
              "      <td>0</td>\n",
              "    </tr>\n",
              "    <tr>\n",
              "      <th>1</th>\n",
              "      <td>5575-GNVDE</td>\n",
              "      <td>Male</td>\n",
              "      <td>0</td>\n",
              "      <td>No</td>\n",
              "      <td>No</td>\n",
              "      <td>34</td>\n",
              "      <td>Yes</td>\n",
              "      <td>No</td>\n",
              "      <td>DSL</td>\n",
              "      <td>Yes</td>\n",
              "      <td>No</td>\n",
              "      <td>Yes</td>\n",
              "      <td>No</td>\n",
              "      <td>No</td>\n",
              "      <td>No</td>\n",
              "      <td>One year</td>\n",
              "      <td>No</td>\n",
              "      <td>Mailed check</td>\n",
              "      <td>56.95</td>\n",
              "      <td>1889.50</td>\n",
              "      <td>No</td>\n",
              "      <td>0</td>\n",
              "    </tr>\n",
              "    <tr>\n",
              "      <th>2</th>\n",
              "      <td>3668-QPYBK</td>\n",
              "      <td>Male</td>\n",
              "      <td>0</td>\n",
              "      <td>No</td>\n",
              "      <td>No</td>\n",
              "      <td>2</td>\n",
              "      <td>Yes</td>\n",
              "      <td>No</td>\n",
              "      <td>DSL</td>\n",
              "      <td>Yes</td>\n",
              "      <td>Yes</td>\n",
              "      <td>No</td>\n",
              "      <td>No</td>\n",
              "      <td>No</td>\n",
              "      <td>No</td>\n",
              "      <td>Month-to-month</td>\n",
              "      <td>Yes</td>\n",
              "      <td>Mailed check</td>\n",
              "      <td>53.85</td>\n",
              "      <td>108.15</td>\n",
              "      <td>Yes</td>\n",
              "      <td>1</td>\n",
              "    </tr>\n",
              "    <tr>\n",
              "      <th>3</th>\n",
              "      <td>7795-CFOCW</td>\n",
              "      <td>Male</td>\n",
              "      <td>0</td>\n",
              "      <td>No</td>\n",
              "      <td>No</td>\n",
              "      <td>45</td>\n",
              "      <td>No</td>\n",
              "      <td>No phone service</td>\n",
              "      <td>DSL</td>\n",
              "      <td>Yes</td>\n",
              "      <td>No</td>\n",
              "      <td>Yes</td>\n",
              "      <td>Yes</td>\n",
              "      <td>No</td>\n",
              "      <td>No</td>\n",
              "      <td>One year</td>\n",
              "      <td>No</td>\n",
              "      <td>Bank transfer (automatic)</td>\n",
              "      <td>42.30</td>\n",
              "      <td>1840.75</td>\n",
              "      <td>No</td>\n",
              "      <td>0</td>\n",
              "    </tr>\n",
              "    <tr>\n",
              "      <th>4</th>\n",
              "      <td>9237-HQITU</td>\n",
              "      <td>Female</td>\n",
              "      <td>0</td>\n",
              "      <td>No</td>\n",
              "      <td>No</td>\n",
              "      <td>2</td>\n",
              "      <td>Yes</td>\n",
              "      <td>No</td>\n",
              "      <td>Fiber optic</td>\n",
              "      <td>No</td>\n",
              "      <td>No</td>\n",
              "      <td>No</td>\n",
              "      <td>No</td>\n",
              "      <td>No</td>\n",
              "      <td>No</td>\n",
              "      <td>Month-to-month</td>\n",
              "      <td>Yes</td>\n",
              "      <td>Electronic check</td>\n",
              "      <td>70.70</td>\n",
              "      <td>151.65</td>\n",
              "      <td>Yes</td>\n",
              "      <td>1</td>\n",
              "    </tr>\n",
              "  </tbody>\n",
              "</table>\n",
              "</div>"
            ],
            "text/plain": [
              "   customerID  gender  SeniorCitizen  ... TotalCharges Churn  churn_number\n",
              "0  7590-VHVEG  Female              0  ...        29.85    No             0\n",
              "1  5575-GNVDE    Male              0  ...      1889.50    No             0\n",
              "2  3668-QPYBK    Male              0  ...       108.15   Yes             1\n",
              "3  7795-CFOCW    Male              0  ...      1840.75    No             0\n",
              "4  9237-HQITU  Female              0  ...       151.65   Yes             1\n",
              "\n",
              "[5 rows x 22 columns]"
            ]
          },
          "metadata": {
            "tags": []
          },
          "execution_count": 103
        }
      ]
    },
    {
      "cell_type": "code",
      "metadata": {
        "id": "RdOrEGWMpxmj",
        "colab_type": "code",
        "colab": {
          "base_uri": "https://localhost:8080/",
          "height": 408
        },
        "outputId": "f283a51e-de82-4039-c194-3c99d03a69cb"
      },
      "source": [
        "df_churn.isnull().sum()"
      ],
      "execution_count": null,
      "outputs": [
        {
          "output_type": "execute_result",
          "data": {
            "text/plain": [
              "customerID           0\n",
              "gender               0\n",
              "SeniorCitizen        0\n",
              "Partner              0\n",
              "Dependents           0\n",
              "tenure               0\n",
              "PhoneService         0\n",
              "MultipleLines        0\n",
              "InternetService      0\n",
              "OnlineSecurity       0\n",
              "OnlineBackup         0\n",
              "DeviceProtection     0\n",
              "TechSupport          0\n",
              "StreamingTV          0\n",
              "StreamingMovies      0\n",
              "Contract             0\n",
              "PaperlessBilling     0\n",
              "PaymentMethod        0\n",
              "MonthlyCharges       0\n",
              "TotalCharges        11\n",
              "Churn                0\n",
              "churn_number         0\n",
              "dtype: int64"
            ]
          },
          "metadata": {
            "tags": []
          },
          "execution_count": 104
        }
      ]
    },
    {
      "cell_type": "code",
      "metadata": {
        "id": "_Yue56SorXBg",
        "colab_type": "code",
        "colab": {
          "base_uri": "https://localhost:8080/",
          "height": 408
        },
        "outputId": "7c2787a8-2bea-498a-f9fb-0b670ee38818"
      },
      "source": [
        "#removi as series que não tem total pois vou precisar desta informação ja que ela se relaciona com o churn. \n",
        "df_churn.dropna(inplace = True)  \n",
        "df_churn.isnull().sum()"
      ],
      "execution_count": null,
      "outputs": [
        {
          "output_type": "execute_result",
          "data": {
            "text/plain": [
              "customerID          0\n",
              "gender              0\n",
              "SeniorCitizen       0\n",
              "Partner             0\n",
              "Dependents          0\n",
              "tenure              0\n",
              "PhoneService        0\n",
              "MultipleLines       0\n",
              "InternetService     0\n",
              "OnlineSecurity      0\n",
              "OnlineBackup        0\n",
              "DeviceProtection    0\n",
              "TechSupport         0\n",
              "StreamingTV         0\n",
              "StreamingMovies     0\n",
              "Contract            0\n",
              "PaperlessBilling    0\n",
              "PaymentMethod       0\n",
              "MonthlyCharges      0\n",
              "TotalCharges        0\n",
              "Churn               0\n",
              "churn_number        0\n",
              "dtype: int64"
            ]
          },
          "metadata": {
            "tags": []
          },
          "execution_count": 105
        }
      ]
    },
    {
      "cell_type": "code",
      "metadata": {
        "id": "k_McCRXULyfu",
        "colab_type": "code",
        "colab": {
          "base_uri": "https://localhost:8080/",
          "height": 282
        },
        "outputId": "583ac4ec-4b12-4db0-e6b0-12e856a1388c"
      },
      "source": [
        "df_churn.tenure.value_counts().plot.box()"
      ],
      "execution_count": null,
      "outputs": [
        {
          "output_type": "execute_result",
          "data": {
            "text/plain": [
              "<matplotlib.axes._subplots.AxesSubplot at 0x7ff7b23d3470>"
            ]
          },
          "metadata": {
            "tags": []
          },
          "execution_count": 106
        },
        {
          "output_type": "display_data",
          "data": {
            "image/png": "[encoded data removed]",
            "text/plain": [
              "<Figure size 432x288 with 1 Axes>"
            ]
          },
          "metadata": {
            "tags": [],
            "needs_background": "light"
          }
        }
      ]
    },
    {
      "cell_type": "code",
      "metadata": {
        "id": "ZBRjoSbVL5st",
        "colab_type": "code",
        "colab": {
          "base_uri": "https://localhost:8080/",
          "height": 282
        },
        "outputId": "b839ff98-83a6-4814-8a5c-ee5d24dc8328"
      },
      "source": [
        "stats = boxplot_stats(df_churn.tenure)[0]\n",
        "\n",
        "df_churn = df_churn[df_churn.tenure <= stats['whishi']]\n",
        "df_churn.tenure.plot.box()"
      ],
      "execution_count": null,
      "outputs": [
        {
          "output_type": "execute_result",
          "data": {
            "text/plain": [
              "<matplotlib.axes._subplots.AxesSubplot at 0x7ff7b22da320>"
            ]
          },
          "metadata": {
            "tags": []
          },
          "execution_count": 107
        },
        {
          "output_type": "display_data",
          "data": {
            "image/png": "[encoded data removed]",
            "text/plain": [
              "<Figure size 432x288 with 1 Axes>"
            ]
          },
          "metadata": {
            "tags": [],
            "needs_background": "light"
          }
        }
      ]
    },
    {
      "cell_type": "code",
      "metadata": {
        "id": "nAbix66wKWTF",
        "colab_type": "code",
        "colab": {
          "base_uri": "https://localhost:8080/",
          "height": 282
        },
        "outputId": "67b9b35d-44b0-4936-a379-7f3238e23d6d"
      },
      "source": [
        "df_churn.tenure.plot.hist()"
      ],
      "execution_count": null,
      "outputs": [
        {
          "output_type": "execute_result",
          "data": {
            "text/plain": [
              "<matplotlib.axes._subplots.AxesSubplot at 0x7ff7b22b47f0>"
            ]
          },
          "metadata": {
            "tags": []
          },
          "execution_count": 108
        },
        {
          "output_type": "display_data",
          "data": {
            "image/png": "[encoded data removed]",
            "text/plain": [
              "<Figure size 432x288 with 1 Axes>"
            ]
          },
          "metadata": {
            "tags": [],
            "needs_background": "light"
          }
        }
      ]
    },
    {
      "cell_type": "code",
      "metadata": {
        "id": "-coqlrHZOIi4",
        "colab_type": "code",
        "colab": {
          "base_uri": "https://localhost:8080/",
          "height": 282
        },
        "outputId": "3742ebea-e9d7-497c-d40e-045c37418ba6"
      },
      "source": [
        "df_churn.tenure[df_churn.Churn == 'Yes'].plot.hist()"
      ],
      "execution_count": null,
      "outputs": [
        {
          "output_type": "execute_result",
          "data": {
            "text/plain": [
              "<matplotlib.axes._subplots.AxesSubplot at 0x7ff7b236f0f0>"
            ]
          },
          "metadata": {
            "tags": []
          },
          "execution_count": 109
        },
        {
          "output_type": "display_data",
          "data": {
            "image/png": "[encoded data removed]",
            "text/plain": [
              "<Figure size 432x288 with 1 Axes>"
            ]
          },
          "metadata": {
            "tags": [],
            "needs_background": "light"
          }
        }
      ]
    },
    {
      "cell_type": "code",
      "metadata": {
        "id": "7CksVlGSOecQ",
        "colab_type": "code",
        "colab": {
          "base_uri": "https://localhost:8080/",
          "height": 333
        },
        "outputId": "41f89a8a-56bb-4fb3-94fe-0b4018c1e30c"
      },
      "source": [
        "#  def criar_faixas_tenure(t):\n",
        "#     if t >= 70:\n",
        "#         return '70'\n",
        "#     if t >= 65:\n",
        "#         return '65-70'    \n",
        "#     elif t >= 60:\n",
        "#         return '60-65'\n",
        "#     elif t >= 47:\n",
        "#         return '47-50'\n",
        "#     elif t >= 45:\n",
        "#         return '45-47'\n",
        "#     elif t >= 40:\n",
        "#         return '40-45'    \n",
        "#     elif t >= 30:\n",
        "#         return '30-40'\n",
        "#     elif t >= 20:\n",
        "#         return '20-30'\n",
        "#     elif t >= 10:\n",
        "#         return '10-20'\n",
        "#     elif t >= 7:\n",
        "#         return '7-10'\n",
        "#     elif t >= 5:\n",
        "#         return '5-7'\n",
        "#     elif t >= 3:\n",
        "#         return '3-5'    \n",
        "#     elif t >= 1:\n",
        "#         return '1-3'    \n",
        "#     elif t >= 0:\n",
        "#         return '0-1'    \n",
        "\n",
        "\n",
        "# df_churn['faixa_tenure'] = df_churn['tenure'].apply(criar_faixas_tenure)  \n",
        "# df_churn.faixa_tenure.value_counts()\n",
        "\n",
        "discretizer = KBinsDiscretizer(n_bins=7, encode='ordinal', strategy='kmeans')\n",
        "df_churn = df_churn.assign(faixa_tenure = discretizer.fit_transform(df_churn.tenure.values.reshape(-1, 1)))\n",
        "df_churn.head()\n",
        "[ df_churn[df_churn.faixa_tenure == i].tenure.plot.density() for i in range(4) ]"
      ],
      "execution_count": null,
      "outputs": [
        {
          "output_type": "execute_result",
          "data": {
            "text/plain": [
              "[<matplotlib.axes._subplots.AxesSubplot at 0x7ff7b220fd30>,\n",
              " <matplotlib.axes._subplots.AxesSubplot at 0x7ff7b220fd30>,\n",
              " <matplotlib.axes._subplots.AxesSubplot at 0x7ff7b220fd30>,\n",
              " <matplotlib.axes._subplots.AxesSubplot at 0x7ff7b220fd30>]"
            ]
          },
          "metadata": {
            "tags": []
          },
          "execution_count": 110
        },
        {
          "output_type": "display_data",
          "data": {
            "image/png": "[encoded data removed]",
            "text/plain": [
              "<Figure size 432x288 with 1 Axes>"
            ]
          },
          "metadata": {
            "tags": [],
            "needs_background": "light"
          }
        }
      ]
    },
    {
      "cell_type": "code",
      "metadata": {
        "id": "J_12FGekrzxX",
        "colab_type": "code",
        "colab": {
          "base_uri": "https://localhost:8080/",
          "height": 323
        },
        "outputId": "1d219f7a-7476-4296-e0c5-07e3d8ac9c67"
      },
      "source": [
        "df_dummies = df_churn.copy()\n",
        "# df_dummies = df_dummies.drop(columns=)\n",
        "columns = df_dummies.columns.drop(['customerID', 'gender',  'churn_number', 'tenure', 'TotalCharges', 'MonthlyCharges'])\n",
        "# print(columns.values)\n",
        "df_dummies = pd.get_dummies(df_churn, columns=columns.values)\n",
        "columns = df_dummies.columns.drop(['customerID', 'churn_number', 'tenure', 'TotalCharges', 'MonthlyCharges'])\n",
        "print(columns.values)\n",
        "df_dummies.head()\n",
        "# df_dummies.columns\n",
        "# columns = ['faixa_tenure_1-3','faixa_tenure_10-20', 'faixa_tenure_20-30','faixa_tenure_3-5','faixa_tenure_30-40', 'faixa_tenure_40-45','faixa_tenure_45-47','faixa_tenure_47-50', 'faixa_tenure_5-7','faixa_tenure_60-65','faixa_tenure_65-70', 'faixa_tenure_7-10','faixa_tenure_70']\n",
        "\n",
        "# df_model = df_churn.copy()\n",
        "df_model = df_dummies.copy()\n",
        "# df_model.head()\n",
        "#plt.figure(figsize=(15,8))\n",
        "#df_dummies.corr()['churn_number'].sort_values(ascending = False).plot(kind='bar')"
      ],
      "execution_count": null,
      "outputs": [
        {
          "output_type": "stream",
          "text": [
            "['gender' 'SeniorCitizen_0' 'SeniorCitizen_1' 'Partner_No' 'Partner_Yes'\n",
            " 'Dependents_No' 'Dependents_Yes' 'PhoneService_No' 'PhoneService_Yes'\n",
            " 'MultipleLines_No' 'MultipleLines_No phone service' 'MultipleLines_Yes'\n",
            " 'InternetService_DSL' 'InternetService_Fiber optic' 'InternetService_No'\n",
            " 'OnlineSecurity_No' 'OnlineSecurity_No internet service'\n",
            " 'OnlineSecurity_Yes' 'OnlineBackup_No' 'OnlineBackup_No internet service'\n",
            " 'OnlineBackup_Yes' 'DeviceProtection_No'\n",
            " 'DeviceProtection_No internet service' 'DeviceProtection_Yes'\n",
            " 'TechSupport_No' 'TechSupport_No internet service' 'TechSupport_Yes'\n",
            " 'StreamingTV_No' 'StreamingTV_No internet service' 'StreamingTV_Yes'\n",
            " 'StreamingMovies_No' 'StreamingMovies_No internet service'\n",
            " 'StreamingMovies_Yes' 'Contract_Month-to-month' 'Contract_One year'\n",
            " 'Contract_Two year' 'PaperlessBilling_No' 'PaperlessBilling_Yes'\n",
            " 'PaymentMethod_Bank transfer (automatic)'\n",
            " 'PaymentMethod_Credit card (automatic)' 'PaymentMethod_Electronic check'\n",
            " 'PaymentMethod_Mailed check' 'Churn_No' 'Churn_Yes' 'faixa_tenure_0.0'\n",
            " 'faixa_tenure_1.0' 'faixa_tenure_2.0' 'faixa_tenure_3.0'\n",
            " 'faixa_tenure_4.0' 'faixa_tenure_5.0' 'faixa_tenure_6.0']\n"
          ],
          "name": "stdout"
        }
      ]
    },
    {
      "cell_type": "code",
      "metadata": {
        "id": "3HoQ2483_msw",
        "colab_type": "code",
        "colab": {
          "base_uri": "https://localhost:8080/",
          "height": 326
        },
        "outputId": "fefa0bbb-28de-4c32-ac2a-120ba69afc6b"
      },
      "source": [
        "df_dummies.head()"
      ],
      "execution_count": null,
      "outputs": [
        {
          "output_type": "execute_result",
          "data": {
            "text/html": [
              "<div>\n",
              "<style scoped>\n",
              "    .dataframe tbody tr th:only-of-type {\n",
              "        vertical-align: middle;\n",
              "    }\n",
              "\n",
              "    .dataframe tbody tr th {\n",
              "        vertical-align: top;\n",
              "    }\n",
              "\n",
              "    .dataframe thead th {\n",
              "        text-align: right;\n",
              "    }\n",
              "</style>\n",
              "<table border=\"1\" class=\"dataframe\">\n",
              "  <thead>\n",
              "    <tr style=\"text-align: right;\">\n",
              "      <th></th>\n",
              "      <th>customerID</th>\n",
              "      <th>gender</th>\n",
              "      <th>tenure</th>\n",
              "      <th>MonthlyCharges</th>\n",
              "      <th>TotalCharges</th>\n",
              "      <th>churn_number</th>\n",
              "      <th>SeniorCitizen_0</th>\n",
              "      <th>SeniorCitizen_1</th>\n",
              "      <th>Partner_No</th>\n",
              "      <th>Partner_Yes</th>\n",
              "      <th>Dependents_No</th>\n",
              "      <th>Dependents_Yes</th>\n",
              "      <th>PhoneService_No</th>\n",
              "      <th>PhoneService_Yes</th>\n",
              "      <th>MultipleLines_No</th>\n",
              "      <th>MultipleLines_No phone service</th>\n",
              "      <th>MultipleLines_Yes</th>\n",
              "      <th>InternetService_DSL</th>\n",
              "      <th>InternetService_Fiber optic</th>\n",
              "      <th>InternetService_No</th>\n",
              "      <th>OnlineSecurity_No</th>\n",
              "      <th>OnlineSecurity_No internet service</th>\n",
              "      <th>OnlineSecurity_Yes</th>\n",
              "      <th>OnlineBackup_No</th>\n",
              "      <th>OnlineBackup_No internet service</th>\n",
              "      <th>OnlineBackup_Yes</th>\n",
              "      <th>DeviceProtection_No</th>\n",
              "      <th>DeviceProtection_No internet service</th>\n",
              "      <th>DeviceProtection_Yes</th>\n",
              "      <th>TechSupport_No</th>\n",
              "      <th>TechSupport_No internet service</th>\n",
              "      <th>TechSupport_Yes</th>\n",
              "      <th>StreamingTV_No</th>\n",
              "      <th>StreamingTV_No internet service</th>\n",
              "      <th>StreamingTV_Yes</th>\n",
              "      <th>StreamingMovies_No</th>\n",
              "      <th>StreamingMovies_No internet service</th>\n",
              "      <th>StreamingMovies_Yes</th>\n",
              "      <th>Contract_Month-to-month</th>\n",
              "      <th>Contract_One year</th>\n",
              "      <th>Contract_Two year</th>\n",
              "      <th>PaperlessBilling_No</th>\n",
              "      <th>PaperlessBilling_Yes</th>\n",
              "      <th>PaymentMethod_Bank transfer (automatic)</th>\n",
              "      <th>PaymentMethod_Credit card (automatic)</th>\n",
              "      <th>PaymentMethod_Electronic check</th>\n",
              "      <th>PaymentMethod_Mailed check</th>\n",
              "      <th>Churn_No</th>\n",
              "      <th>Churn_Yes</th>\n",
              "      <th>faixa_tenure_0.0</th>\n",
              "      <th>faixa_tenure_1.0</th>\n",
              "      <th>faixa_tenure_2.0</th>\n",
              "      <th>faixa_tenure_3.0</th>\n",
              "      <th>faixa_tenure_4.0</th>\n",
              "      <th>faixa_tenure_5.0</th>\n",
              "      <th>faixa_tenure_6.0</th>\n",
              "    </tr>\n",
              "  </thead>\n",
              "  <tbody>\n",
              "    <tr>\n",
              "      <th>0</th>\n",
              "      <td>7590-VHVEG</td>\n",
              "      <td>Female</td>\n",
              "      <td>1</td>\n",
              "      <td>29.85</td>\n",
              "      <td>29.85</td>\n",
              "      <td>0</td>\n",
              "      <td>1</td>\n",
              "      <td>0</td>\n",
              "      <td>0</td>\n",
              "      <td>1</td>\n",
              "      <td>1</td>\n",
              "      <td>0</td>\n",
              "      <td>1</td>\n",
              "      <td>0</td>\n",
              "      <td>0</td>\n",
              "      <td>1</td>\n",
              "      <td>0</td>\n",
              "      <td>1</td>\n",
              "      <td>0</td>\n",
              "      <td>0</td>\n",
              "      <td>1</td>\n",
              "      <td>0</td>\n",
              "      <td>0</td>\n",
              "      <td>0</td>\n",
              "      <td>0</td>\n",
              "      <td>1</td>\n",
              "      <td>1</td>\n",
              "      <td>0</td>\n",
              "      <td>0</td>\n",
              "      <td>1</td>\n",
              "      <td>0</td>\n",
              "      <td>0</td>\n",
              "      <td>1</td>\n",
              "      <td>0</td>\n",
              "      <td>0</td>\n",
              "      <td>1</td>\n",
              "      <td>0</td>\n",
              "      <td>0</td>\n",
              "      <td>1</td>\n",
              "      <td>0</td>\n",
              "      <td>0</td>\n",
              "      <td>0</td>\n",
              "      <td>1</td>\n",
              "      <td>0</td>\n",
              "      <td>0</td>\n",
              "      <td>1</td>\n",
              "      <td>0</td>\n",
              "      <td>1</td>\n",
              "      <td>0</td>\n",
              "      <td>1</td>\n",
              "      <td>0</td>\n",
              "      <td>0</td>\n",
              "      <td>0</td>\n",
              "      <td>0</td>\n",
              "      <td>0</td>\n",
              "      <td>0</td>\n",
              "    </tr>\n",
              "    <tr>\n",
              "      <th>1</th>\n",
              "      <td>5575-GNVDE</td>\n",
              "      <td>Male</td>\n",
              "      <td>34</td>\n",
              "      <td>56.95</td>\n",
              "      <td>1889.50</td>\n",
              "      <td>0</td>\n",
              "      <td>1</td>\n",
              "      <td>0</td>\n",
              "      <td>1</td>\n",
              "      <td>0</td>\n",
              "      <td>1</td>\n",
              "      <td>0</td>\n",
              "      <td>0</td>\n",
              "      <td>1</td>\n",
              "      <td>1</td>\n",
              "      <td>0</td>\n",
              "      <td>0</td>\n",
              "      <td>1</td>\n",
              "      <td>0</td>\n",
              "      <td>0</td>\n",
              "      <td>0</td>\n",
              "      <td>0</td>\n",
              "      <td>1</td>\n",
              "      <td>1</td>\n",
              "      <td>0</td>\n",
              "      <td>0</td>\n",
              "      <td>0</td>\n",
              "      <td>0</td>\n",
              "      <td>1</td>\n",
              "      <td>1</td>\n",
              "      <td>0</td>\n",
              "      <td>0</td>\n",
              "      <td>1</td>\n",
              "      <td>0</td>\n",
              "      <td>0</td>\n",
              "      <td>1</td>\n",
              "      <td>0</td>\n",
              "      <td>0</td>\n",
              "      <td>0</td>\n",
              "      <td>1</td>\n",
              "      <td>0</td>\n",
              "      <td>1</td>\n",
              "      <td>0</td>\n",
              "      <td>0</td>\n",
              "      <td>0</td>\n",
              "      <td>0</td>\n",
              "      <td>1</td>\n",
              "      <td>1</td>\n",
              "      <td>0</td>\n",
              "      <td>0</td>\n",
              "      <td>0</td>\n",
              "      <td>0</td>\n",
              "      <td>1</td>\n",
              "      <td>0</td>\n",
              "      <td>0</td>\n",
              "      <td>0</td>\n",
              "    </tr>\n",
              "    <tr>\n",
              "      <th>2</th>\n",
              "      <td>3668-QPYBK</td>\n",
              "      <td>Male</td>\n",
              "      <td>2</td>\n",
              "      <td>53.85</td>\n",
              "      <td>108.15</td>\n",
              "      <td>1</td>\n",
              "      <td>1</td>\n",
              "      <td>0</td>\n",
              "      <td>1</td>\n",
              "      <td>0</td>\n",
              "      <td>1</td>\n",
              "      <td>0</td>\n",
              "      <td>0</td>\n",
              "      <td>1</td>\n",
              "      <td>1</td>\n",
              "      <td>0</td>\n",
              "      <td>0</td>\n",
              "      <td>1</td>\n",
              "      <td>0</td>\n",
              "      <td>0</td>\n",
              "      <td>0</td>\n",
              "      <td>0</td>\n",
              "      <td>1</td>\n",
              "      <td>0</td>\n",
              "      <td>0</td>\n",
              "      <td>1</td>\n",
              "      <td>1</td>\n",
              "      <td>0</td>\n",
              "      <td>0</td>\n",
              "      <td>1</td>\n",
              "      <td>0</td>\n",
              "      <td>0</td>\n",
              "      <td>1</td>\n",
              "      <td>0</td>\n",
              "      <td>0</td>\n",
              "      <td>1</td>\n",
              "      <td>0</td>\n",
              "      <td>0</td>\n",
              "      <td>1</td>\n",
              "      <td>0</td>\n",
              "      <td>0</td>\n",
              "      <td>0</td>\n",
              "      <td>1</td>\n",
              "      <td>0</td>\n",
              "      <td>0</td>\n",
              "      <td>0</td>\n",
              "      <td>1</td>\n",
              "      <td>0</td>\n",
              "      <td>1</td>\n",
              "      <td>1</td>\n",
              "      <td>0</td>\n",
              "      <td>0</td>\n",
              "      <td>0</td>\n",
              "      <td>0</td>\n",
              "      <td>0</td>\n",
              "      <td>0</td>\n",
              "    </tr>\n",
              "    <tr>\n",
              "      <th>3</th>\n",
              "      <td>7795-CFOCW</td>\n",
              "      <td>Male</td>\n",
              "      <td>45</td>\n",
              "      <td>42.30</td>\n",
              "      <td>1840.75</td>\n",
              "      <td>0</td>\n",
              "      <td>1</td>\n",
              "      <td>0</td>\n",
              "      <td>1</td>\n",
              "      <td>0</td>\n",
              "      <td>1</td>\n",
              "      <td>0</td>\n",
              "      <td>1</td>\n",
              "      <td>0</td>\n",
              "      <td>0</td>\n",
              "      <td>1</td>\n",
              "      <td>0</td>\n",
              "      <td>1</td>\n",
              "      <td>0</td>\n",
              "      <td>0</td>\n",
              "      <td>0</td>\n",
              "      <td>0</td>\n",
              "      <td>1</td>\n",
              "      <td>1</td>\n",
              "      <td>0</td>\n",
              "      <td>0</td>\n",
              "      <td>0</td>\n",
              "      <td>0</td>\n",
              "      <td>1</td>\n",
              "      <td>0</td>\n",
              "      <td>0</td>\n",
              "      <td>1</td>\n",
              "      <td>1</td>\n",
              "      <td>0</td>\n",
              "      <td>0</td>\n",
              "      <td>1</td>\n",
              "      <td>0</td>\n",
              "      <td>0</td>\n",
              "      <td>0</td>\n",
              "      <td>1</td>\n",
              "      <td>0</td>\n",
              "      <td>1</td>\n",
              "      <td>0</td>\n",
              "      <td>1</td>\n",
              "      <td>0</td>\n",
              "      <td>0</td>\n",
              "      <td>0</td>\n",
              "      <td>1</td>\n",
              "      <td>0</td>\n",
              "      <td>0</td>\n",
              "      <td>0</td>\n",
              "      <td>0</td>\n",
              "      <td>0</td>\n",
              "      <td>1</td>\n",
              "      <td>0</td>\n",
              "      <td>0</td>\n",
              "    </tr>\n",
              "    <tr>\n",
              "      <th>4</th>\n",
              "      <td>9237-HQITU</td>\n",
              "      <td>Female</td>\n",
              "      <td>2</td>\n",
              "      <td>70.70</td>\n",
              "      <td>151.65</td>\n",
              "      <td>1</td>\n",
              "      <td>1</td>\n",
              "      <td>0</td>\n",
              "      <td>1</td>\n",
              "      <td>0</td>\n",
              "      <td>1</td>\n",
              "      <td>0</td>\n",
              "      <td>0</td>\n",
              "      <td>1</td>\n",
              "      <td>1</td>\n",
              "      <td>0</td>\n",
              "      <td>0</td>\n",
              "      <td>0</td>\n",
              "      <td>1</td>\n",
              "      <td>0</td>\n",
              "      <td>1</td>\n",
              "      <td>0</td>\n",
              "      <td>0</td>\n",
              "      <td>1</td>\n",
              "      <td>0</td>\n",
              "      <td>0</td>\n",
              "      <td>1</td>\n",
              "      <td>0</td>\n",
              "      <td>0</td>\n",
              "      <td>1</td>\n",
              "      <td>0</td>\n",
              "      <td>0</td>\n",
              "      <td>1</td>\n",
              "      <td>0</td>\n",
              "      <td>0</td>\n",
              "      <td>1</td>\n",
              "      <td>0</td>\n",
              "      <td>0</td>\n",
              "      <td>1</td>\n",
              "      <td>0</td>\n",
              "      <td>0</td>\n",
              "      <td>0</td>\n",
              "      <td>1</td>\n",
              "      <td>0</td>\n",
              "      <td>0</td>\n",
              "      <td>1</td>\n",
              "      <td>0</td>\n",
              "      <td>0</td>\n",
              "      <td>1</td>\n",
              "      <td>1</td>\n",
              "      <td>0</td>\n",
              "      <td>0</td>\n",
              "      <td>0</td>\n",
              "      <td>0</td>\n",
              "      <td>0</td>\n",
              "      <td>0</td>\n",
              "    </tr>\n",
              "  </tbody>\n",
              "</table>\n",
              "</div>"
            ],
            "text/plain": [
              "   customerID  gender  ...  faixa_tenure_5.0  faixa_tenure_6.0\n",
              "0  7590-VHVEG  Female  ...                 0                 0\n",
              "1  5575-GNVDE    Male  ...                 0                 0\n",
              "2  3668-QPYBK    Male  ...                 0                 0\n",
              "3  7795-CFOCW    Male  ...                 0                 0\n",
              "4  9237-HQITU  Female  ...                 0                 0\n",
              "\n",
              "[5 rows x 56 columns]"
            ]
          },
          "metadata": {
            "tags": []
          },
          "execution_count": 112
        }
      ]
    },
    {
      "cell_type": "code",
      "metadata": {
        "id": "AiVuGY6eNLWO",
        "colab_type": "code",
        "colab": {
          "base_uri": "https://localhost:8080/",
          "height": 1000
        },
        "outputId": "78a10d28-8ff8-415b-85ec-477a1c881949"
      },
      "source": [
        "fold_number = 10\n",
        "\n",
        "def build_models(alg: str):\n",
        "    model = None\n",
        "    if alg == 'logistic_regression':\n",
        "        model = GridSearchCV(\n",
        "            LogisticRegression(n_jobs=-1),\n",
        "            param_grid={\n",
        "                'C': [0.0001, 0.001, 0.01, 0.1, 1],\n",
        "                'class_weight': [None, 'balanced']\n",
        "            },\n",
        "            scoring='recall',\n",
        "            cv=StratifiedKFold(fold_number),\n",
        "            n_jobs=-1,\n",
        "            verbose=1\n",
        "        )\n",
        "    elif alg == 'decision_tree':\n",
        "        model = GridSearchCV(\n",
        "            DecisionTreeClassifier(),\n",
        "            param_grid={\n",
        "                'criterion': ['gini', 'entropy'],\n",
        "                'max_depth': [None, 2, 4, 8],\n",
        "                'min_samples_split': [2, 4, 8],\n",
        "                'class_weight': [None, 'balanced']\n",
        "            },\n",
        "            scoring='recall',\n",
        "            cv=StratifiedKFold(fold_number),\n",
        "            n_jobs=-1,\n",
        "            verbose=1\n",
        "        )\n",
        "    elif alg == 'random_forest':\n",
        "        model = GridSearchCV(\n",
        "            RandomForestClassifier(n_estimators=50, n_jobs=-1),\n",
        "            param_grid={\n",
        "                'criterion': ['gini', 'entropy'],\n",
        "                'max_depth': [None, 2, 4, 8],\n",
        "                'min_samples_split': [2, 4, 8],\n",
        "                'class_weight': [None, 'balanced']\n",
        "            },\n",
        "            scoring='recall',\n",
        "            cv=StratifiedKFold(fold_number),\n",
        "            n_jobs=-1,\n",
        "            verbose=1\n",
        "        )\n",
        "    elif alg == 'knn':\n",
        "        model = GridSearchCV(\n",
        "            KNeighborsClassifier(n_jobs=-1),\n",
        "            param_grid={\n",
        "                'n_neighbors': [3, 5, 7],\n",
        "                'weights': ['uniform', 'distance'],\n",
        "            }, \n",
        "            scoring='recall',\n",
        "            cv=StratifiedKFold(fold_number),\n",
        "            n_jobs=-1,\n",
        "            verbose=1\n",
        "        )\n",
        "    elif alg == 'svm':\n",
        "        model = GridSearchCV(\n",
        "            SVC(),\n",
        "            param_grid={\n",
        "                'C': [0.0001, 0.001, 0.01, 0.1, 1, 10],\n",
        "                'class_weight': [None, 'balanced'],\n",
        "                'kernel': ['linear', 'poly']\n",
        "            },\n",
        "            scoring='f1',\n",
        "            cv=StratifiedKFold(fold_number),\n",
        "            n_jobs=-1,\n",
        "            verbose=1\n",
        "        )\n",
        "    \n",
        "    return model\n",
        "\n",
        "def build_features(df_train, df_test):\n",
        "    ohe = OneHotEncoder(sparse=False)\n",
        "    ohe_train = ohe.fit_transform(df_train[columns.values]) # ['faixa_tenure', 'PaperlessBilling']\n",
        "    ohe_test = ohe.transform(df_test[columns.values])\n",
        "\n",
        "    mm = MinMaxScaler()\n",
        "    mm_train = mm.fit_transform(df_train[['TotalCharges', 'MonthlyCharges']])\n",
        "    mm_test = mm.transform(df_test[['TotalCharges', 'MonthlyCharges']])\n",
        "\n",
        "    x_train = np.hstack([ohe_train, mm_train])\n",
        "    x_test = np.hstack([ohe_test, mm_test])\n",
        "\n",
        "    y_train = df_train.churn_number.values\n",
        "    y_test = df_test.churn_number.values\n",
        "\n",
        "    return x_train, y_train, x_test, y_test\n",
        "\n",
        "algs = ['logistic_regression', 'decision_tree', 'random_forest', 'knn', 'svm'] \n",
        "results_matrix = np.zeros(shape=(len(algs), fold_number, 4, 2)) # shape = (algoritmo, fold, métrica, dataset)\n",
        "ground_truth = list()\n",
        "predicted = list()\n",
        "for alg_index, alg in enumerate(algs):\n",
        "    cv = StratifiedKFold(fold_number, shuffle=True)\n",
        "    for fold, (train, test) in enumerate(cv.split(df_model, df_model.churn_number.values)):\n",
        "        df_train = df_model.iloc[train]\n",
        "        df_test = df_model.iloc[test]\n",
        "\n",
        "        x_train, y_train, x_test, y_test = build_features(df_train, df_test)\n",
        "\n",
        "        model = build_models(alg)\n",
        "        model.fit(x_train, y_train)\n",
        "\n",
        "        y_pred_train = model.predict(x_train)\n",
        "        y_pred_test = model.predict(x_test)\n",
        "\n",
        "        # acurácia, treino e teste\n",
        "        results_matrix[alg_index, fold, 0, 0] = accuracy_score(y_train, y_pred_train)\n",
        "        results_matrix[alg_index, fold, 0, 1] = accuracy_score(y_test, y_pred_test)\n",
        "\n",
        "        p_train, r_train, f_train, _ = precision_recall_fscore_support(y_train, y_pred_train, average='binary')\n",
        "        p_test, r_test, f_test, _ = precision_recall_fscore_support(y_test, y_pred_test, average='binary')\n",
        "\n",
        "        # precisão, treino e teste\n",
        "        results_matrix[alg_index, fold, 1, 0] = p_train\n",
        "        results_matrix[alg_index, fold, 1, 1] = p_test\n",
        "\n",
        "        # cobertura, treino e teste\n",
        "        results_matrix[alg_index, fold, 2, 0] = r_train\n",
        "        results_matrix[alg_index, fold, 2, 1] = r_test\n",
        "\n",
        "        # fscore, treino e teste\n",
        "        results_matrix[alg_index, fold, 3, 0] = f_train\n",
        "        results_matrix[alg_index, fold, 3, 1] = f_test\n",
        "\n",
        "        ground_truth.extend(y_test)\n",
        "        predicted.extend(y_pred_test)\n",
        "    \n",
        "    print('-' * 50)\n",
        "    print(alg)\n",
        "    print('-' * 50)\n",
        "    print('Treino - Acurácia', results_matrix[alg_index,:,0,0].mean())\n",
        "    print('Treino - Precisão', results_matrix[alg_index,:,1,0].mean())\n",
        "    print('Treino - Cobertura', results_matrix[alg_index,:,2,0].mean())\n",
        "    print('Treino - Medida F', results_matrix[alg_index,:,3,0].mean())\n",
        "    print('-' * 50)\n",
        "    print('Teste - Acurácia', results_matrix[alg_index,:,0,1].mean())\n",
        "    print('Teste - Precisão', results_matrix[alg_index,:,1,1].mean())\n",
        "    print('Teste - Cobertura', results_matrix[alg_index,:,2,1].mean())\n",
        "    print('Teste - Medida F', results_matrix[alg_index,:,3,1].mean())\n",
        "    print()\n",
        "\n",
        "\n",
        "    print(classification_report(ground_truth, predicted))\n",
        "\n",
        "    # normalizando a matriz de confusão para visualizar o resultado da cobertura\n",
        "    cm = confusion_matrix(ground_truth, predicted)\n",
        "    cm = np.transpose(cm.T / cm.astype(np.float).sum(axis=1))\n",
        "\n",
        "    plt.title('Matriz de confusão - Predição de sobreviventes')\n",
        "    sns.heatmap(cm, annot=True, fmt='.2f', cmap='rocket_r')\n",
        "    plt.show()"
      ],
      "execution_count": null,
      "outputs": [
        {
          "output_type": "stream",
          "text": [
            "Fitting 10 folds for each of 10 candidates, totalling 100 fits\n"
          ],
          "name": "stdout"
        },
        {
          "output_type": "stream",
          "text": [
            "[Parallel(n_jobs=-1)]: Using backend LokyBackend with 2 concurrent workers.\n",
            "[Parallel(n_jobs=-1)]: Done  88 tasks      | elapsed:    5.2s\n",
            "[Parallel(n_jobs=-1)]: Done 100 out of 100 | elapsed:    5.9s finished\n"
          ],
          "name": "stderr"
        },
        {
          "output_type": "stream",
          "text": [
            "Fitting 10 folds for each of 10 candidates, totalling 100 fits\n"
          ],
          "name": "stdout"
        },
        {
          "output_type": "stream",
          "text": [
            "[Parallel(n_jobs=-1)]: Using backend LokyBackend with 2 concurrent workers.\n",
            "[Parallel(n_jobs=-1)]: Done  88 tasks      | elapsed:    5.2s\n",
            "[Parallel(n_jobs=-1)]: Done 100 out of 100 | elapsed:    6.2s finished\n"
          ],
          "name": "stderr"
        },
        {
          "output_type": "stream",
          "text": [
            "Fitting 10 folds for each of 10 candidates, totalling 100 fits\n"
          ],
          "name": "stdout"
        },
        {
          "output_type": "stream",
          "text": [
            "[Parallel(n_jobs=-1)]: Using backend LokyBackend with 2 concurrent workers.\n",
            "[Parallel(n_jobs=-1)]: Done  88 tasks      | elapsed:    5.3s\n",
            "[Parallel(n_jobs=-1)]: Done 100 out of 100 | elapsed:    6.1s finished\n"
          ],
          "name": "stderr"
        },
        {
          "output_type": "stream",
          "text": [
            "Fitting 10 folds for each of 10 candidates, totalling 100 fits\n"
          ],
          "name": "stdout"
        },
        {
          "output_type": "stream",
          "text": [
            "[Parallel(n_jobs=-1)]: Using backend LokyBackend with 2 concurrent workers.\n",
            "[Parallel(n_jobs=-1)]: Done  88 tasks      | elapsed:    5.4s\n",
            "[Parallel(n_jobs=-1)]: Done 100 out of 100 | elapsed:    6.2s finished\n"
          ],
          "name": "stderr"
        },
        {
          "output_type": "stream",
          "text": [
            "Fitting 10 folds for each of 10 candidates, totalling 100 fits\n"
          ],
          "name": "stdout"
        },
        {
          "output_type": "stream",
          "text": [
            "[Parallel(n_jobs=-1)]: Using backend LokyBackend with 2 concurrent workers.\n",
            "[Parallel(n_jobs=-1)]: Done  88 tasks      | elapsed:    5.2s\n",
            "[Parallel(n_jobs=-1)]: Done 100 out of 100 | elapsed:    6.0s finished\n"
          ],
          "name": "stderr"
        },
        {
          "output_type": "stream",
          "text": [
            "Fitting 10 folds for each of 10 candidates, totalling 100 fits\n"
          ],
          "name": "stdout"
        },
        {
          "output_type": "stream",
          "text": [
            "[Parallel(n_jobs=-1)]: Using backend LokyBackend with 2 concurrent workers.\n",
            "[Parallel(n_jobs=-1)]: Done  88 tasks      | elapsed:    5.4s\n",
            "[Parallel(n_jobs=-1)]: Done 100 out of 100 | elapsed:    6.1s finished\n"
          ],
          "name": "stderr"
        },
        {
          "output_type": "stream",
          "text": [
            "Fitting 10 folds for each of 10 candidates, totalling 100 fits\n"
          ],
          "name": "stdout"
        },
        {
          "output_type": "stream",
          "text": [
            "[Parallel(n_jobs=-1)]: Using backend LokyBackend with 2 concurrent workers.\n",
            "[Parallel(n_jobs=-1)]: Done  88 tasks      | elapsed:    5.2s\n",
            "[Parallel(n_jobs=-1)]: Done 100 out of 100 | elapsed:    6.0s finished\n"
          ],
          "name": "stderr"
        },
        {
          "output_type": "stream",
          "text": [
            "Fitting 10 folds for each of 10 candidates, totalling 100 fits\n"
          ],
          "name": "stdout"
        },
        {
          "output_type": "stream",
          "text": [
            "[Parallel(n_jobs=-1)]: Using backend LokyBackend with 2 concurrent workers.\n",
            "[Parallel(n_jobs=-1)]: Done  88 tasks      | elapsed:    5.6s\n",
            "[Parallel(n_jobs=-1)]: Done 100 out of 100 | elapsed:    6.3s finished\n"
          ],
          "name": "stderr"
        },
        {
          "output_type": "stream",
          "text": [
            "Fitting 10 folds for each of 10 candidates, totalling 100 fits\n"
          ],
          "name": "stdout"
        },
        {
          "output_type": "stream",
          "text": [
            "[Parallel(n_jobs=-1)]: Using backend LokyBackend with 2 concurrent workers.\n",
            "[Parallel(n_jobs=-1)]: Done  88 tasks      | elapsed:    5.2s\n",
            "[Parallel(n_jobs=-1)]: Done 100 out of 100 | elapsed:    6.0s finished\n"
          ],
          "name": "stderr"
        },
        {
          "output_type": "stream",
          "text": [
            "Fitting 10 folds for each of 10 candidates, totalling 100 fits\n"
          ],
          "name": "stdout"
        },
        {
          "output_type": "stream",
          "text": [
            "[Parallel(n_jobs=-1)]: Using backend LokyBackend with 2 concurrent workers.\n",
            "[Parallel(n_jobs=-1)]: Done  88 tasks      | elapsed:    5.5s\n",
            "[Parallel(n_jobs=-1)]: Done 100 out of 100 | elapsed:    6.1s finished\n"
          ],
          "name": "stderr"
        },
        {
          "output_type": "stream",
          "text": [
            "--------------------------------------------------\n",
            "logistic_regression\n",
            "--------------------------------------------------\n",
            "Treino - Acurácia 1.0\n",
            "Treino - Precisão 1.0\n",
            "Treino - Cobertura 1.0\n",
            "Treino - Medida F 1.0\n",
            "--------------------------------------------------\n",
            "Teste - Acurácia 1.0\n",
            "Teste - Precisão 1.0\n",
            "Teste - Cobertura 1.0\n",
            "Teste - Medida F 1.0\n",
            "\n",
            "              precision    recall  f1-score   support\n",
            "\n",
            "           0       1.00      1.00      1.00      5163\n",
            "           1       1.00      1.00      1.00      1869\n",
            "\n",
            "    accuracy                           1.00      7032\n",
            "   macro avg       1.00      1.00      1.00      7032\n",
            "weighted avg       1.00      1.00      1.00      7032\n",
            "\n"
          ],
          "name": "stdout"
        },
        {
          "output_type": "display_data",
          "data": {
            "image/png": "[encoded data removed]",
            "text/plain": [
              "<Figure size 432x288 with 2 Axes>"
            ]
          },
          "metadata": {
            "tags": [],
            "needs_background": "light"
          }
        },
        {
          "output_type": "stream",
          "text": [
            "Fitting 10 folds for each of 48 candidates, totalling 480 fits\n"
          ],
          "name": "stdout"
        },
        {
          "output_type": "stream",
          "text": [
            "[Parallel(n_jobs=-1)]: Using backend LokyBackend with 2 concurrent workers.\n",
            "[Parallel(n_jobs=-1)]: Done 300 tasks      | elapsed:    3.9s\n",
            "[Parallel(n_jobs=-1)]: Done 480 out of 480 | elapsed:    6.2s finished\n",
            "[Parallel(n_jobs=-1)]: Using backend LokyBackend with 2 concurrent workers.\n"
          ],
          "name": "stderr"
        },
        {
          "output_type": "stream",
          "text": [
            "Fitting 10 folds for each of 48 candidates, totalling 480 fits\n"
          ],
          "name": "stdout"
        },
        {
          "output_type": "stream",
          "text": [
            "[Parallel(n_jobs=-1)]: Done 300 tasks      | elapsed:    3.5s\n",
            "[Parallel(n_jobs=-1)]: Done 480 out of 480 | elapsed:    5.8s finished\n",
            "[Parallel(n_jobs=-1)]: Using backend LokyBackend with 2 concurrent workers.\n"
          ],
          "name": "stderr"
        },
        {
          "output_type": "stream",
          "text": [
            "Fitting 10 folds for each of 48 candidates, totalling 480 fits\n"
          ],
          "name": "stdout"
        },
        {
          "output_type": "stream",
          "text": [
            "[Parallel(n_jobs=-1)]: Done 300 tasks      | elapsed:    3.4s\n",
            "[Parallel(n_jobs=-1)]: Done 480 out of 480 | elapsed:    5.7s finished\n",
            "[Parallel(n_jobs=-1)]: Using backend LokyBackend with 2 concurrent workers.\n"
          ],
          "name": "stderr"
        },
        {
          "output_type": "stream",
          "text": [
            "Fitting 10 folds for each of 48 candidates, totalling 480 fits\n"
          ],
          "name": "stdout"
        },
        {
          "output_type": "stream",
          "text": [
            "[Parallel(n_jobs=-1)]: Done 300 tasks      | elapsed:    3.5s\n",
            "[Parallel(n_jobs=-1)]: Done 480 out of 480 | elapsed:    5.7s finished\n",
            "[Parallel(n_jobs=-1)]: Using backend LokyBackend with 2 concurrent workers.\n"
          ],
          "name": "stderr"
        },
        {
          "output_type": "stream",
          "text": [
            "Fitting 10 folds for each of 48 candidates, totalling 480 fits\n"
          ],
          "name": "stdout"
        },
        {
          "output_type": "stream",
          "text": [
            "[Parallel(n_jobs=-1)]: Done 300 tasks      | elapsed:    3.7s\n",
            "[Parallel(n_jobs=-1)]: Done 480 out of 480 | elapsed:    6.0s finished\n",
            "[Parallel(n_jobs=-1)]: Using backend LokyBackend with 2 concurrent workers.\n"
          ],
          "name": "stderr"
        },
        {
          "output_type": "stream",
          "text": [
            "Fitting 10 folds for each of 48 candidates, totalling 480 fits\n"
          ],
          "name": "stdout"
        },
        {
          "output_type": "stream",
          "text": [
            "[Parallel(n_jobs=-1)]: Done 300 tasks      | elapsed:    3.5s\n",
            "[Parallel(n_jobs=-1)]: Done 480 out of 480 | elapsed:    5.9s finished\n",
            "[Parallel(n_jobs=-1)]: Using backend LokyBackend with 2 concurrent workers.\n"
          ],
          "name": "stderr"
        },
        {
          "output_type": "stream",
          "text": [
            "Fitting 10 folds for each of 48 candidates, totalling 480 fits\n"
          ],
          "name": "stdout"
        },
        {
          "output_type": "stream",
          "text": [
            "[Parallel(n_jobs=-1)]: Done 300 tasks      | elapsed:    3.5s\n",
            "[Parallel(n_jobs=-1)]: Done 480 out of 480 | elapsed:    5.7s finished\n",
            "[Parallel(n_jobs=-1)]: Using backend LokyBackend with 2 concurrent workers.\n"
          ],
          "name": "stderr"
        },
        {
          "output_type": "stream",
          "text": [
            "Fitting 10 folds for each of 48 candidates, totalling 480 fits\n"
          ],
          "name": "stdout"
        },
        {
          "output_type": "stream",
          "text": [
            "[Parallel(n_jobs=-1)]: Done 300 tasks      | elapsed:    3.4s\n",
            "[Parallel(n_jobs=-1)]: Done 480 out of 480 | elapsed:    5.8s finished\n",
            "[Parallel(n_jobs=-1)]: Using backend LokyBackend with 2 concurrent workers.\n"
          ],
          "name": "stderr"
        },
        {
          "output_type": "stream",
          "text": [
            "Fitting 10 folds for each of 48 candidates, totalling 480 fits\n"
          ],
          "name": "stdout"
        },
        {
          "output_type": "stream",
          "text": [
            "[Parallel(n_jobs=-1)]: Done 300 tasks      | elapsed:    3.5s\n",
            "[Parallel(n_jobs=-1)]: Done 480 out of 480 | elapsed:    5.7s finished\n",
            "[Parallel(n_jobs=-1)]: Using backend LokyBackend with 2 concurrent workers.\n"
          ],
          "name": "stderr"
        },
        {
          "output_type": "stream",
          "text": [
            "Fitting 10 folds for each of 48 candidates, totalling 480 fits\n"
          ],
          "name": "stdout"
        },
        {
          "output_type": "stream",
          "text": [
            "[Parallel(n_jobs=-1)]: Done 300 tasks      | elapsed:    3.7s\n",
            "[Parallel(n_jobs=-1)]: Done 480 out of 480 | elapsed:    6.0s finished\n"
          ],
          "name": "stderr"
        },
        {
          "output_type": "stream",
          "text": [
            "--------------------------------------------------\n",
            "decision_tree\n",
            "--------------------------------------------------\n",
            "Treino - Acurácia 1.0\n",
            "Treino - Precisão 1.0\n",
            "Treino - Cobertura 1.0\n",
            "Treino - Medida F 1.0\n",
            "--------------------------------------------------\n",
            "Teste - Acurácia 1.0\n",
            "Teste - Precisão 1.0\n",
            "Teste - Cobertura 1.0\n",
            "Teste - Medida F 1.0\n",
            "\n",
            "              precision    recall  f1-score   support\n",
            "\n",
            "           0       1.00      1.00      1.00     10326\n",
            "           1       1.00      1.00      1.00      3738\n",
            "\n",
            "    accuracy                           1.00     14064\n",
            "   macro avg       1.00      1.00      1.00     14064\n",
            "weighted avg       1.00      1.00      1.00     14064\n",
            "\n"
          ],
          "name": "stdout"
        },
        {
          "output_type": "display_data",
          "data": {
            "image/png": "[encoded data removed]",
            "text/plain": [
              "<Figure size 432x288 with 2 Axes>"
            ]
          },
          "metadata": {
            "tags": [],
            "needs_background": "light"
          }
        },
        {
          "output_type": "stream",
          "text": [
            "Fitting 10 folds for each of 48 candidates, totalling 480 fits\n"
          ],
          "name": "stdout"
        },
        {
          "output_type": "stream",
          "text": [
            "[Parallel(n_jobs=-1)]: Using backend LokyBackend with 2 concurrent workers.\n",
            "[Parallel(n_jobs=-1)]: Done  46 tasks      | elapsed:    9.6s\n",
            "[Parallel(n_jobs=-1)]: Done 196 tasks      | elapsed:   36.3s\n",
            "[Parallel(n_jobs=-1)]: Done 446 tasks      | elapsed:  1.4min\n",
            "[Parallel(n_jobs=-1)]: Done 480 out of 480 | elapsed:  1.5min finished\n"
          ],
          "name": "stderr"
        },
        {
          "output_type": "stream",
          "text": [
            "Fitting 10 folds for each of 48 candidates, totalling 480 fits\n"
          ],
          "name": "stdout"
        },
        {
          "output_type": "stream",
          "text": [
            "[Parallel(n_jobs=-1)]: Using backend LokyBackend with 2 concurrent workers.\n",
            "[Parallel(n_jobs=-1)]: Done  46 tasks      | elapsed:    9.5s\n",
            "[Parallel(n_jobs=-1)]: Done 196 tasks      | elapsed:   37.5s\n",
            "[Parallel(n_jobs=-1)]: Done 446 tasks      | elapsed:  1.4min\n",
            "[Parallel(n_jobs=-1)]: Done 480 out of 480 | elapsed:  1.5min finished\n"
          ],
          "name": "stderr"
        },
        {
          "output_type": "stream",
          "text": [
            "Fitting 10 folds for each of 48 candidates, totalling 480 fits\n"
          ],
          "name": "stdout"
        },
        {
          "output_type": "stream",
          "text": [
            "[Parallel(n_jobs=-1)]: Using backend LokyBackend with 2 concurrent workers.\n",
            "[Parallel(n_jobs=-1)]: Done  46 tasks      | elapsed:   10.4s\n",
            "[Parallel(n_jobs=-1)]: Done 196 tasks      | elapsed:   41.3s\n",
            "[Parallel(n_jobs=-1)]: Done 446 tasks      | elapsed:  1.5min\n",
            "[Parallel(n_jobs=-1)]: Done 480 out of 480 | elapsed:  1.6min finished\n"
          ],
          "name": "stderr"
        },
        {
          "output_type": "stream",
          "text": [
            "Fitting 10 folds for each of 48 candidates, totalling 480 fits\n"
          ],
          "name": "stdout"
        },
        {
          "output_type": "stream",
          "text": [
            "[Parallel(n_jobs=-1)]: Using backend LokyBackend with 2 concurrent workers.\n",
            "[Parallel(n_jobs=-1)]: Done  46 tasks      | elapsed:    9.7s\n",
            "[Parallel(n_jobs=-1)]: Done 196 tasks      | elapsed:   37.6s\n",
            "[Parallel(n_jobs=-1)]: Done 446 tasks      | elapsed:  1.4min\n",
            "[Parallel(n_jobs=-1)]: Done 480 out of 480 | elapsed:  1.5min finished\n"
          ],
          "name": "stderr"
        },
        {
          "output_type": "stream",
          "text": [
            "Fitting 10 folds for each of 48 candidates, totalling 480 fits\n"
          ],
          "name": "stdout"
        },
        {
          "output_type": "stream",
          "text": [
            "[Parallel(n_jobs=-1)]: Using backend LokyBackend with 2 concurrent workers.\n",
            "[Parallel(n_jobs=-1)]: Done  46 tasks      | elapsed:    9.6s\n",
            "[Parallel(n_jobs=-1)]: Done 196 tasks      | elapsed:   37.0s\n",
            "[Parallel(n_jobs=-1)]: Done 446 tasks      | elapsed:  1.4min\n",
            "[Parallel(n_jobs=-1)]: Done 480 out of 480 | elapsed:  1.5min finished\n"
          ],
          "name": "stderr"
        },
        {
          "output_type": "stream",
          "text": [
            "Fitting 10 folds for each of 48 candidates, totalling 480 fits\n"
          ],
          "name": "stdout"
        },
        {
          "output_type": "stream",
          "text": [
            "[Parallel(n_jobs=-1)]: Using backend LokyBackend with 2 concurrent workers.\n",
            "[Parallel(n_jobs=-1)]: Done  46 tasks      | elapsed:    9.6s\n",
            "[Parallel(n_jobs=-1)]: Done 196 tasks      | elapsed:   37.2s\n",
            "[Parallel(n_jobs=-1)]: Done 446 tasks      | elapsed:  1.4min\n",
            "[Parallel(n_jobs=-1)]: Done 480 out of 480 | elapsed:  1.5min finished\n"
          ],
          "name": "stderr"
        },
        {
          "output_type": "stream",
          "text": [
            "Fitting 10 folds for each of 48 candidates, totalling 480 fits\n"
          ],
          "name": "stdout"
        },
        {
          "output_type": "stream",
          "text": [
            "[Parallel(n_jobs=-1)]: Using backend LokyBackend with 2 concurrent workers.\n",
            "[Parallel(n_jobs=-1)]: Done  46 tasks      | elapsed:    9.7s\n",
            "[Parallel(n_jobs=-1)]: Done 196 tasks      | elapsed:   36.1s\n",
            "[Parallel(n_jobs=-1)]: Done 446 tasks      | elapsed:  1.4min\n",
            "[Parallel(n_jobs=-1)]: Done 480 out of 480 | elapsed:  1.5min finished\n"
          ],
          "name": "stderr"
        },
        {
          "output_type": "stream",
          "text": [
            "Fitting 10 folds for each of 48 candidates, totalling 480 fits\n"
          ],
          "name": "stdout"
        },
        {
          "output_type": "stream",
          "text": [
            "[Parallel(n_jobs=-1)]: Using backend LokyBackend with 2 concurrent workers.\n",
            "[Parallel(n_jobs=-1)]: Done  46 tasks      | elapsed:    9.4s\n",
            "[Parallel(n_jobs=-1)]: Done 196 tasks      | elapsed:   36.6s\n",
            "[Parallel(n_jobs=-1)]: Done 446 tasks      | elapsed:  1.4min\n",
            "[Parallel(n_jobs=-1)]: Done 480 out of 480 | elapsed:  1.5min finished\n"
          ],
          "name": "stderr"
        },
        {
          "output_type": "stream",
          "text": [
            "Fitting 10 folds for each of 48 candidates, totalling 480 fits\n"
          ],
          "name": "stdout"
        },
        {
          "output_type": "stream",
          "text": [
            "[Parallel(n_jobs=-1)]: Using backend LokyBackend with 2 concurrent workers.\n",
            "[Parallel(n_jobs=-1)]: Done  46 tasks      | elapsed:    9.7s\n",
            "[Parallel(n_jobs=-1)]: Done 196 tasks      | elapsed:   37.6s\n",
            "[Parallel(n_jobs=-1)]: Done 446 tasks      | elapsed:  1.4min\n",
            "[Parallel(n_jobs=-1)]: Done 480 out of 480 | elapsed:  1.5min finished\n"
          ],
          "name": "stderr"
        },
        {
          "output_type": "stream",
          "text": [
            "Fitting 10 folds for each of 48 candidates, totalling 480 fits\n"
          ],
          "name": "stdout"
        },
        {
          "output_type": "stream",
          "text": [
            "[Parallel(n_jobs=-1)]: Using backend LokyBackend with 2 concurrent workers.\n",
            "[Parallel(n_jobs=-1)]: Done  46 tasks      | elapsed:   10.2s\n",
            "[Parallel(n_jobs=-1)]: Done 196 tasks      | elapsed:   37.5s\n",
            "[Parallel(n_jobs=-1)]: Done 446 tasks      | elapsed:  1.4min\n",
            "[Parallel(n_jobs=-1)]: Done 480 out of 480 | elapsed:  1.5min finished\n"
          ],
          "name": "stderr"
        },
        {
          "output_type": "stream",
          "text": [
            "--------------------------------------------------\n",
            "random_forest\n",
            "--------------------------------------------------\n",
            "Treino - Acurácia 1.0\n",
            "Treino - Precisão 1.0\n",
            "Treino - Cobertura 1.0\n",
            "Treino - Medida F 1.0\n",
            "--------------------------------------------------\n",
            "Teste - Acurácia 1.0\n",
            "Teste - Precisão 1.0\n",
            "Teste - Cobertura 1.0\n",
            "Teste - Medida F 1.0\n",
            "\n",
            "              precision    recall  f1-score   support\n",
            "\n",
            "           0       1.00      1.00      1.00     15489\n",
            "           1       1.00      1.00      1.00      5607\n",
            "\n",
            "    accuracy                           1.00     21096\n",
            "   macro avg       1.00      1.00      1.00     21096\n",
            "weighted avg       1.00      1.00      1.00     21096\n",
            "\n"
          ],
          "name": "stdout"
        },
        {
          "output_type": "display_data",
          "data": {
            "image/png": "[encoded data removed]",
            "text/plain": [
              "<Figure size 432x288 with 2 Axes>"
            ]
          },
          "metadata": {
            "tags": [],
            "needs_background": "light"
          }
        },
        {
          "output_type": "stream",
          "text": [
            "Fitting 10 folds for each of 6 candidates, totalling 60 fits\n"
          ],
          "name": "stdout"
        },
        {
          "output_type": "stream",
          "text": [
            "[Parallel(n_jobs=-1)]: Using backend LokyBackend with 2 concurrent workers.\n",
            "[Parallel(n_jobs=-1)]: Done  46 tasks      | elapsed:   26.9s\n",
            "[Parallel(n_jobs=-1)]: Done  60 out of  60 | elapsed:   35.1s finished\n"
          ],
          "name": "stderr"
        },
        {
          "output_type": "stream",
          "text": [
            "Fitting 10 folds for each of 6 candidates, totalling 60 fits\n"
          ],
          "name": "stdout"
        },
        {
          "output_type": "stream",
          "text": [
            "[Parallel(n_jobs=-1)]: Using backend LokyBackend with 2 concurrent workers.\n",
            "[Parallel(n_jobs=-1)]: Done  46 tasks      | elapsed:   27.0s\n",
            "[Parallel(n_jobs=-1)]: Done  60 out of  60 | elapsed:   34.7s finished\n"
          ],
          "name": "stderr"
        },
        {
          "output_type": "stream",
          "text": [
            "Fitting 10 folds for each of 6 candidates, totalling 60 fits\n"
          ],
          "name": "stdout"
        },
        {
          "output_type": "stream",
          "text": [
            "[Parallel(n_jobs=-1)]: Using backend LokyBackend with 2 concurrent workers.\n",
            "[Parallel(n_jobs=-1)]: Done  46 tasks      | elapsed:   25.8s\n",
            "[Parallel(n_jobs=-1)]: Done  60 out of  60 | elapsed:   33.9s finished\n"
          ],
          "name": "stderr"
        },
        {
          "output_type": "stream",
          "text": [
            "Fitting 10 folds for each of 6 candidates, totalling 60 fits\n"
          ],
          "name": "stdout"
        },
        {
          "output_type": "stream",
          "text": [
            "[Parallel(n_jobs=-1)]: Using backend LokyBackend with 2 concurrent workers.\n",
            "[Parallel(n_jobs=-1)]: Done  46 tasks      | elapsed:   26.2s\n",
            "[Parallel(n_jobs=-1)]: Done  60 out of  60 | elapsed:   34.2s finished\n"
          ],
          "name": "stderr"
        },
        {
          "output_type": "stream",
          "text": [
            "Fitting 10 folds for each of 6 candidates, totalling 60 fits\n"
          ],
          "name": "stdout"
        },
        {
          "output_type": "stream",
          "text": [
            "[Parallel(n_jobs=-1)]: Using backend LokyBackend with 2 concurrent workers.\n",
            "[Parallel(n_jobs=-1)]: Done  46 tasks      | elapsed:   26.6s\n",
            "[Parallel(n_jobs=-1)]: Done  60 out of  60 | elapsed:   34.8s finished\n"
          ],
          "name": "stderr"
        },
        {
          "output_type": "stream",
          "text": [
            "Fitting 10 folds for each of 6 candidates, totalling 60 fits\n"
          ],
          "name": "stdout"
        },
        {
          "output_type": "stream",
          "text": [
            "[Parallel(n_jobs=-1)]: Using backend LokyBackend with 2 concurrent workers.\n",
            "[Parallel(n_jobs=-1)]: Done  46 tasks      | elapsed:   26.1s\n",
            "[Parallel(n_jobs=-1)]: Done  60 out of  60 | elapsed:   34.0s finished\n"
          ],
          "name": "stderr"
        },
        {
          "output_type": "stream",
          "text": [
            "Fitting 10 folds for each of 6 candidates, totalling 60 fits\n"
          ],
          "name": "stdout"
        },
        {
          "output_type": "stream",
          "text": [
            "[Parallel(n_jobs=-1)]: Using backend LokyBackend with 2 concurrent workers.\n",
            "[Parallel(n_jobs=-1)]: Done  46 tasks      | elapsed:   25.6s\n",
            "[Parallel(n_jobs=-1)]: Done  60 out of  60 | elapsed:   33.7s finished\n"
          ],
          "name": "stderr"
        },
        {
          "output_type": "stream",
          "text": [
            "Fitting 10 folds for each of 6 candidates, totalling 60 fits\n"
          ],
          "name": "stdout"
        },
        {
          "output_type": "stream",
          "text": [
            "[Parallel(n_jobs=-1)]: Using backend LokyBackend with 2 concurrent workers.\n",
            "[Parallel(n_jobs=-1)]: Done  46 tasks      | elapsed:   27.2s\n",
            "[Parallel(n_jobs=-1)]: Done  60 out of  60 | elapsed:   35.4s finished\n"
          ],
          "name": "stderr"
        },
        {
          "output_type": "stream",
          "text": [
            "Fitting 10 folds for each of 6 candidates, totalling 60 fits\n"
          ],
          "name": "stdout"
        },
        {
          "output_type": "stream",
          "text": [
            "[Parallel(n_jobs=-1)]: Using backend LokyBackend with 2 concurrent workers.\n",
            "[Parallel(n_jobs=-1)]: Done  46 tasks      | elapsed:   26.5s\n",
            "[Parallel(n_jobs=-1)]: Done  60 out of  60 | elapsed:   34.7s finished\n"
          ],
          "name": "stderr"
        },
        {
          "output_type": "stream",
          "text": [
            "Fitting 10 folds for each of 6 candidates, totalling 60 fits\n"
          ],
          "name": "stdout"
        },
        {
          "output_type": "stream",
          "text": [
            "[Parallel(n_jobs=-1)]: Using backend LokyBackend with 2 concurrent workers.\n",
            "[Parallel(n_jobs=-1)]: Done  46 tasks      | elapsed:   26.6s\n",
            "[Parallel(n_jobs=-1)]: Done  60 out of  60 | elapsed:   34.7s finished\n"
          ],
          "name": "stderr"
        },
        {
          "output_type": "stream",
          "text": [
            "--------------------------------------------------\n",
            "knn\n",
            "--------------------------------------------------\n",
            "Treino - Acurácia 0.9950229104123874\n",
            "Treino - Precisão 0.9979379384365294\n",
            "Treino - Cobertura 0.9832342449464923\n",
            "Treino - Medida F 0.9903990119145597\n",
            "--------------------------------------------------\n",
            "Teste - Acurácia 0.9749713080305187\n",
            "Teste - Precisão 0.9857344867311639\n",
            "Teste - Cobertura 0.9191938358921281\n",
            "Teste - Medida F 0.9511940985155949\n",
            "\n",
            "              precision    recall  f1-score   support\n",
            "\n",
            "           0       0.99      1.00      1.00     20652\n",
            "           1       1.00      0.98      0.99      7476\n",
            "\n",
            "    accuracy                           0.99     28128\n",
            "   macro avg       0.99      0.99      0.99     28128\n",
            "weighted avg       0.99      0.99      0.99     28128\n",
            "\n"
          ],
          "name": "stdout"
        },
        {
          "output_type": "display_data",
          "data": {
            "image/png": "[encoded data removed]",
            "text/plain": [
              "<Figure size 432x288 with 2 Axes>"
            ]
          },
          "metadata": {
            "tags": [],
            "needs_background": "light"
          }
        },
        {
          "output_type": "stream",
          "text": [
            "Fitting 10 folds for each of 24 candidates, totalling 240 fits\n"
          ],
          "name": "stdout"
        },
        {
          "output_type": "stream",
          "text": [
            "[Parallel(n_jobs=-1)]: Using backend LokyBackend with 2 concurrent workers.\n",
            "[Parallel(n_jobs=-1)]: Done  46 tasks      | elapsed:  2.0min\n",
            "[Parallel(n_jobs=-1)]: Done 196 tasks      | elapsed:  3.6min\n",
            "[Parallel(n_jobs=-1)]: Done 240 out of 240 | elapsed:  3.8min finished\n"
          ],
          "name": "stderr"
        },
        {
          "output_type": "stream",
          "text": [
            "Fitting 10 folds for each of 24 candidates, totalling 240 fits\n"
          ],
          "name": "stdout"
        },
        {
          "output_type": "stream",
          "text": [
            "[Parallel(n_jobs=-1)]: Using backend LokyBackend with 2 concurrent workers.\n",
            "[Parallel(n_jobs=-1)]: Done  46 tasks      | elapsed:  2.0min\n",
            "[Parallel(n_jobs=-1)]: Done 196 tasks      | elapsed:  3.6min\n",
            "[Parallel(n_jobs=-1)]: Done 240 out of 240 | elapsed:  3.9min finished\n"
          ],
          "name": "stderr"
        },
        {
          "output_type": "stream",
          "text": [
            "Fitting 10 folds for each of 24 candidates, totalling 240 fits\n"
          ],
          "name": "stdout"
        },
        {
          "output_type": "stream",
          "text": [
            "[Parallel(n_jobs=-1)]: Using backend LokyBackend with 2 concurrent workers.\n",
            "[Parallel(n_jobs=-1)]: Done  46 tasks      | elapsed:  2.0min\n",
            "[Parallel(n_jobs=-1)]: Done 196 tasks      | elapsed:  3.6min\n",
            "[Parallel(n_jobs=-1)]: Done 240 out of 240 | elapsed:  3.8min finished\n"
          ],
          "name": "stderr"
        },
        {
          "output_type": "stream",
          "text": [
            "Fitting 10 folds for each of 24 candidates, totalling 240 fits\n"
          ],
          "name": "stdout"
        },
        {
          "output_type": "stream",
          "text": [
            "[Parallel(n_jobs=-1)]: Using backend LokyBackend with 2 concurrent workers.\n",
            "[Parallel(n_jobs=-1)]: Done  46 tasks      | elapsed:  1.9min\n",
            "[Parallel(n_jobs=-1)]: Done 196 tasks      | elapsed:  3.6min\n",
            "[Parallel(n_jobs=-1)]: Done 240 out of 240 | elapsed:  3.8min finished\n"
          ],
          "name": "stderr"
        },
        {
          "output_type": "stream",
          "text": [
            "Fitting 10 folds for each of 24 candidates, totalling 240 fits\n"
          ],
          "name": "stdout"
        },
        {
          "output_type": "stream",
          "text": [
            "[Parallel(n_jobs=-1)]: Using backend LokyBackend with 2 concurrent workers.\n",
            "[Parallel(n_jobs=-1)]: Done  46 tasks      | elapsed:  2.0min\n",
            "[Parallel(n_jobs=-1)]: Done 196 tasks      | elapsed:  3.6min\n",
            "[Parallel(n_jobs=-1)]: Done 240 out of 240 | elapsed:  3.8min finished\n"
          ],
          "name": "stderr"
        },
        {
          "output_type": "stream",
          "text": [
            "Fitting 10 folds for each of 24 candidates, totalling 240 fits\n"
          ],
          "name": "stdout"
        },
        {
          "output_type": "stream",
          "text": [
            "[Parallel(n_jobs=-1)]: Using backend LokyBackend with 2 concurrent workers.\n",
            "[Parallel(n_jobs=-1)]: Done  46 tasks      | elapsed:  2.0min\n",
            "[Parallel(n_jobs=-1)]: Done 196 tasks      | elapsed:  3.6min\n",
            "[Parallel(n_jobs=-1)]: Done 240 out of 240 | elapsed:  3.8min finished\n"
          ],
          "name": "stderr"
        },
        {
          "output_type": "stream",
          "text": [
            "Fitting 10 folds for each of 24 candidates, totalling 240 fits\n"
          ],
          "name": "stdout"
        },
        {
          "output_type": "stream",
          "text": [
            "[Parallel(n_jobs=-1)]: Using backend LokyBackend with 2 concurrent workers.\n",
            "[Parallel(n_jobs=-1)]: Done  46 tasks      | elapsed:  2.0min\n",
            "[Parallel(n_jobs=-1)]: Done 196 tasks      | elapsed:  3.6min\n",
            "[Parallel(n_jobs=-1)]: Done 240 out of 240 | elapsed:  3.8min finished\n"
          ],
          "name": "stderr"
        },
        {
          "output_type": "stream",
          "text": [
            "Fitting 10 folds for each of 24 candidates, totalling 240 fits\n"
          ],
          "name": "stdout"
        },
        {
          "output_type": "stream",
          "text": [
            "[Parallel(n_jobs=-1)]: Using backend LokyBackend with 2 concurrent workers.\n",
            "[Parallel(n_jobs=-1)]: Done  46 tasks      | elapsed:  1.9min\n",
            "[Parallel(n_jobs=-1)]: Done 196 tasks      | elapsed:  3.6min\n",
            "[Parallel(n_jobs=-1)]: Done 240 out of 240 | elapsed:  3.8min finished\n"
          ],
          "name": "stderr"
        },
        {
          "output_type": "stream",
          "text": [
            "Fitting 10 folds for each of 24 candidates, totalling 240 fits\n"
          ],
          "name": "stdout"
        },
        {
          "output_type": "stream",
          "text": [
            "[Parallel(n_jobs=-1)]: Using backend LokyBackend with 2 concurrent workers.\n",
            "[Parallel(n_jobs=-1)]: Done  46 tasks      | elapsed:  1.9min\n",
            "[Parallel(n_jobs=-1)]: Done 196 tasks      | elapsed:  3.5min\n",
            "[Parallel(n_jobs=-1)]: Done 240 out of 240 | elapsed:  3.7min finished\n"
          ],
          "name": "stderr"
        },
        {
          "output_type": "stream",
          "text": [
            "Fitting 10 folds for each of 24 candidates, totalling 240 fits\n"
          ],
          "name": "stdout"
        },
        {
          "output_type": "stream",
          "text": [
            "[Parallel(n_jobs=-1)]: Using backend LokyBackend with 2 concurrent workers.\n",
            "[Parallel(n_jobs=-1)]: Done  46 tasks      | elapsed:  2.0min\n",
            "[Parallel(n_jobs=-1)]: Done 196 tasks      | elapsed:  3.6min\n",
            "[Parallel(n_jobs=-1)]: Done 240 out of 240 | elapsed:  3.8min finished\n"
          ],
          "name": "stderr"
        },
        {
          "output_type": "stream",
          "text": [
            "--------------------------------------------------\n",
            "svm\n",
            "--------------------------------------------------\n",
            "Treino - Acurácia 1.0\n",
            "Treino - Precisão 1.0\n",
            "Treino - Cobertura 1.0\n",
            "Treino - Medida F 1.0\n",
            "--------------------------------------------------\n",
            "Teste - Acurácia 1.0\n",
            "Teste - Precisão 1.0\n",
            "Teste - Cobertura 1.0\n",
            "Teste - Medida F 1.0\n",
            "\n",
            "              precision    recall  f1-score   support\n",
            "\n",
            "           0       0.99      1.00      1.00     25815\n",
            "           1       1.00      0.98      0.99      9345\n",
            "\n",
            "    accuracy                           0.99     35160\n",
            "   macro avg       1.00      0.99      0.99     35160\n",
            "weighted avg       1.00      0.99      0.99     35160\n",
            "\n"
          ],
          "name": "stdout"
        },
        {
          "output_type": "display_data",
          "data": {
            "image/png": "[encoded data removed]",
            "text/plain": [
              "<Figure size 432x288 with 2 Axes>"
            ]
          },
          "metadata": {
            "tags": [],
            "needs_background": "light"
          }
        }
      ]
    },
    {
      "cell_type": "code",
      "metadata": {
        "id": "S0jWDNhGRsI-",
        "colab_type": "code",
        "colab": {
          "base_uri": "https://localhost:8080/",
          "height": 357
        },
        "outputId": "2860d041-9c7c-4e6c-b99b-6035161d3a31"
      },
      "source": [
        "sns.heatmap(df_churn.corr(), annot = True)"
      ],
      "execution_count": null,
      "outputs": [
        {
          "output_type": "execute_result",
          "data": {
            "text/plain": [
              "<matplotlib.axes._subplots.AxesSubplot at 0x7ff7b2130c18>"
            ]
          },
          "metadata": {
            "tags": []
          },
          "execution_count": 114
        },
        {
          "output_type": "display_data",
          "data": {
            "image/png": "[encoded data removed]",
            "text/plain": [
              "<Figure size 432x288 with 2 Axes>"
            ]
          },
          "metadata": {
            "tags": [],
            "needs_background": "light"
          }
        }
      ]
    },
    {
      "cell_type": "markdown",
      "metadata": {
        "id": "fplFbulqTbS_",
        "colab_type": "text"
      },
      "source": [
        "\n",
        "\n",
        "RESULTADO DA EXECUÇÂO\n",
        "-- \n",
        "logistic_regression\n",
        "--\n",
        "Treino - Acurácia 1.0  \n",
        "Treino - Precisão 1.0  \n",
        "Treino - Cobertura 1.0  \n",
        "Treino - Medida F 1.0  \n",
        "\n",
        "--------------------------------------------------\n",
        "Teste - Acurácia 1.0    \n",
        "Teste - Precisão 1.0    \n",
        "Teste - Cobertura 1.0    \n",
        "Teste - Medida F 1.0   \n",
        "\n",
        "\n",
        "              precision    recall  f1-score   support\n",
        "\n",
        "           0       1.00      1.00      1.00      5163\n",
        "           1       1.00      1.00      1.00      1869\n",
        "\n",
        "    accuracy                           1.00      7032\n",
        "   macro avg       1.00      1.00      1.00      7032\n",
        "weighted avg       1.00      1.00      1.00      7032\n",
        "\n",
        "--------------------------------------------------\n",
        "decision_tree\n",
        "--------------------------------------------------\n",
        "Treino - Acurácia 1.0  \n",
        "Treino - Precisão 1.0  \n",
        "Treino - Cobertura 1.0  \n",
        "Treino - Medida F 1.0  \n",
        "--------------------------------------------------\n",
        "Teste - Acurácia 1.0  \n",
        "Teste - Precisão 1.0  \n",
        "Teste - Cobertura 1.0  \n",
        "Teste - Medida F 1.0  \n",
        "\n",
        "              precision    recall  f1-score   support\n",
        "\n",
        "           0       1.00      1.00      1.00     10326\n",
        "           1       1.00      1.00      1.00      3738\n",
        "\n",
        "    accuracy                           1.00     14064\n",
        "   macro avg       1.00      1.00      1.00     14064\n",
        "weighted avg       1.00      1.00      1.00     14064\n",
        "\n",
        "--------------------------------------------------\n",
        "random_forest\n",
        "--------------------------------------------------\n",
        "Treino - Acurácia 1.0  \n",
        "Treino - Precisão 1.0  \n",
        "Treino - Cobertura 1.0  \n",
        "Treino - Medida F 1.0  \n",
        "--------------------------------------------------\n",
        "Teste - Acurácia 1.0  \n",
        "Teste - Precisão 1.0  \n",
        "Teste - Cobertura 1.0  \n",
        "Teste - Medida F 1.0  \n",
        "\n",
        "              precision    recall  f1-score   support\n",
        "\n",
        "           0       1.00      1.00      1.00     15489\n",
        "           1       1.00      1.00      1.00      5607\n",
        "\n",
        "    accuracy                           1.00     21096\n",
        "   macro avg       1.00      1.00      1.00     21096\n",
        "weighted avg       1.00      1.00      1.00     21096\n",
        "\n",
        "--------------------------------------------------\n",
        "knn\n",
        "--------------------------------------------------\n",
        "Treino - Acurácia 0.9950229104123874  \n",
        "Treino - Precisão 0.9979379384365294  \n",
        "Treino - Cobertura 0.9832342449464923  \n",
        "Treino - Medida F 0.9903990119145597  \n",
        "--------------------------------------------------\n",
        "Teste - Acurácia 0.9749713080305187  \n",
        "Teste - Precisão 0.9857344867311639  \n",
        "Teste - Cobertura 0.9191938358921281  \n",
        "Teste - Medida F 0.9511940985155949  \n",
        "\n",
        "              precision    recall  f1-score   support\n",
        "\n",
        "           0       0.99      1.00      1.00     20652\n",
        "           1       1.00      0.98      0.99      7476\n",
        "\n",
        "    accuracy                           0.99     28128\n",
        "   macro avg       0.99      0.99      0.99     28128\n",
        "weighted avg       0.99      0.99      0.99     28128\n",
        "\n",
        "--------------------------------------------------\n",
        "svm\n",
        "--------------------------------------------------\n",
        "Treino - Acurácia 1.0  \n",
        "Treino - Precisão 1.0  \n",
        "Treino - Cobertura 1.0  \n",
        "Treino - Medida F 1.0  \n",
        "--------------------------------------------------\n",
        "Teste - Acurácia 1.0  \n",
        "Teste - Precisão 1.0  \n",
        "Teste - Cobertura 1.0  \n",
        "Teste - Medida F 1.0  \n",
        "\n",
        "              precision    recall  f1-score   support\n",
        "\n",
        "           0       0.99      1.00      1.00     25815\n",
        "           1       1.00      0.98      0.99      9345\n",
        "\n",
        "    accuracy                           0.99     35160\n",
        "   macro avg       1.00      0.99      0.99     35160\n",
        "weighted avg       1.00      0.99      0.99     35160\n",
        "\n"
      ]
    }
  ]
}