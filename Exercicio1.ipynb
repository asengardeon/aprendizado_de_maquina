{
  "nbformat": 4,
  "nbformat_minor": 0,
  "metadata": {
    "kernelspec": {
      "display_name": "Python 3",
      "language": "python",
      "name": "python3"
    },
    "language_info": {
      "codemirror_mode": {
        "name": "ipython",
        "version": 3
      },
      "file_extension": ".py",
      "mimetype": "text/x-python",
      "name": "python",
      "nbconvert_exporter": "python",
      "pygments_lexer": "ipython3",
      "version": "3.8.5"
    },
    "colab": {
      "name": "Exercicio1.ipynb",
      "provenance": [],
      "collapsed_sections": [],
      "toc_visible": true,
      "include_colab_link": true
    }
  },
  "cells": [
    {
      "cell_type": "markdown",
      "metadata": {
        "id": "view-in-github",
        "colab_type": "text"
      },
      "source": [
        "<a href=\"https://colab.research.google.com/github/asengardeon/aprendizado_de_maquina/blob/master/Exercicio1.ipynb\" target=\"_parent\"><img src=\"https://colab.research.google.com/assets/colab-badge.svg\" alt=\"Open In Colab\"/></a>"
      ]
    },
    {
      "cell_type": "code",
      "metadata": {
        "id": "qCMM5ZYXpEg0",
        "colab_type": "code",
        "colab": {}
      },
      "source": [
        "import pandas as pd\n",
        "import numpy as np\n",
        "import matplotlib.pyplot as plt\n",
        "import os\n",
        "from sklearn.preprocessing import KBinsDiscretizer\n",
        "from sklearn.preprocessing import OneHotEncoder\n",
        "from sklearn.preprocessing import MinMaxScaler\n",
        "from sklearn.model_selection import KFold, GridSearchCV\n",
        "from matplotlib.cbook import boxplot_stats\n",
        "from sklearn.linear_model import LinearRegression\n",
        "from sklearn.linear_model import Lasso\n",
        "from sklearn.metrics import mean_absolute_error, r2_score\n"
      ],
      "execution_count": 88,
      "outputs": []
    },
    {
      "cell_type": "code",
      "metadata": {
        "id": "ehAYBTPtpEg6",
        "colab_type": "code",
        "colab": {
          "base_uri": "https://localhost:8080/",
          "height": 197
        },
        "outputId": "0036f98c-9ed3-442e-8e52-630a64f5b4f2"
      },
      "source": [
        "df_cars = pd.read_csv('carros.csv', sep=',', decimal='.')\n",
        "df_cars.head()"
      ],
      "execution_count": 89,
      "outputs": [
        {
          "output_type": "execute_result",
          "data": {
            "text/html": [
              "<div>\n",
              "<style scoped>\n",
              "    .dataframe tbody tr th:only-of-type {\n",
              "        vertical-align: middle;\n",
              "    }\n",
              "\n",
              "    .dataframe tbody tr th {\n",
              "        vertical-align: top;\n",
              "    }\n",
              "\n",
              "    .dataframe thead th {\n",
              "        text-align: right;\n",
              "    }\n",
              "</style>\n",
              "<table border=\"1\" class=\"dataframe\">\n",
              "  <thead>\n",
              "    <tr style=\"text-align: right;\">\n",
              "      <th></th>\n",
              "      <th>Car_Name</th>\n",
              "      <th>Year</th>\n",
              "      <th>Selling_Price</th>\n",
              "      <th>Present_Price</th>\n",
              "      <th>Kms_Driven</th>\n",
              "      <th>Fuel_Type</th>\n",
              "      <th>Seller_Type</th>\n",
              "      <th>Transmission</th>\n",
              "      <th>Owner</th>\n",
              "    </tr>\n",
              "  </thead>\n",
              "  <tbody>\n",
              "    <tr>\n",
              "      <th>0</th>\n",
              "      <td>ritz</td>\n",
              "      <td>2014</td>\n",
              "      <td>3.35</td>\n",
              "      <td>5.59</td>\n",
              "      <td>27000</td>\n",
              "      <td>Petrol</td>\n",
              "      <td>dealer</td>\n",
              "      <td>Manual</td>\n",
              "      <td>0</td>\n",
              "    </tr>\n",
              "    <tr>\n",
              "      <th>1</th>\n",
              "      <td>sx4</td>\n",
              "      <td>2013</td>\n",
              "      <td>4.75</td>\n",
              "      <td>9.54</td>\n",
              "      <td>43000</td>\n",
              "      <td>Diesel</td>\n",
              "      <td>dealer</td>\n",
              "      <td>Manual</td>\n",
              "      <td>0</td>\n",
              "    </tr>\n",
              "    <tr>\n",
              "      <th>2</th>\n",
              "      <td>ciaz</td>\n",
              "      <td>2017</td>\n",
              "      <td>7.25</td>\n",
              "      <td>9.85</td>\n",
              "      <td>6900</td>\n",
              "      <td>Petrol</td>\n",
              "      <td>dealer</td>\n",
              "      <td>Manual</td>\n",
              "      <td>0</td>\n",
              "    </tr>\n",
              "    <tr>\n",
              "      <th>3</th>\n",
              "      <td>wagon r</td>\n",
              "      <td>2011</td>\n",
              "      <td>2.85</td>\n",
              "      <td>4.15</td>\n",
              "      <td>5200</td>\n",
              "      <td>Petrol</td>\n",
              "      <td>dealer</td>\n",
              "      <td>Manual</td>\n",
              "      <td>0</td>\n",
              "    </tr>\n",
              "    <tr>\n",
              "      <th>4</th>\n",
              "      <td>swift</td>\n",
              "      <td>2014</td>\n",
              "      <td>4.60</td>\n",
              "      <td>6.87</td>\n",
              "      <td>42450</td>\n",
              "      <td>Diesel</td>\n",
              "      <td>dealer</td>\n",
              "      <td>Manual</td>\n",
              "      <td>0</td>\n",
              "    </tr>\n",
              "  </tbody>\n",
              "</table>\n",
              "</div>"
            ],
            "text/plain": [
              "  Car_Name  Year  Selling_Price  ...  Seller_Type  Transmission Owner\n",
              "0     ritz  2014           3.35  ...       dealer        Manual     0\n",
              "1      sx4  2013           4.75  ...       dealer        Manual     0\n",
              "2     ciaz  2017           7.25  ...       dealer        Manual     0\n",
              "3  wagon r  2011           2.85  ...       dealer        Manual     0\n",
              "4    swift  2014           4.60  ...       dealer        Manual     0\n",
              "\n",
              "[5 rows x 9 columns]"
            ]
          },
          "metadata": {
            "tags": []
          },
          "execution_count": 89
        }
      ]
    },
    {
      "cell_type": "code",
      "metadata": {
        "id": "bVvjNrtXpEhF",
        "colab_type": "code",
        "colab": {
          "base_uri": "https://localhost:8080/",
          "height": 283
        },
        "outputId": "465d496a-c7f3-4b37-d63c-a89a91bd799f"
      },
      "source": [
        "df_cars.info()"
      ],
      "execution_count": 90,
      "outputs": [
        {
          "output_type": "stream",
          "text": [
            "<class 'pandas.core.frame.DataFrame'>\n",
            "RangeIndex: 301 entries, 0 to 300\n",
            "Data columns (total 9 columns):\n",
            " #   Column         Non-Null Count  Dtype  \n",
            "---  ------         --------------  -----  \n",
            " 0   Car_Name       301 non-null    object \n",
            " 1   Year           301 non-null    int64  \n",
            " 2   Selling_Price  301 non-null    float64\n",
            " 3   Present_Price  301 non-null    float64\n",
            " 4   Kms_Driven     301 non-null    int64  \n",
            " 5   Fuel_Type      301 non-null    object \n",
            " 6   Seller_Type    301 non-null    object \n",
            " 7   Transmission   301 non-null    object \n",
            " 8   Owner          301 non-null    int64  \n",
            "dtypes: float64(2), int64(3), object(4)\n",
            "memory usage: 21.3+ KB\n"
          ],
          "name": "stdout"
        }
      ]
    },
    {
      "cell_type": "code",
      "metadata": {
        "id": "BvrC2q0YpEhK",
        "colab_type": "code",
        "colab": {
          "base_uri": "https://localhost:8080/",
          "height": 287
        },
        "outputId": "2b6589a6-6145-4f00-ea1c-113a0c9584da"
      },
      "source": [
        "df_cars.describe()"
      ],
      "execution_count": 91,
      "outputs": [
        {
          "output_type": "execute_result",
          "data": {
            "text/html": [
              "<div>\n",
              "<style scoped>\n",
              "    .dataframe tbody tr th:only-of-type {\n",
              "        vertical-align: middle;\n",
              "    }\n",
              "\n",
              "    .dataframe tbody tr th {\n",
              "        vertical-align: top;\n",
              "    }\n",
              "\n",
              "    .dataframe thead th {\n",
              "        text-align: right;\n",
              "    }\n",
              "</style>\n",
              "<table border=\"1\" class=\"dataframe\">\n",
              "  <thead>\n",
              "    <tr style=\"text-align: right;\">\n",
              "      <th></th>\n",
              "      <th>Year</th>\n",
              "      <th>Selling_Price</th>\n",
              "      <th>Present_Price</th>\n",
              "      <th>Kms_Driven</th>\n",
              "      <th>Owner</th>\n",
              "    </tr>\n",
              "  </thead>\n",
              "  <tbody>\n",
              "    <tr>\n",
              "      <th>count</th>\n",
              "      <td>301.000000</td>\n",
              "      <td>301.000000</td>\n",
              "      <td>301.000000</td>\n",
              "      <td>301.000000</td>\n",
              "      <td>301.000000</td>\n",
              "    </tr>\n",
              "    <tr>\n",
              "      <th>mean</th>\n",
              "      <td>2013.627907</td>\n",
              "      <td>4.661296</td>\n",
              "      <td>7.628472</td>\n",
              "      <td>36947.205980</td>\n",
              "      <td>0.043189</td>\n",
              "    </tr>\n",
              "    <tr>\n",
              "      <th>std</th>\n",
              "      <td>2.891554</td>\n",
              "      <td>5.082812</td>\n",
              "      <td>8.644115</td>\n",
              "      <td>38886.883882</td>\n",
              "      <td>0.247915</td>\n",
              "    </tr>\n",
              "    <tr>\n",
              "      <th>min</th>\n",
              "      <td>2003.000000</td>\n",
              "      <td>0.100000</td>\n",
              "      <td>0.320000</td>\n",
              "      <td>500.000000</td>\n",
              "      <td>0.000000</td>\n",
              "    </tr>\n",
              "    <tr>\n",
              "      <th>25%</th>\n",
              "      <td>2012.000000</td>\n",
              "      <td>0.900000</td>\n",
              "      <td>1.200000</td>\n",
              "      <td>15000.000000</td>\n",
              "      <td>0.000000</td>\n",
              "    </tr>\n",
              "    <tr>\n",
              "      <th>50%</th>\n",
              "      <td>2014.000000</td>\n",
              "      <td>3.600000</td>\n",
              "      <td>6.400000</td>\n",
              "      <td>32000.000000</td>\n",
              "      <td>0.000000</td>\n",
              "    </tr>\n",
              "    <tr>\n",
              "      <th>75%</th>\n",
              "      <td>2016.000000</td>\n",
              "      <td>6.000000</td>\n",
              "      <td>9.900000</td>\n",
              "      <td>48767.000000</td>\n",
              "      <td>0.000000</td>\n",
              "    </tr>\n",
              "    <tr>\n",
              "      <th>max</th>\n",
              "      <td>2018.000000</td>\n",
              "      <td>35.000000</td>\n",
              "      <td>92.600000</td>\n",
              "      <td>500000.000000</td>\n",
              "      <td>3.000000</td>\n",
              "    </tr>\n",
              "  </tbody>\n",
              "</table>\n",
              "</div>"
            ],
            "text/plain": [
              "              Year  Selling_Price  Present_Price     Kms_Driven       Owner\n",
              "count   301.000000     301.000000     301.000000     301.000000  301.000000\n",
              "mean   2013.627907       4.661296       7.628472   36947.205980    0.043189\n",
              "std       2.891554       5.082812       8.644115   38886.883882    0.247915\n",
              "min    2003.000000       0.100000       0.320000     500.000000    0.000000\n",
              "25%    2012.000000       0.900000       1.200000   15000.000000    0.000000\n",
              "50%    2014.000000       3.600000       6.400000   32000.000000    0.000000\n",
              "75%    2016.000000       6.000000       9.900000   48767.000000    0.000000\n",
              "max    2018.000000      35.000000      92.600000  500000.000000    3.000000"
            ]
          },
          "metadata": {
            "tags": []
          },
          "execution_count": 91
        }
      ]
    },
    {
      "cell_type": "code",
      "metadata": {
        "id": "407yyFV4pEhM",
        "colab_type": "code",
        "colab": {
          "base_uri": "https://localhost:8080/",
          "height": 282
        },
        "outputId": "eb5668ec-f018-420a-e52d-7ec112864923"
      },
      "source": [
        "df_cars.Selling_Price.plot.box()"
      ],
      "execution_count": 92,
      "outputs": [
        {
          "output_type": "execute_result",
          "data": {
            "text/plain": [
              "<matplotlib.axes._subplots.AxesSubplot at 0x7f9b36f65748>"
            ]
          },
          "metadata": {
            "tags": []
          },
          "execution_count": 92
        },
        {
          "output_type": "display_data",
          "data": {
            "image/png": "[encoded data removed]",
            "text/plain": [
              "<Figure size 432x288 with 1 Axes>"
            ]
          },
          "metadata": {
            "tags": [],
            "needs_background": "light"
          }
        }
      ]
    },
    {
      "cell_type": "code",
      "metadata": {
        "id": "NE6wKQJApEhR",
        "colab_type": "code",
        "colab": {
          "base_uri": "https://localhost:8080/",
          "height": 281
        },
        "outputId": "fd90dc04-4d78-441f-e056-1e585e9e5afd"
      },
      "source": [
        "df_cars.Selling_Price.plot.hist()"
      ],
      "execution_count": 93,
      "outputs": [
        {
          "output_type": "execute_result",
          "data": {
            "text/plain": [
              "<matplotlib.axes._subplots.AxesSubplot at 0x7f9b36eda908>"
            ]
          },
          "metadata": {
            "tags": []
          },
          "execution_count": 93
        },
        {
          "output_type": "display_data",
          "data": {
            "image/png": "[encoded data removed]",
            "text/plain": [
              "<Figure size 432x288 with 1 Axes>"
            ]
          },
          "metadata": {
            "tags": [],
            "needs_background": "light"
          }
        }
      ]
    },
    {
      "cell_type": "code",
      "metadata": {
        "id": "3JUltTtPpEhW",
        "colab_type": "code",
        "colab": {
          "base_uri": "https://localhost:8080/",
          "height": 282
        },
        "outputId": "be97e9e3-d495-4c0d-ae4a-1928b3e1846b"
      },
      "source": [
        "stats = boxplot_stats(df_cars.Selling_Price)[0]\n",
        "\n",
        "df_cars = df_cars[df_cars.Selling_Price <= stats['whishi']]\n",
        "df_cars.Selling_Price.plot.box()"
      ],
      "execution_count": 94,
      "outputs": [
        {
          "output_type": "execute_result",
          "data": {
            "text/plain": [
              "<matplotlib.axes._subplots.AxesSubplot at 0x7f9b405dd9b0>"
            ]
          },
          "metadata": {
            "tags": []
          },
          "execution_count": 94
        },
        {
          "output_type": "display_data",
          "data": {
            "image/png": "[encoded data removed]",
            "text/plain": [
              "<Figure size 432x288 with 1 Axes>"
            ]
          },
          "metadata": {
            "tags": [],
            "needs_background": "light"
          }
        }
      ]
    },
    {
      "cell_type": "code",
      "metadata": {
        "id": "hBpZ_lD4pEhb",
        "colab_type": "code",
        "colab": {
          "base_uri": "https://localhost:8080/",
          "height": 331
        },
        "outputId": "eee8a47a-3e99-47c4-fb1b-b315286e7bab"
      },
      "source": [
        "discretizer = KBinsDiscretizer(n_bins=4, encode='ordinal', strategy='quantile')\n",
        "df_cars = df_cars.assign(price_discretized = discretizer.fit_transform(df_cars.Selling_Price.values.reshape(-1, 1)))\n",
        "df_cars.head()\n",
        "[ df_cars[df_cars.price_discretized == i].Selling_Price.plot.density() for i in range(4) ]"
      ],
      "execution_count": 95,
      "outputs": [
        {
          "output_type": "execute_result",
          "data": {
            "text/plain": [
              "[<matplotlib.axes._subplots.AxesSubplot at 0x7f9b36ee1c88>,\n",
              " <matplotlib.axes._subplots.AxesSubplot at 0x7f9b36ee1c88>,\n",
              " <matplotlib.axes._subplots.AxesSubplot at 0x7f9b36ee1c88>,\n",
              " <matplotlib.axes._subplots.AxesSubplot at 0x7f9b36ee1c88>]"
            ]
          },
          "metadata": {
            "tags": []
          },
          "execution_count": 95
        },
        {
          "output_type": "display_data",
          "data": {
            "image/png": "[encoded data removed]",
            "text/plain": [
              "<Figure size 432x288 with 1 Axes>"
            ]
          },
          "metadata": {
            "tags": [],
            "needs_background": "light"
          }
        }
      ]
    },
    {
      "cell_type": "code",
      "metadata": {
        "id": "eT-D4P28pEhf",
        "colab_type": "code",
        "colab": {
          "base_uri": "https://localhost:8080/",
          "height": 281
        },
        "outputId": "3af871ec-b098-40e4-f203-9cdb103e26a3"
      },
      "source": [
        "df_cars.Year.plot.hist()"
      ],
      "execution_count": 96,
      "outputs": [
        {
          "output_type": "execute_result",
          "data": {
            "text/plain": [
              "<matplotlib.axes._subplots.AxesSubplot at 0x7f9b40553e10>"
            ]
          },
          "metadata": {
            "tags": []
          },
          "execution_count": 96
        },
        {
          "output_type": "display_data",
          "data": {
            "image/png": "[encoded data removed]",
            "text/plain": [
              "<Figure size 432x288 with 1 Axes>"
            ]
          },
          "metadata": {
            "tags": [],
            "needs_background": "light"
          }
        }
      ]
    },
    {
      "cell_type": "code",
      "metadata": {
        "id": "mDpWZmDvpEhi",
        "colab_type": "code",
        "colab": {
          "base_uri": "https://localhost:8080/",
          "height": 284
        },
        "outputId": "480f2a4b-323d-4917-b8e3-ab3b2e4fb613"
      },
      "source": [
        "df_cars.Year.plot.density()"
      ],
      "execution_count": 97,
      "outputs": [
        {
          "output_type": "execute_result",
          "data": {
            "text/plain": [
              "<matplotlib.axes._subplots.AxesSubplot at 0x7f9b36dcb128>"
            ]
          },
          "metadata": {
            "tags": []
          },
          "execution_count": 97
        },
        {
          "output_type": "display_data",
          "data": {
            "image/png": "[encoded data removed]",
            "text/plain": [
              "<Figure size 432x288 with 1 Axes>"
            ]
          },
          "metadata": {
            "tags": [],
            "needs_background": "light"
          }
        }
      ]
    },
    {
      "cell_type": "code",
      "metadata": {
        "id": "w7N-AvNbpEhl",
        "colab_type": "code",
        "colab": {
          "base_uri": "https://localhost:8080/",
          "height": 282
        },
        "outputId": "f7f5e0b6-b4c0-4e0a-8a62-19d6f70d3e8c"
      },
      "source": [
        "df_cars.Kms_Driven.plot.box()"
      ],
      "execution_count": 98,
      "outputs": [
        {
          "output_type": "execute_result",
          "data": {
            "text/plain": [
              "<matplotlib.axes._subplots.AxesSubplot at 0x7f9b36dcb0f0>"
            ]
          },
          "metadata": {
            "tags": []
          },
          "execution_count": 98
        },
        {
          "output_type": "display_data",
          "data": {
            "image/png": "[encoded data removed]",
            "text/plain": [
              "<Figure size 432x288 with 1 Axes>"
            ]
          },
          "metadata": {
            "tags": [],
            "needs_background": "light"
          }
        }
      ]
    },
    {
      "cell_type": "code",
      "metadata": {
        "id": "l4e3xEqupEho",
        "colab_type": "code",
        "colab": {
          "base_uri": "https://localhost:8080/",
          "height": 281
        },
        "outputId": "350f8552-9267-4f3d-85e7-982b0c195666"
      },
      "source": [
        "df_cars.Kms_Driven.plot.hist()"
      ],
      "execution_count": 99,
      "outputs": [
        {
          "output_type": "execute_result",
          "data": {
            "text/plain": [
              "<matplotlib.axes._subplots.AxesSubplot at 0x7f9b36ea4fd0>"
            ]
          },
          "metadata": {
            "tags": []
          },
          "execution_count": 99
        },
        {
          "output_type": "display_data",
          "data": {
            "image/png": "[encoded data removed]",
            "text/plain": [
              "<Figure size 432x288 with 1 Axes>"
            ]
          },
          "metadata": {
            "tags": [],
            "needs_background": "light"
          }
        }
      ]
    },
    {
      "cell_type": "code",
      "metadata": {
        "id": "dKMLLqj4pEhq",
        "colab_type": "code",
        "colab": {
          "base_uri": "https://localhost:8080/",
          "height": 282
        },
        "outputId": "6ee6bbce-0907-4424-907b-e20bd3f6f495"
      },
      "source": [
        "stats = boxplot_stats(df_cars.Kms_Driven)[0]\n",
        "\n",
        "df_cars = df_cars[df_cars.Kms_Driven <= stats['whishi']]\n",
        "df_cars.Kms_Driven.plot.box()"
      ],
      "execution_count": 100,
      "outputs": [
        {
          "output_type": "execute_result",
          "data": {
            "text/plain": [
              "<matplotlib.axes._subplots.AxesSubplot at 0x7f9b36c83828>"
            ]
          },
          "metadata": {
            "tags": []
          },
          "execution_count": 100
        },
        {
          "output_type": "display_data",
          "data": {
            "image/png": "[encoded data removed]",
            "text/plain": [
              "<Figure size 432x288 with 1 Axes>"
            ]
          },
          "metadata": {
            "tags": [],
            "needs_background": "light"
          }
        }
      ]
    },
    {
      "cell_type": "code",
      "metadata": {
        "id": "6u9GRX4NpEht",
        "colab_type": "code",
        "colab": {
          "base_uri": "https://localhost:8080/",
          "height": 281
        },
        "outputId": "dae5009a-ab3e-41af-f58a-a55cf4c3ed41"
      },
      "source": [
        "df_cars.Kms_Driven.plot.hist()"
      ],
      "execution_count": 101,
      "outputs": [
        {
          "output_type": "execute_result",
          "data": {
            "text/plain": [
              "<matplotlib.axes._subplots.AxesSubplot at 0x7f9b36c51eb8>"
            ]
          },
          "metadata": {
            "tags": []
          },
          "execution_count": 101
        },
        {
          "output_type": "display_data",
          "data": {
            "image/png": "[encoded data removed]",
            "text/plain": [
              "<Figure size 432x288 with 1 Axes>"
            ]
          },
          "metadata": {
            "tags": [],
            "needs_background": "light"
          }
        }
      ]
    },
    {
      "cell_type": "code",
      "metadata": {
        "id": "n9rS9QZhpEhx",
        "colab_type": "code",
        "colab": {
          "base_uri": "https://localhost:8080/",
          "height": 292
        },
        "outputId": "1aba3de0-22fa-4637-e348-7762ed51b0b8"
      },
      "source": [
        "df_cars.Kms_Driven.plot.density()"
      ],
      "execution_count": 102,
      "outputs": [
        {
          "output_type": "execute_result",
          "data": {
            "text/plain": [
              "<matplotlib.axes._subplots.AxesSubplot at 0x7f9b36bd7320>"
            ]
          },
          "metadata": {
            "tags": []
          },
          "execution_count": 102
        },
        {
          "output_type": "display_data",
          "data": {
            "image/png": "[encoded data removed]",
            "text/plain": [
              "<Figure size 432x288 with 1 Axes>"
            ]
          },
          "metadata": {
            "tags": [],
            "needs_background": "light"
          }
        }
      ]
    },
    {
      "cell_type": "code",
      "metadata": {
        "id": "uYUx5paZpEh0",
        "colab_type": "code",
        "colab": {
          "base_uri": "https://localhost:8080/",
          "height": 116
        },
        "outputId": "d8417509-c9f8-4580-aba7-c9c12866d66e"
      },
      "source": [
        "df_cars.Fuel_Type.value_counts()"
      ],
      "execution_count": 103,
      "outputs": [
        {
          "output_type": "execute_result",
          "data": {
            "text/plain": [
              "Petrol    206\n",
              "Diesel     38\n",
              "Petro      25\n",
              "diesel      7\n",
              "CNG         2\n",
              "Name: Fuel_Type, dtype: int64"
            ]
          },
          "metadata": {
            "tags": []
          },
          "execution_count": 103
        }
      ]
    },
    {
      "cell_type": "code",
      "metadata": {
        "id": "TLrZbreSpEh3",
        "colab_type": "code",
        "colab": {}
      },
      "source": [
        "def adjust_fuel_type(fuel: str) -> str:\n",
        "    if fuel == 'Petro':\n",
        "        return 'Petrol'\n",
        "    elif fuel == 'diesel':\n",
        "        return 'Diesel'\n",
        "    else:\n",
        "        return fuel\n",
        "    "
      ],
      "execution_count": 104,
      "outputs": []
    },
    {
      "cell_type": "code",
      "metadata": {
        "id": "KGp2GKhKpEh7",
        "colab_type": "code",
        "colab": {
          "base_uri": "https://localhost:8080/",
          "height": 302
        },
        "outputId": "5881f048-ae0c-4f79-adfb-f898868838e3"
      },
      "source": [
        "df_cars.Fuel_Type = df_cars.Fuel_Type.apply(adjust_fuel_type)\n",
        "df_cars.Fuel_Type.value_counts().plot.bar()"
      ],
      "execution_count": 105,
      "outputs": [
        {
          "output_type": "execute_result",
          "data": {
            "text/plain": [
              "<matplotlib.axes._subplots.AxesSubplot at 0x7f9b36c77a20>"
            ]
          },
          "metadata": {
            "tags": []
          },
          "execution_count": 105
        },
        {
          "output_type": "display_data",
          "data": {
            "image/png": "[encoded data removed]",
            "text/plain": [
              "<Figure size 432x288 with 1 Axes>"
            ]
          },
          "metadata": {
            "tags": [],
            "needs_background": "light"
          }
        }
      ]
    },
    {
      "cell_type": "code",
      "metadata": {
        "id": "Xnlkl9zupEiA",
        "colab_type": "code",
        "colab": {
          "base_uri": "https://localhost:8080/",
          "height": 83
        },
        "outputId": "1dc0059e-df8d-4b2f-bbf7-d80af33c1049"
      },
      "source": [
        "df_cars.Fuel_Type.value_counts()"
      ],
      "execution_count": 106,
      "outputs": [
        {
          "output_type": "execute_result",
          "data": {
            "text/plain": [
              "Petrol    231\n",
              "Diesel     45\n",
              "CNG         2\n",
              "Name: Fuel_Type, dtype: int64"
            ]
          },
          "metadata": {
            "tags": []
          },
          "execution_count": 106
        }
      ]
    },
    {
      "cell_type": "code",
      "metadata": {
        "id": "2oAF5QqwpEiH",
        "colab_type": "code",
        "colab": {
          "base_uri": "https://localhost:8080/",
          "height": 100
        },
        "outputId": "8a122784-2684-41ab-a2f6-c925e273a958"
      },
      "source": [
        "df_cars.Seller_Type.value_counts()"
      ],
      "execution_count": 107,
      "outputs": [
        {
          "output_type": "execute_result",
          "data": {
            "text/plain": [
              "Dealer        132\n",
              "Individual     56\n",
              "dealer         45\n",
              "individual     45\n",
              "Name: Seller_Type, dtype: int64"
            ]
          },
          "metadata": {
            "tags": []
          },
          "execution_count": 107
        }
      ]
    },
    {
      "cell_type": "code",
      "metadata": {
        "id": "LBuo8G1cpEiL",
        "colab_type": "code",
        "colab": {}
      },
      "source": [
        "def adjust_seller_type(seller: str)->str:\n",
        "    if seller == 'individual':\n",
        "        return 'Individual'\n",
        "    elif seller == 'dealer':\n",
        "        return 'Dealer'\n",
        "    else:\n",
        "        return seller"
      ],
      "execution_count": 108,
      "outputs": []
    },
    {
      "cell_type": "code",
      "metadata": {
        "id": "XmJ73K00pEiO",
        "colab_type": "code",
        "colab": {
          "base_uri": "https://localhost:8080/",
          "height": 66
        },
        "outputId": "f6c4fb84-a3b4-4e00-f2ae-63b97408d0d3"
      },
      "source": [
        "df_cars.Seller_Type = df_cars.Seller_Type.apply(adjust_seller_type)\n",
        "df_cars.Seller_Type.value_counts()\n"
      ],
      "execution_count": 109,
      "outputs": [
        {
          "output_type": "execute_result",
          "data": {
            "text/plain": [
              "Dealer        177\n",
              "Individual    101\n",
              "Name: Seller_Type, dtype: int64"
            ]
          },
          "metadata": {
            "tags": []
          },
          "execution_count": 109
        }
      ]
    },
    {
      "cell_type": "code",
      "metadata": {
        "id": "gVEnfZ8RpEiQ",
        "colab_type": "code",
        "colab": {
          "base_uri": "https://localhost:8080/",
          "height": 321
        },
        "outputId": "266cc0e4-42f1-4daf-89a8-03204a1ce658"
      },
      "source": [
        "df_cars.Seller_Type.value_counts().plot.bar()"
      ],
      "execution_count": 110,
      "outputs": [
        {
          "output_type": "execute_result",
          "data": {
            "text/plain": [
              "<matplotlib.axes._subplots.AxesSubplot at 0x7f9b36b04da0>"
            ]
          },
          "metadata": {
            "tags": []
          },
          "execution_count": 110
        },
        {
          "output_type": "display_data",
          "data": {
            "image/png": "[encoded data removed]",
            "text/plain": [
              "<Figure size 432x288 with 1 Axes>"
            ]
          },
          "metadata": {
            "tags": [],
            "needs_background": "light"
          }
        }
      ]
    },
    {
      "cell_type": "code",
      "metadata": {
        "id": "RBmffvDKpEiU",
        "colab_type": "code",
        "colab": {
          "base_uri": "https://localhost:8080/",
          "height": 100
        },
        "outputId": "077bf916-3097-4099-8959-dfe2c787a7b2"
      },
      "source": [
        "df_cars.Transmission.value_counts()"
      ],
      "execution_count": 111,
      "outputs": [
        {
          "output_type": "execute_result",
          "data": {
            "text/plain": [
              "Manual       203\n",
              "manual        51\n",
              "automatic     12\n",
              "Automatic     12\n",
              "Name: Transmission, dtype: int64"
            ]
          },
          "metadata": {
            "tags": []
          },
          "execution_count": 111
        }
      ]
    },
    {
      "cell_type": "code",
      "metadata": {
        "id": "3jCS7PqipEiX",
        "colab_type": "code",
        "colab": {}
      },
      "source": [
        "def adjust_transmission_type(transmission: str) -> str:\n",
        "    if transmission == 'manual':\n",
        "        return 'Manual'\n",
        "    elif transmission == 'automatic':\n",
        "        return 'Automatic'\n",
        "    else:\n",
        "        return transmission\n",
        "    "
      ],
      "execution_count": 112,
      "outputs": []
    },
    {
      "cell_type": "code",
      "metadata": {
        "id": "Uh_MCe94pEiZ",
        "colab_type": "code",
        "colab": {
          "base_uri": "https://localhost:8080/",
          "height": 66
        },
        "outputId": "c32eae0b-f0f8-43fe-a2bc-00964c2733f0"
      },
      "source": [
        "df_cars.Transmission = df_cars.Transmission.apply(adjust_transmission_type)\n",
        "df_cars.Transmission.value_counts()\n"
      ],
      "execution_count": 113,
      "outputs": [
        {
          "output_type": "execute_result",
          "data": {
            "text/plain": [
              "Manual       254\n",
              "Automatic     24\n",
              "Name: Transmission, dtype: int64"
            ]
          },
          "metadata": {
            "tags": []
          },
          "execution_count": 113
        }
      ]
    },
    {
      "cell_type": "code",
      "metadata": {
        "id": "bu17IjIIpEib",
        "colab_type": "code",
        "colab": {
          "base_uri": "https://localhost:8080/",
          "height": 322
        },
        "outputId": "34ef7e94-14f5-4182-aaa8-4eb50638f303"
      },
      "source": [
        "df_cars.Transmission.value_counts().plot.bar()"
      ],
      "execution_count": 114,
      "outputs": [
        {
          "output_type": "execute_result",
          "data": {
            "text/plain": [
              "<matplotlib.axes._subplots.AxesSubplot at 0x7f9b36a778d0>"
            ]
          },
          "metadata": {
            "tags": []
          },
          "execution_count": 114
        },
        {
          "output_type": "display_data",
          "data": {
            "image/png": "[encoded data removed]",
            "text/plain": [
              "<Figure size 432x288 with 1 Axes>"
            ]
          },
          "metadata": {
            "tags": [],
            "needs_background": "light"
          }
        }
      ]
    },
    {
      "cell_type": "code",
      "metadata": {
        "id": "wlhOHdhSpEif",
        "colab_type": "code",
        "colab": {
          "base_uri": "https://localhost:8080/",
          "height": 282
        },
        "outputId": "de797b5d-9591-4a3c-ec6e-3d3969c2cddd"
      },
      "source": [
        "df_cars.Present_Price.plot.box()"
      ],
      "execution_count": 115,
      "outputs": [
        {
          "output_type": "execute_result",
          "data": {
            "text/plain": [
              "<matplotlib.axes._subplots.AxesSubplot at 0x7f9b36b4e6a0>"
            ]
          },
          "metadata": {
            "tags": []
          },
          "execution_count": 115
        },
        {
          "output_type": "display_data",
          "data": {
            "image/png": "[encoded data removed]",
            "text/plain": [
              "<Figure size 432x288 with 1 Axes>"
            ]
          },
          "metadata": {
            "tags": [],
            "needs_background": "light"
          }
        }
      ]
    },
    {
      "cell_type": "code",
      "metadata": {
        "id": "efCejRSLpEih",
        "colab_type": "code",
        "colab": {
          "base_uri": "https://localhost:8080/",
          "height": 282
        },
        "outputId": "aa936ca4-4e7e-46a8-800e-21db72a086bc"
      },
      "source": [
        "stats = boxplot_stats(df_cars.Present_Price)[0]\n",
        "\n",
        "df_cars = df_cars[df_cars.Present_Price <= stats['whishi']]\n",
        "df_cars.Present_Price.plot.box()"
      ],
      "execution_count": 116,
      "outputs": [
        {
          "output_type": "execute_result",
          "data": {
            "text/plain": [
              "<matplotlib.axes._subplots.AxesSubplot at 0x7f9b369c7748>"
            ]
          },
          "metadata": {
            "tags": []
          },
          "execution_count": 116
        },
        {
          "output_type": "display_data",
          "data": {
            "image/png": "[encoded data removed]",
            "text/plain": [
              "<Figure size 432x288 with 1 Axes>"
            ]
          },
          "metadata": {
            "tags": [],
            "needs_background": "light"
          }
        }
      ]
    },
    {
      "cell_type": "code",
      "metadata": {
        "id": "bxoSvrR2pEik",
        "colab_type": "code",
        "colab": {
          "base_uri": "https://localhost:8080/",
          "height": 200
        },
        "outputId": "c5aefd18-5c27-4524-f5b1-4afcbaa5a019"
      },
      "source": [
        "df_cars.count()\n"
      ],
      "execution_count": 117,
      "outputs": [
        {
          "output_type": "execute_result",
          "data": {
            "text/plain": [
              "Car_Name             276\n",
              "Year                 276\n",
              "Selling_Price        276\n",
              "Present_Price        276\n",
              "Kms_Driven           276\n",
              "Fuel_Type            276\n",
              "Seller_Type          276\n",
              "Transmission         276\n",
              "Owner                276\n",
              "price_discretized    276\n",
              "dtype: int64"
            ]
          },
          "metadata": {
            "tags": []
          },
          "execution_count": 117
        }
      ]
    },
    {
      "cell_type": "code",
      "metadata": {
        "id": "-yaR1p4IpEim",
        "colab_type": "code",
        "colab": {
          "base_uri": "https://localhost:8080/",
          "height": 284
        },
        "outputId": "ef4c7b62-294d-49dd-d6c0-e45873c26038"
      },
      "source": [
        "df_cars.Present_Price.plot.hist()"
      ],
      "execution_count": 118,
      "outputs": [
        {
          "output_type": "execute_result",
          "data": {
            "text/plain": [
              "<matplotlib.axes._subplots.AxesSubplot at 0x7f9b36c83d68>"
            ]
          },
          "metadata": {
            "tags": []
          },
          "execution_count": 118
        },
        {
          "output_type": "display_data",
          "data": {
            "image/png": "[encoded data removed]",
            "text/plain": [
              "<Figure size 432x288 with 1 Axes>"
            ]
          },
          "metadata": {
            "tags": [],
            "needs_background": "light"
          }
        }
      ]
    },
    {
      "cell_type": "markdown",
      "metadata": {
        "id": "jpKyFHofpEip",
        "colab_type": "text"
      },
      "source": [
        "####  Na avaliação abaixo podemos verificar que os preços são  menores  para compras com particulares \n"
      ]
    },
    {
      "cell_type": "code",
      "metadata": {
        "id": "_V96sDympEip",
        "colab_type": "code",
        "colab": {
          "base_uri": "https://localhost:8080/",
          "height": 281
        },
        "outputId": "b6daadb2-f060-4650-992e-c1828911c575"
      },
      "source": [
        "df_cars.Present_Price[df_cars.Seller_Type == 'Dealer'].plot.density() #Laranja\n",
        "df_cars.Present_Price[df_cars.Seller_Type == 'Individual'].plot.density()#Azul     "
      ],
      "execution_count": 119,
      "outputs": [
        {
          "output_type": "execute_result",
          "data": {
            "text/plain": [
              "<matplotlib.axes._subplots.AxesSubplot at 0x7f9b3692ecc0>"
            ]
          },
          "metadata": {
            "tags": []
          },
          "execution_count": 119
        },
        {
          "output_type": "display_data",
          "data": {
            "image/png": "[encoded data removed]",
            "text/plain": [
              "<Figure size 432x288 with 1 Axes>"
            ]
          },
          "metadata": {
            "tags": [],
            "needs_background": "light"
          }
        }
      ]
    },
    {
      "cell_type": "markdown",
      "metadata": {
        "id": "lXTMUoYlpEis",
        "colab_type": "text"
      },
      "source": [
        "####  Na avaliação abaixo podemos verificar que apesar a diferença de valores , o comportamento do preço com relação a transmissão é a mesma\n"
      ]
    },
    {
      "cell_type": "code",
      "metadata": {
        "id": "j-FJha3wpEis",
        "colab_type": "code",
        "colab": {
          "base_uri": "https://localhost:8080/",
          "height": 281
        },
        "outputId": "9e75213b-8087-4ed4-b084-90c0d1b1a10a"
      },
      "source": [
        "df_cars.Present_Price[df_cars.Transmission == 'Manual'].plot.density()#Laranja   \n",
        "df_cars.Present_Price[df_cars.Transmission != 'Manual'].plot.density()#Azul  "
      ],
      "execution_count": 120,
      "outputs": [
        {
          "output_type": "execute_result",
          "data": {
            "text/plain": [
              "<matplotlib.axes._subplots.AxesSubplot at 0x7f9b36893d30>"
            ]
          },
          "metadata": {
            "tags": []
          },
          "execution_count": 120
        },
        {
          "output_type": "display_data",
          "data": {
            "image/png": "[encoded data removed]",
            "text/plain": [
              "<Figure size 432x288 with 1 Axes>"
            ]
          },
          "metadata": {
            "tags": [],
            "needs_background": "light"
          }
        }
      ]
    },
    {
      "cell_type": "code",
      "metadata": {
        "id": "ZYVPS545pEiv",
        "colab_type": "code",
        "colab": {}
      },
      "source": [
        "####PAra ocmbustivel o valor muda  conforme o tipode combustivel"
      ],
      "execution_count": 121,
      "outputs": []
    },
    {
      "cell_type": "code",
      "metadata": {
        "id": "nmiFmE5ipEix",
        "colab_type": "code",
        "colab": {
          "base_uri": "https://localhost:8080/",
          "height": 284
        },
        "outputId": "dc33fd26-03a5-4567-9190-e46d6612c56f"
      },
      "source": [
        "df_cars.Present_Price[df_cars.Fuel_Type == 'Petrol'].plot.density()#Laranja   \n",
        "df_cars.Present_Price[df_cars.Fuel_Type == 'Diesel'].plot.density()#Azul  "
      ],
      "execution_count": 122,
      "outputs": [
        {
          "output_type": "execute_result",
          "data": {
            "text/plain": [
              "<matplotlib.axes._subplots.AxesSubplot at 0x7f9b3688bbe0>"
            ]
          },
          "metadata": {
            "tags": []
          },
          "execution_count": 122
        },
        {
          "output_type": "display_data",
          "data": {
            "image/png": "[encoded data removed]",
            "text/plain": [
              "<Figure size 432x288 with 1 Axes>"
            ]
          },
          "metadata": {
            "tags": [],
            "needs_background": "light"
          }
        }
      ]
    },
    {
      "cell_type": "code",
      "metadata": {
        "id": "s1dzoHMQpEi0",
        "colab_type": "code",
        "colab": {
          "base_uri": "https://localhost:8080/",
          "height": 283
        },
        "outputId": "b384bde2-8380-45a9-c8fa-9863bcf2e827"
      },
      "source": [
        "df_cars.Year.value_counts()"
      ],
      "execution_count": 123,
      "outputs": [
        {
          "output_type": "execute_result",
          "data": {
            "text/plain": [
              "2015    58\n",
              "2016    47\n",
              "2014    36\n",
              "2013    32\n",
              "2017    30\n",
              "2012    21\n",
              "2011    19\n",
              "2010    12\n",
              "2009     6\n",
              "2008     5\n",
              "2006     3\n",
              "2005     3\n",
              "2007     2\n",
              "2018     1\n",
              "2003     1\n",
              "Name: Year, dtype: int64"
            ]
          },
          "metadata": {
            "tags": []
          },
          "execution_count": 123
        }
      ]
    },
    {
      "cell_type": "code",
      "metadata": {
        "id": "1j6ZbeWmtuIK",
        "colab_type": "code",
        "colab": {
          "base_uri": "https://localhost:8080/",
          "height": 250
        },
        "outputId": "cf358b6a-497c-4913-e4c0-ef26ab334d69"
      },
      "source": [
        "#Removo os anos que tem como contador apenas um\n",
        "\n",
        "df_cars = df_cars[df_cars.Year != 2018]\n",
        "df_cars = df_cars[df_cars.Year != 2003]\n",
        "df_cars.Year.value_counts()"
      ],
      "execution_count": 143,
      "outputs": [
        {
          "output_type": "execute_result",
          "data": {
            "text/plain": [
              "2015    58\n",
              "2016    47\n",
              "2014    36\n",
              "2013    32\n",
              "2017    30\n",
              "2012    21\n",
              "2011    19\n",
              "2010    12\n",
              "2009     6\n",
              "2008     5\n",
              "2006     3\n",
              "2005     3\n",
              "2007     2\n",
              "Name: Year, dtype: int64"
            ]
          },
          "metadata": {
            "tags": []
          },
          "execution_count": 143
        }
      ]
    },
    {
      "cell_type": "code",
      "metadata": {
        "id": "ISpNo37RpEi3",
        "colab_type": "code",
        "colab": {
          "base_uri": "https://localhost:8080/",
          "height": 267
        },
        "outputId": "51c7b76f-ed65-430a-8d30-27aeb2c234a8"
      },
      "source": [
        "# Para os preços com amostragem menor que 3 distrocem os valores por haver poca amostra, então é  interessante remover  estes items\n",
        "for c in df_cars.Year.unique(): \n",
        "    if df_cars.Year.value_counts()[c] > 3:\n",
        "        df_cars.Present_Price[df_cars.Year == c].plot.density()  \n"
      ],
      "execution_count": 125,
      "outputs": [
        {
          "output_type": "display_data",
          "data": {
            "image/png": "[encoded data removed]",
            "text/plain": [
              "<Figure size 432x288 with 1 Axes>"
            ]
          },
          "metadata": {
            "tags": [],
            "needs_background": "light"
          }
        }
      ]
    },
    {
      "cell_type": "code",
      "metadata": {
        "id": "VTpDq3GPpEi8",
        "colab_type": "code",
        "colab": {
          "base_uri": "https://localhost:8080/",
          "height": 284
        },
        "outputId": "867f1c67-ced6-4116-fb45-9b7f72a2edc3"
      },
      "source": [
        "df_cars.Present_Price[df_cars.Owner == 0].plot.density()\n",
        "df_cars.Present_Price[df_cars.Owner == 1].plot.density()"
      ],
      "execution_count": 126,
      "outputs": [
        {
          "output_type": "execute_result",
          "data": {
            "text/plain": [
              "<matplotlib.axes._subplots.AxesSubplot at 0x7f9b367c5438>"
            ]
          },
          "metadata": {
            "tags": []
          },
          "execution_count": 126
        },
        {
          "output_type": "display_data",
          "data": {
            "image/png": "[encoded data removed]",
            "text/plain": [
              "<Figure size 432x288 with 1 Axes>"
            ]
          },
          "metadata": {
            "tags": [],
            "needs_background": "light"
          }
        }
      ]
    },
    {
      "cell_type": "markdown",
      "metadata": {
        "id": "9JTHMGyapEi_",
        "colab_type": "text"
      },
      "source": [
        "#### Podemos verificar que para o emsmo  ano o valor muda conforme o tipo  de combustivel"
      ]
    },
    {
      "cell_type": "code",
      "metadata": {
        "id": "ldvHzSXQpEi_",
        "colab_type": "code",
        "colab": {
          "base_uri": "https://localhost:8080/",
          "height": 281
        },
        "outputId": "d10de482-ab45-427d-bb98-48986db8b3cd"
      },
      "source": [
        "df_cars.Present_Price[df_cars.Fuel_Type == 'Diesel'][df_cars.Year == 2015].plot.density()#Laranja  \n",
        "df_cars.Present_Price[df_cars.Fuel_Type == 'Petrol'][df_cars.Year == 2015].plot.density()#Azul  \n",
        "df_cars.Present_Price[df_cars.Fuel_Type == 'Diesel'][df_cars.Year == 2016].plot.density()#Verde  \n",
        "df_cars.Present_Price[df_cars.Fuel_Type == 'Petrol'][df_cars.Year == 2016].plot.density()#Vermelho  \n",
        "df_cars.Present_Price[df_cars.Fuel_Type == 'Diesel'][df_cars.Year == 2014].plot.density()#Lilas  \n",
        "df_cars.Present_Price[df_cars.Fuel_Type == 'Petrol'][df_cars.Year == 2014].plot.density()#Marrom  \n",
        "df_cars.Present_Price[df_cars.Fuel_Type == 'Diesel'][df_cars.Year == 2013].plot.density()#Rosa \n",
        "df_cars.Present_Price[df_cars.Fuel_Type == 'Diesel'][df_cars.Year == 2013].plot.density()#Rosa"
      ],
      "execution_count": 127,
      "outputs": [
        {
          "output_type": "execute_result",
          "data": {
            "text/plain": [
              "<matplotlib.axes._subplots.AxesSubplot at 0x7f9b4011e710>"
            ]
          },
          "metadata": {
            "tags": []
          },
          "execution_count": 127
        },
        {
          "output_type": "display_data",
          "data": {
            "image/png": "[encoded data removed]",
            "text/plain": [
              "<Figure size 432x288 with 1 Axes>"
            ]
          },
          "metadata": {
            "tags": [],
            "needs_background": "light"
          }
        }
      ]
    },
    {
      "cell_type": "code",
      "metadata": {
        "id": "GHULaRDwpEjC",
        "colab_type": "code",
        "colab": {}
      },
      "source": [
        "df_cars = df_cars.assign(year_fuel = df_cars.apply(lambda x: '{}_{}'.format(x.Year, x.Fuel_Type), axis=1))"
      ],
      "execution_count": 128,
      "outputs": []
    },
    {
      "cell_type": "code",
      "metadata": {
        "id": "5sTY2LSCpEjF",
        "colab_type": "code",
        "colab": {
          "base_uri": "https://localhost:8080/",
          "height": 197
        },
        "outputId": "af02e2fa-778b-4452-b231-d9fb3c5e872a"
      },
      "source": [
        "df_cars.head()"
      ],
      "execution_count": 129,
      "outputs": [
        {
          "output_type": "execute_result",
          "data": {
            "text/html": [
              "<div>\n",
              "<style scoped>\n",
              "    .dataframe tbody tr th:only-of-type {\n",
              "        vertical-align: middle;\n",
              "    }\n",
              "\n",
              "    .dataframe tbody tr th {\n",
              "        vertical-align: top;\n",
              "    }\n",
              "\n",
              "    .dataframe thead th {\n",
              "        text-align: right;\n",
              "    }\n",
              "</style>\n",
              "<table border=\"1\" class=\"dataframe\">\n",
              "  <thead>\n",
              "    <tr style=\"text-align: right;\">\n",
              "      <th></th>\n",
              "      <th>Car_Name</th>\n",
              "      <th>Year</th>\n",
              "      <th>Selling_Price</th>\n",
              "      <th>Present_Price</th>\n",
              "      <th>Kms_Driven</th>\n",
              "      <th>Fuel_Type</th>\n",
              "      <th>Seller_Type</th>\n",
              "      <th>Transmission</th>\n",
              "      <th>Owner</th>\n",
              "      <th>price_discretized</th>\n",
              "      <th>year_fuel</th>\n",
              "    </tr>\n",
              "  </thead>\n",
              "  <tbody>\n",
              "    <tr>\n",
              "      <th>0</th>\n",
              "      <td>ritz</td>\n",
              "      <td>2014</td>\n",
              "      <td>3.35</td>\n",
              "      <td>5.59</td>\n",
              "      <td>27000</td>\n",
              "      <td>Petrol</td>\n",
              "      <td>Dealer</td>\n",
              "      <td>Manual</td>\n",
              "      <td>0</td>\n",
              "      <td>2.0</td>\n",
              "      <td>2014_Petrol</td>\n",
              "    </tr>\n",
              "    <tr>\n",
              "      <th>1</th>\n",
              "      <td>sx4</td>\n",
              "      <td>2013</td>\n",
              "      <td>4.75</td>\n",
              "      <td>9.54</td>\n",
              "      <td>43000</td>\n",
              "      <td>Diesel</td>\n",
              "      <td>Dealer</td>\n",
              "      <td>Manual</td>\n",
              "      <td>0</td>\n",
              "      <td>2.0</td>\n",
              "      <td>2013_Diesel</td>\n",
              "    </tr>\n",
              "    <tr>\n",
              "      <th>2</th>\n",
              "      <td>ciaz</td>\n",
              "      <td>2017</td>\n",
              "      <td>7.25</td>\n",
              "      <td>9.85</td>\n",
              "      <td>6900</td>\n",
              "      <td>Petrol</td>\n",
              "      <td>Dealer</td>\n",
              "      <td>Manual</td>\n",
              "      <td>0</td>\n",
              "      <td>3.0</td>\n",
              "      <td>2017_Petrol</td>\n",
              "    </tr>\n",
              "    <tr>\n",
              "      <th>3</th>\n",
              "      <td>wagon r</td>\n",
              "      <td>2011</td>\n",
              "      <td>2.85</td>\n",
              "      <td>4.15</td>\n",
              "      <td>5200</td>\n",
              "      <td>Petrol</td>\n",
              "      <td>Dealer</td>\n",
              "      <td>Manual</td>\n",
              "      <td>0</td>\n",
              "      <td>1.0</td>\n",
              "      <td>2011_Petrol</td>\n",
              "    </tr>\n",
              "    <tr>\n",
              "      <th>4</th>\n",
              "      <td>swift</td>\n",
              "      <td>2014</td>\n",
              "      <td>4.60</td>\n",
              "      <td>6.87</td>\n",
              "      <td>42450</td>\n",
              "      <td>Diesel</td>\n",
              "      <td>Dealer</td>\n",
              "      <td>Manual</td>\n",
              "      <td>0</td>\n",
              "      <td>2.0</td>\n",
              "      <td>2014_Diesel</td>\n",
              "    </tr>\n",
              "  </tbody>\n",
              "</table>\n",
              "</div>"
            ],
            "text/plain": [
              "  Car_Name  Year  Selling_Price  ...  Owner  price_discretized    year_fuel\n",
              "0     ritz  2014           3.35  ...      0                2.0  2014_Petrol\n",
              "1      sx4  2013           4.75  ...      0                2.0  2013_Diesel\n",
              "2     ciaz  2017           7.25  ...      0                3.0  2017_Petrol\n",
              "3  wagon r  2011           2.85  ...      0                1.0  2011_Petrol\n",
              "4    swift  2014           4.60  ...      0                2.0  2014_Diesel\n",
              "\n",
              "[5 rows x 11 columns]"
            ]
          },
          "metadata": {
            "tags": []
          },
          "execution_count": 129
        }
      ]
    },
    {
      "cell_type": "code",
      "metadata": {
        "id": "zOOaV7AvpEjJ",
        "colab_type": "code",
        "colab": {
          "base_uri": "https://localhost:8080/",
          "height": 287
        },
        "outputId": "e9c9af9e-0da5-49cf-cc60-148f393d07e2"
      },
      "source": [
        "df_cars.describe()"
      ],
      "execution_count": 130,
      "outputs": [
        {
          "output_type": "execute_result",
          "data": {
            "text/html": [
              "<div>\n",
              "<style scoped>\n",
              "    .dataframe tbody tr th:only-of-type {\n",
              "        vertical-align: middle;\n",
              "    }\n",
              "\n",
              "    .dataframe tbody tr th {\n",
              "        vertical-align: top;\n",
              "    }\n",
              "\n",
              "    .dataframe thead th {\n",
              "        text-align: right;\n",
              "    }\n",
              "</style>\n",
              "<table border=\"1\" class=\"dataframe\">\n",
              "  <thead>\n",
              "    <tr style=\"text-align: right;\">\n",
              "      <th></th>\n",
              "      <th>Year</th>\n",
              "      <th>Selling_Price</th>\n",
              "      <th>Present_Price</th>\n",
              "      <th>Kms_Driven</th>\n",
              "      <th>Owner</th>\n",
              "      <th>price_discretized</th>\n",
              "    </tr>\n",
              "  </thead>\n",
              "  <tbody>\n",
              "    <tr>\n",
              "      <th>count</th>\n",
              "      <td>276.000000</td>\n",
              "      <td>276.000000</td>\n",
              "      <td>276.000000</td>\n",
              "      <td>276.000000</td>\n",
              "      <td>276.000000</td>\n",
              "      <td>276.000000</td>\n",
              "    </tr>\n",
              "    <tr>\n",
              "      <th>mean</th>\n",
              "      <td>2013.750000</td>\n",
              "      <td>3.754928</td>\n",
              "      <td>6.011848</td>\n",
              "      <td>32120.913043</td>\n",
              "      <td>0.036232</td>\n",
              "      <td>1.543478</td>\n",
              "    </tr>\n",
              "    <tr>\n",
              "      <th>std</th>\n",
              "      <td>2.681757</td>\n",
              "      <td>3.067865</td>\n",
              "      <td>4.801373</td>\n",
              "      <td>20722.825248</td>\n",
              "      <td>0.187206</td>\n",
              "      <td>1.128923</td>\n",
              "    </tr>\n",
              "    <tr>\n",
              "      <th>min</th>\n",
              "      <td>2003.000000</td>\n",
              "      <td>0.100000</td>\n",
              "      <td>0.320000</td>\n",
              "      <td>500.000000</td>\n",
              "      <td>0.000000</td>\n",
              "      <td>0.000000</td>\n",
              "    </tr>\n",
              "    <tr>\n",
              "      <th>25%</th>\n",
              "      <td>2012.000000</td>\n",
              "      <td>0.750000</td>\n",
              "      <td>0.990000</td>\n",
              "      <td>15000.000000</td>\n",
              "      <td>0.000000</td>\n",
              "      <td>1.000000</td>\n",
              "    </tr>\n",
              "    <tr>\n",
              "      <th>50%</th>\n",
              "      <td>2014.000000</td>\n",
              "      <td>3.300000</td>\n",
              "      <td>5.835000</td>\n",
              "      <td>31213.500000</td>\n",
              "      <td>0.000000</td>\n",
              "      <td>2.000000</td>\n",
              "    </tr>\n",
              "    <tr>\n",
              "      <th>75%</th>\n",
              "      <td>2016.000000</td>\n",
              "      <td>5.675000</td>\n",
              "      <td>9.400000</td>\n",
              "      <td>45128.500000</td>\n",
              "      <td>0.000000</td>\n",
              "      <td>3.000000</td>\n",
              "    </tr>\n",
              "    <tr>\n",
              "      <th>max</th>\n",
              "      <td>2018.000000</td>\n",
              "      <td>12.900000</td>\n",
              "      <td>20.450000</td>\n",
              "      <td>92233.000000</td>\n",
              "      <td>1.000000</td>\n",
              "      <td>3.000000</td>\n",
              "    </tr>\n",
              "  </tbody>\n",
              "</table>\n",
              "</div>"
            ],
            "text/plain": [
              "              Year  Selling_Price  ...       Owner  price_discretized\n",
              "count   276.000000     276.000000  ...  276.000000         276.000000\n",
              "mean   2013.750000       3.754928  ...    0.036232           1.543478\n",
              "std       2.681757       3.067865  ...    0.187206           1.128923\n",
              "min    2003.000000       0.100000  ...    0.000000           0.000000\n",
              "25%    2012.000000       0.750000  ...    0.000000           1.000000\n",
              "50%    2014.000000       3.300000  ...    0.000000           2.000000\n",
              "75%    2016.000000       5.675000  ...    0.000000           3.000000\n",
              "max    2018.000000      12.900000  ...    1.000000           3.000000\n",
              "\n",
              "[8 rows x 6 columns]"
            ]
          },
          "metadata": {
            "tags": []
          },
          "execution_count": 130
        }
      ]
    },
    {
      "cell_type": "code",
      "metadata": {
        "id": "6r4mmF3Pqr_v",
        "colab_type": "code",
        "colab": {
          "base_uri": "https://localhost:8080/",
          "height": 227
        },
        "outputId": "555fd310-4434-4392-dafb-7d0f2b69f828"
      },
      "source": [
        "df_cars.corr()"
      ],
      "execution_count": 144,
      "outputs": [
        {
          "output_type": "execute_result",
          "data": {
            "text/html": [
              "<div>\n",
              "<style scoped>\n",
              "    .dataframe tbody tr th:only-of-type {\n",
              "        vertical-align: middle;\n",
              "    }\n",
              "\n",
              "    .dataframe tbody tr th {\n",
              "        vertical-align: top;\n",
              "    }\n",
              "\n",
              "    .dataframe thead th {\n",
              "        text-align: right;\n",
              "    }\n",
              "</style>\n",
              "<table border=\"1\" class=\"dataframe\">\n",
              "  <thead>\n",
              "    <tr style=\"text-align: right;\">\n",
              "      <th></th>\n",
              "      <th>Year</th>\n",
              "      <th>Selling_Price</th>\n",
              "      <th>Present_Price</th>\n",
              "      <th>Kms_Driven</th>\n",
              "      <th>Owner</th>\n",
              "      <th>price_discretized</th>\n",
              "    </tr>\n",
              "  </thead>\n",
              "  <tbody>\n",
              "    <tr>\n",
              "      <th>Year</th>\n",
              "      <td>1.000000</td>\n",
              "      <td>0.262513</td>\n",
              "      <td>-0.047475</td>\n",
              "      <td>-0.572450</td>\n",
              "      <td>-0.133071</td>\n",
              "      <td>0.254002</td>\n",
              "    </tr>\n",
              "    <tr>\n",
              "      <th>Selling_Price</th>\n",
              "      <td>0.262513</td>\n",
              "      <td>1.000000</td>\n",
              "      <td>0.864032</td>\n",
              "      <td>0.174966</td>\n",
              "      <td>-0.112818</td>\n",
              "      <td>0.916653</td>\n",
              "    </tr>\n",
              "    <tr>\n",
              "      <th>Present_Price</th>\n",
              "      <td>-0.047475</td>\n",
              "      <td>0.864032</td>\n",
              "      <td>1.000000</td>\n",
              "      <td>0.422975</td>\n",
              "      <td>-0.108382</td>\n",
              "      <td>0.843346</td>\n",
              "    </tr>\n",
              "    <tr>\n",
              "      <th>Kms_Driven</th>\n",
              "      <td>-0.572450</td>\n",
              "      <td>0.174966</td>\n",
              "      <td>0.422975</td>\n",
              "      <td>1.000000</td>\n",
              "      <td>-0.008381</td>\n",
              "      <td>0.193019</td>\n",
              "    </tr>\n",
              "    <tr>\n",
              "      <th>Owner</th>\n",
              "      <td>-0.133071</td>\n",
              "      <td>-0.112818</td>\n",
              "      <td>-0.108382</td>\n",
              "      <td>-0.008381</td>\n",
              "      <td>1.000000</td>\n",
              "      <td>-0.110542</td>\n",
              "    </tr>\n",
              "    <tr>\n",
              "      <th>price_discretized</th>\n",
              "      <td>0.254002</td>\n",
              "      <td>0.916653</td>\n",
              "      <td>0.843346</td>\n",
              "      <td>0.193019</td>\n",
              "      <td>-0.110542</td>\n",
              "      <td>1.000000</td>\n",
              "    </tr>\n",
              "  </tbody>\n",
              "</table>\n",
              "</div>"
            ],
            "text/plain": [
              "                       Year  Selling_Price  ...     Owner  price_discretized\n",
              "Year               1.000000       0.262513  ... -0.133071           0.254002\n",
              "Selling_Price      0.262513       1.000000  ... -0.112818           0.916653\n",
              "Present_Price     -0.047475       0.864032  ... -0.108382           0.843346\n",
              "Kms_Driven        -0.572450       0.174966  ... -0.008381           0.193019\n",
              "Owner             -0.133071      -0.112818  ...  1.000000          -0.110542\n",
              "price_discretized  0.254002       0.916653  ... -0.110542           1.000000\n",
              "\n",
              "[6 rows x 6 columns]"
            ]
          },
          "metadata": {
            "tags": []
          },
          "execution_count": 144
        }
      ]
    },
    {
      "cell_type": "code",
      "metadata": {
        "id": "QFE5mczurpgO",
        "colab_type": "code",
        "colab": {}
      },
      "source": [
        "#Variaveis globais dos modelos\n",
        "k = 5\n",
        "algs = ['linear_regression', 'lasso_regression']"
      ],
      "execution_count": 163,
      "outputs": []
    },
    {
      "cell_type": "code",
      "metadata": {
        "id": "19Tt1ovYpEjL",
        "colab_type": "code",
        "colab": {}
      },
      "source": [
        "def build_features(df_train, df_test):\n",
        "    categories = list(df_cars.year_fuel.unique())#Necessário pois no treino pode haver categorias defirentes do teste\n",
        "    #ohe_year_fuel = OneHotEncoder(sparse=False, categories=[categories])\n",
        "    ohe_year_fuel = OneHotEncoder(sparse=False, handle_unknown='ignore')\n",
        "    x_train_ohe = ohe_year_fuel.fit_transform(df_train[['year_fuel']])\n",
        "    x_test_ohe = ohe_year_fuel.transform(df_test[['year_fuel']])\n",
        "\n",
        "    mms = MinMaxScaler()\n",
        "    x_train_quant = mms.fit_transform(df_train[['Present_Price']])\n",
        "    x_test_quant = mms.transform(df_test[['Present_Price']])\n",
        "    x_train = np.hstack([x_train_ohe, x_train_quant])\n",
        "    x_test = np.hstack([x_test_ohe, x_test_quant])\n",
        "\n",
        "    y_train = df_train.Selling_Price.values.reshape(-1, 1)\n",
        "    y_test = df_test.Selling_Price.values.reshape(-1, 1)\n",
        "\n",
        "    return x_train, y_train, x_test, y_test\n"
      ],
      "execution_count": 160,
      "outputs": []
    },
    {
      "cell_type": "code",
      "metadata": {
        "id": "_Ltn-cJ3pEjO",
        "colab_type": "code",
        "colab": {}
      },
      "source": [
        "def build_models(alg):\n",
        "    model = None\n",
        "    if alg == 'linear_regression':\n",
        "        model = LinearRegression()\n",
        "    elif alg == 'lasso_regression':\n",
        "        model = GridSearchCV(\n",
        "            Lasso(normalize=True),\n",
        "            param_grid={\n",
        "                'alpha': np.linspace(0, 5, num=50)\n",
        "            },\n",
        "            scoring='neg_mean_absolute_error',\n",
        "            n_jobs=-1,\n",
        "            cv = KFold(n_splits=k, shuffle=True)\n",
        "        )\n",
        "    return model     "
      ],
      "execution_count": 161,
      "outputs": []
    },
    {
      "cell_type": "code",
      "metadata": {
        "id": "CIg6XkXApEjT",
        "colab_type": "code",
        "colab": {
          "base_uri": "https://localhost:8080/",
          "height": 836
        },
        "outputId": "af3a7258-d7d1-476c-a411-57527bbc2b03"
      },
      "source": [
        "cv = KFold(n_splits=k, shuffle=True)\n",
        "mean_mae = np.zeros(shape=(len(algs), k, 2))\n",
        "mean_r2 = np.zeros(shape=(len(algs), k, 2))\n",
        "for alg_index, alg in enumerate(algs):\n",
        "    for fold, (train, test) in enumerate(cv.split(df_cars)):\n",
        "        df_train = df_cars.iloc[train]\n",
        "        df_test = df_cars.iloc[test]\n",
        "\n",
        "        # computar as features\n",
        "        x_train, y_train, x_test, y_test = build_features(df_train, df_test)\n",
        "        \n",
        "        # treinar o modelo\n",
        "        model = build_models(alg)\n",
        "        model.fit(x_train, y_train)\n",
        "        \n",
        "        # coletar os resultados\n",
        "        y_pred_train = model.predict(x_train)\n",
        "        mean_mae[alg_index, fold, 0] = mean_absolute_error(y_train, y_pred_train)\n",
        "        mean_r2[alg_index, fold, 0] = r2_score(y_train, y_pred_train)\n",
        "\n",
        "        y_pred_test = model.predict(x_test)\n",
        "        mean_mae[alg_index, fold, 1] = mean_absolute_error(y_test, y_pred_test)\n",
        "        mean_r2[alg_index, fold, 1] = r2_score(y_test, y_pred_test)\n",
        "\n",
        "    # apresentar os resultados\n",
        "    print('-' * 50)\n",
        "    print('Algoritmo:', alg)\n",
        "    print('-' * 50)\n",
        "    print('Treino - Média MAE: ', mean_mae[alg_index, :,0].mean())\n",
        "    print('Teste - Média MAE: ', mean_mae[alg_index, :,1].mean())\n",
        "    print('-' * 50)\n",
        "    print('Treino - Média R2: ', mean_r2[alg_index, :,0].mean())\n",
        "    print('Teste - Média R2: ', mean_r2[alg_index, :,1].mean())\n",
        "    print()\n"
      ],
      "execution_count": 165,
      "outputs": [
        {
          "output_type": "stream",
          "text": [
            "--------------------------------------------------\n",
            "Algoritmo: linear_regression\n",
            "--------------------------------------------------\n",
            "Treino - Média MAE:  0.7754009707164001\n",
            "Teste - Média MAE:  897742528977.1101\n",
            "--------------------------------------------------\n",
            "Treino - Média R2:  0.886162373437996\n",
            "Teste - Média R2:  -6.041108577159574e+24\n",
            "\n"
          ],
          "name": "stdout"
        },
        {
          "output_type": "stream",
          "text": [
            "/usr/local/lib/python3.6/dist-packages/sklearn/model_selection/_search.py:739: UserWarning: With alpha=0, this algorithm does not converge well. You are advised to use the LinearRegression estimator\n",
            "  self.best_estimator_.fit(X, y, **fit_params)\n",
            "/usr/local/lib/python3.6/dist-packages/sklearn/linear_model/_coordinate_descent.py:476: UserWarning: Coordinate descent with no regularization may lead to unexpected results and is discouraged.\n",
            "  positive)\n",
            "/usr/local/lib/python3.6/dist-packages/sklearn/linear_model/_coordinate_descent.py:476: ConvergenceWarning: Objective did not converge. You might want to increase the number of iterations. Duality gap: 108.79594127203444, tolerance: 0.20815565296803654\n",
            "  positive)\n",
            "/usr/local/lib/python3.6/dist-packages/sklearn/model_selection/_search.py:739: UserWarning: With alpha=0, this algorithm does not converge well. You are advised to use the LinearRegression estimator\n",
            "  self.best_estimator_.fit(X, y, **fit_params)\n",
            "/usr/local/lib/python3.6/dist-packages/sklearn/linear_model/_coordinate_descent.py:476: UserWarning: Coordinate descent with no regularization may lead to unexpected results and is discouraged.\n",
            "  positive)\n",
            "/usr/local/lib/python3.6/dist-packages/sklearn/linear_model/_coordinate_descent.py:476: ConvergenceWarning: Objective did not converge. You might want to increase the number of iterations. Duality gap: 121.78211113341627, tolerance: 0.20423593406392698\n",
            "  positive)\n",
            "/usr/local/lib/python3.6/dist-packages/sklearn/model_selection/_search.py:739: UserWarning: With alpha=0, this algorithm does not converge well. You are advised to use the LinearRegression estimator\n",
            "  self.best_estimator_.fit(X, y, **fit_params)\n",
            "/usr/local/lib/python3.6/dist-packages/sklearn/linear_model/_coordinate_descent.py:476: UserWarning: Coordinate descent with no regularization may lead to unexpected results and is discouraged.\n",
            "  positive)\n",
            "/usr/local/lib/python3.6/dist-packages/sklearn/linear_model/_coordinate_descent.py:476: ConvergenceWarning: Objective did not converge. You might want to increase the number of iterations. Duality gap: 116.62162501196816, tolerance: 0.20197052684931505\n",
            "  positive)\n",
            "/usr/local/lib/python3.6/dist-packages/sklearn/model_selection/_search.py:739: UserWarning: With alpha=0, this algorithm does not converge well. You are advised to use the LinearRegression estimator\n",
            "  self.best_estimator_.fit(X, y, **fit_params)\n",
            "/usr/local/lib/python3.6/dist-packages/sklearn/linear_model/_coordinate_descent.py:476: UserWarning: Coordinate descent with no regularization may lead to unexpected results and is discouraged.\n",
            "  positive)\n",
            "/usr/local/lib/python3.6/dist-packages/sklearn/linear_model/_coordinate_descent.py:476: ConvergenceWarning: Objective did not converge. You might want to increase the number of iterations. Duality gap: 111.70092571888298, tolerance: 0.21168579652968034\n",
            "  positive)\n"
          ],
          "name": "stderr"
        },
        {
          "output_type": "stream",
          "text": [
            "--------------------------------------------------\n",
            "Algoritmo: lasso_regression\n",
            "--------------------------------------------------\n",
            "Treino - Média MAE:  0.7739117923175602\n",
            "Teste - Média MAE:  0.8693544396608397\n",
            "--------------------------------------------------\n",
            "Treino - Média R2:  0.8859186124804708\n",
            "Teste - Média R2:  0.847962090244281\n",
            "\n"
          ],
          "name": "stdout"
        },
        {
          "output_type": "stream",
          "text": [
            "/usr/local/lib/python3.6/dist-packages/sklearn/model_selection/_search.py:739: UserWarning: With alpha=0, this algorithm does not converge well. You are advised to use the LinearRegression estimator\n",
            "  self.best_estimator_.fit(X, y, **fit_params)\n",
            "/usr/local/lib/python3.6/dist-packages/sklearn/linear_model/_coordinate_descent.py:476: UserWarning: Coordinate descent with no regularization may lead to unexpected results and is discouraged.\n",
            "  positive)\n",
            "/usr/local/lib/python3.6/dist-packages/sklearn/linear_model/_coordinate_descent.py:476: ConvergenceWarning: Objective did not converge. You might want to increase the number of iterations. Duality gap: 122.85731705550697, tolerance: 0.19563433709090916\n",
            "  positive)\n"
          ],
          "name": "stderr"
        }
      ]
    }
  ]
}